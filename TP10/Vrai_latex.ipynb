{
 "cells": [
  {
   "cell_type": "markdown",
   "metadata": {},
   "source": [
    "# Exercice 1\n",
    "\n",
    "Soit n $\\in$ $\\mathbb{N^*}$. On découpe $\\mathbb{Z}$ selon les restes possibles dans la division euclidienne par n. On définit la $\\textit{classe d’équivalence}$ de r $\\in$ $[\\![0, n − 1]\\!]$ par :   \n",
    "\n",
    "$$\\boxed{\\overline{r} = \\{p \\in \\mathbb{Z} \\quad tel\\quad que\\quad p \\equiv r[n]\\}} $$\n",
    "\n",
    "Cette partie de $\\mathbb{Z}$ contient les entiers dont le reste dans la division euclidienne par $\\textit{n}$ est $\\textit{r}$. Le représentant d’une classe n’est pas unique, avec par exemple :\n",
    "\n",
    "$$\\overline{1} = \\overline{n + 1} = \\overline{2n + 1} = \\overline{1 − n} = . . .$$\n",
    "On définit deux opérations sur les classes :\n",
    "\n",
    "$$\\boxed{\\forall (p,q) \\in \\mathbb{Z}^{2}, \\left\\{\n",
    "    \\begin{array}{ll}\n",
    "        \\overline{p} + \\overline{q} = \\overline{p} + \\overline{q} \\\\\n",
    "        \\overline{p} × \\overline{q} = \\overline{p × q}\n",
    "    \\end{array}\n",
    "\\right.}$$\n",
    "#### Histoire d'horloge\n",
    "L'ensemble $\\mathbb{Z}/12\\mathbb{Z}$ peut se comprendre en jouant avec la petite aiguille d’une horloge analogique.\n",
    "$\\rightarrow$ Si l’aiguille des heures est sur 2 et que 13 heures passent, l’aiguille des heures est sur 3. Par le calcul :\n",
    "$$\\boxed{\\overline{2} + \\overline{13} = \\overline{15} = \\overline{13}}$$\n",
    "$\\rightarrow$ → Si l’aiguille des heures est sur midi et qu’elle se déplace de trois heures en trois heures, elle est sur 9 au bout de 7 étapes (ou 19, 31, 43 et ainsi de suite). Par le calcul : \n",
    "$$\\boxed{3 × 7 = 21 = 9}$$ \n",
    "\n",
    "→ Si l’aiguille des heures est sur midi et qu’elle se déplace de cinq heures en cinq heures, il est possible d’atterrir sur 1 au bout de 5 étapes (ou 17, 29, 41 et ainsi de suite). Par le calcul :\n",
    "$$\\boxed{\\overline{5} × \\overline{5} = \\overline{25} = 1 }$$\n",
    "On dit que $\\overline{5}$ est la classe **inverse** de $\\overline{5}$ et on note $\\overline{5}^{−1}$ = $\\overline{5}$.\n",
    "\n",
    "#### Votre mission\n",
    "Vous disposez d’une horloge un peu particulière : le $\\textit{pas}$ de l’aiguille des minutes est réglable. Par\n",
    "exemple, avec un pas de 4, l’aiguille initialement sur 0 se retrouve en 4 après une minute, en 8 après\n",
    "deux minutes et ainsi de suite.\n",
    "\n",
    "<div class=\"text-primary\">\n",
    "Déterminer les pas qui permettent d’avoir (au bout d’un nombre d’étapes à préciser) l’aiguille des minutes\n",
    "sur 1 sachant qu’elle était initialement sur 0. Par exemple :\n",
    "→ 7 est un pas possible. On atterrit sur 1 au bout de 43 étapes.\n",
    "→ 6 n’est pas un pas possible. On ne pourra jamais finir sur 1 en partant de 0 et en sautant de 6\n",
    "minutes en 6 minutes.\n",
    "Sauriez-vous dire quelle est la particularité des nombres trouvés ?\n",
    "</div>\n"
   ]
  },
  {
   "cell_type": "code",
   "execution_count": 55,
   "metadata": {},
   "outputs": [
    {
     "name": "stdout",
     "output_type": "stream",
     "text": [
      "→ 1 est un pas possible. On atterrit sur 1 après 1 étapes.\n",
      "→ 7 est un pas possible. On atterrit sur 1 après 43 étapes.\n",
      "→ 11 est un pas possible. On atterrit sur 1 après 11 étapes.\n",
      "→ 13 est un pas possible. On atterrit sur 1 après 37 étapes.\n",
      "→ 17 est un pas possible. On atterrit sur 1 après 53 étapes.\n",
      "→ 19 est un pas possible. On atterrit sur 1 après 19 étapes.\n",
      "→ 23 est un pas possible. On atterrit sur 1 après 47 étapes.\n",
      "→ 29 est un pas possible. On atterrit sur 1 après 29 étapes.\n",
      "→ 31 est un pas possible. On atterrit sur 1 après 31 étapes.\n",
      "→ 37 est un pas possible. On atterrit sur 1 après 13 étapes.\n",
      "→ 41 est un pas possible. On atterrit sur 1 après 41 étapes.\n",
      "→ 43 est un pas possible. On atterrit sur 1 après 7 étapes.\n",
      "→ 47 est un pas possible. On atterrit sur 1 après 23 étapes.\n",
      "→ 49 est un pas possible. On atterrit sur 1 après 49 étapes.\n",
      "→ 53 est un pas possible. On atterrit sur 1 après 17 étapes.\n",
      "→ 59 est un pas possible. On atterrit sur 1 après 59 étapes.\n",
      "\n",
      "\n",
      "Quand on regarde la liste des pas remise ci-dessous :\n",
      "[1, 7, 11, 13, 17, 19, 23, 29, 31, 37, 41, 43, 47, 49, 53, 59]\n",
      "\n",
      "On remarque qu'il s'agit des nombres premiers de 1 jusque 59.\n"
     ]
    }
   ],
   "source": [
    "# Fonction qui donne les pas permettant d’avoir l’aiguille des minutes\n",
    "# sur 1 sachant qu’elle était initialement sur 0.\n",
    "\n",
    "def customClock(stepRange):\n",
    "    allValidPas = []  # Liste des pas qui donnent l'aiguille des minutes sur 1\n",
    "    allValidEtape = [] # Liste des étapes requises pour chaques pas\n",
    "    for pas in range(60):\n",
    "        step = 0  # Compte le nombre d'étapes pour chaque pas\n",
    "        reste = 0 # Reste de la division des étapes et des pas par 60\n",
    "        \n",
    "        # On arrête à 1000 étapes en cas d'erreurs/boucles infinies\n",
    "        # et on cherche tant que le reste ne vaut pas 1\n",
    "        while(step <= 1000 and reste != stepRange):\n",
    "            reste = ((step*pas)%60)\n",
    "            if(reste == stepRange): # Vérifie si après les tours, on retombe sur 1\n",
    "                allValidPas.append(pas) # Dans ce cas on ajoute le pas à la liste de ceux valide\n",
    "            step+=1\n",
    "        allValidEtape.insert(pas, step-1)\n",
    "            \n",
    "    for pas in allValidPas:  # exprimé comme sur l'énoncé\n",
    "        print(\"→ \" + str(pas) + \" est un pas possible. On atterrit sur \" +\n",
    "              str(stepRange) + \" après \" + str(allValidEtape[pas]) + \" étapes.\")\n",
    "    \n",
    "    print(\"\\n\\nQuand on regarde la liste des pas remise ci-dessous :\")\n",
    "    print(allValidPas)\n",
    "    print(\"\\nOn remarque qu'il s'agit des nombres premiers de 1 jusque 59.\")\n",
    "\n",
    "customClock(1)\n",
    "    \n",
    "    # NB : Cela concerne le cas précis où l'aiguille des minutes est sur 1.\n",
    "    # En effet, avec l'aiguille sur 2 par exemple soit customClock(2), nous aurions eu\n",
    "    # des pas qui fonctionnent mais sans être premiers pour autant, comme 14, 22, etc..."
   ]
  },
  {
   "attachments": {},
   "cell_type": "markdown",
   "metadata": {},
   "source": [
    "# Exercice 2 : autour d’applications\n",
    "\n",
    "On s’intéresse maintenant à des applications entre ensembles finis, que l’on peut implémenter à l’aide de tableaux associatifs appelés $\\textit{dictionnaires}$ en python. Un exemple d’application de $\\textit{{a, b, c, d}}$ vers $[\\![1,7]\\!]$ est :"
   ]
  },
  {
   "cell_type": "code",
   "execution_count": 1,
   "metadata": {},
   "outputs": [],
   "source": [
    "f = {\"a\": 1, \"b\": 2, \"c\": 7, \"d\": 3}"
   ]
  },
  {
   "attachments": {},
   "cell_type": "markdown",
   "metadata": {},
   "source": [
    "\n",
    "À chaque $\\textit{champ}$ (élément de l’espace de départ, type string) $\\textit{est associé une valeur}$ (élément de l’espace d’arrivée, pas de type imposé). Pour évaluer la fonction f sur un élément du domaine, on utilise l’opération $\\textit{crochets}$."
   ]
  },
  {
   "cell_type": "code",
   "execution_count": 3,
   "metadata": {},
   "outputs": [
    {
     "data": {
      "text/plain": [
       "2"
      ]
     },
     "execution_count": 3,
     "metadata": {},
     "output_type": "execute_result"
    }
   ],
   "source": [
    "f[\"b\"]"
   ]
  },
  {
   "cell_type": "code",
   "execution_count": 4,
   "metadata": {},
   "outputs": [],
   "source": [
    "def two_line_repr(f: dict):   \n",
    "    res = \"[ \"   \n",
    "    # keys() are dictionnaries entries \n",
    "    for x in f.keys():       \n",
    "        # pad = number of spaces between two keys \n",
    "        pad = (len(str(f[x])) - len(str(x))) * \" \" if len(str(f[x])) > len(str(x)) else \"\"\n",
    "        res += pad + str(x) + \" \"\n",
    "    res += \"]\\n[ \"  \n",
    "    for x in f.keys():\n",
    "        pad = (len(str(x)) - len(str(f[x]))) * \" \" if len(str(x)) > len(str(f[x])) else \"\"\n",
    "        res += pad + str(f[x]) + \" \"       \n",
    "    res += \"]\"   \n",
    "    print(res)"
   ]
  },
  {
   "cell_type": "code",
   "execution_count": 5,
   "metadata": {},
   "outputs": [
    {
     "name": "stdout",
     "output_type": "stream",
     "text": [
      "[ a b c d ]\n",
      "[ 1 2 7 3 ]\n"
     ]
    }
   ],
   "source": [
    "two_line_repr(f)"
   ]
  },
  {
   "attachments": {},
   "cell_type": "markdown",
   "metadata": {},
   "source": [
    "#### Partie 1 : composition\n",
    "\n",
    "Soient (A, B, C) trois ensembles finis et f : A → B et g : B → C deux applications. On peut définir l’application composée g ◦ f par :\n",
    "\n",
    "$$\\boxed{\\forall a ∈ A, (g ◦ f)(a) = g (f(a))}$$\n",
    "\n",
    "avec f(a) un élément de B donc dans le domaine de définition de g (ouf).<div class=\"text-primary\"> Définir une fonction `comp(f,g)` qui prend en argument deux fonctions f et g données sous forme de dictionnaire et renvoie l’application composée. Une erreur est affichée si les fonctions ne sont pas composables. Vérifier sur quelques exemples que vous avez le fonctionnement attendu.\n",
    "</div>"
   ]
  },
  {
   "cell_type": "code",
   "execution_count": 7,
   "metadata": {},
   "outputs": [],
   "source": [
    "def comp(g: dict, f: dict) -> dict:\n",
    "    '''Cette fonction renvoie la composition de deux applications (g o f))'''\n",
    "    # On recupere les ensembles de sortie et d'entree\n",
    "    ensemble_sortie = set(f.values())\n",
    "    ensemble_entree = set(g.keys())\n",
    "    # On verifie que l'ensemble de sortie est inclus dans l'ensemble d'entree\n",
    "    if not ensemble_sortie.issubset(ensemble_entree):\n",
    "        # Dans le cas contraire, on leve une exception pour indiquer que les deux fonctions ne sont pas compatibles\n",
    "        raise Exception(\"Les deux fonctions ne sont pas compatibles\")\n",
    "    res = dict()\n",
    "    # On parcourt les elements de l'ensemble d'entree de f\n",
    "    for x in f.keys():\n",
    "        # On créé une nouvelle application qui associe a chaque element de l'ensemble d'entree de f l'image de cet element par g\n",
    "        res[x] = g[f[x]]\n",
    "    return res"
   ]
  },
  {
   "cell_type": "code",
   "execution_count": 9,
   "metadata": {},
   "outputs": [
    {
     "data": {
      "text/plain": [
       "{'a': 'a', 'b': 'b', 'c': 'c'}"
      ]
     },
     "execution_count": 9,
     "metadata": {},
     "output_type": "execute_result"
    }
   ],
   "source": [
    "# Test de la fonction\n",
    "a = {\"a\": 1, \"b\": 2, \"c\": 3}\n",
    "b = {1: \"a\", 2: \"b\", 3: \"c\"}\n",
    "\n",
    "# b o a\n",
    "# a -> 1 -> a\n",
    "# b -> 2 -> b\n",
    "# c -> 3 -> c\n",
    "comp(b, a)"
   ]
  },
  {
   "attachments": {},
   "cell_type": "markdown",
   "metadata": {},
   "source": [
    "#### Partie 2 : générer les fonctions\n",
    "<br>\n",
    "\n",
    "<div class=\"text-primary\">\n",
    "Définir une fonction (récursive si vous le souhaitez) all_func(n) prenant en argument un entier n et renvoyant une liste de toutes les fonctions de $[\\![1, n]\\!]$ dans lui-même. En vous rappelant votre cours sur le dénombrement, vérifier que vous obtenez le bon nombre d’applications.\n",
    "</div>"
   ]
  },
  {
   "cell_type": "code",
   "execution_count": 11,
   "metadata": {},
   "outputs": [],
   "source": [
    "# Pour créer toutes les applications de {1, ..., n} dans {1, ..., n}, on va utiliser un compteur n-aire sur n bits\n",
    "# On commence par initialiser le compteur a [1, ..., 1]\n",
    "# Puis on incremente le compteur de 1 en partant de la droite jusqu'a ce que le compteur soit [n, ..., n]\n",
    "# On ajoutera a chaque fois le compteur a la liste des applications\n",
    "def all_func(n: int) -> list[dict]:\n",
    "    '''Cette fonction renvoie la liste de toutes les applications de {1, ..., n} dans {1, ..., n}'''\n",
    "    res = list()\n",
    "    counter = [1] * n # On initialise le compteur a [1, ..., 1]\n",
    "    while counter[0] <= n: # Tant que le compteur n'est pas [n, ..., n]\n",
    "        res.append(dict())\n",
    "        for i in range(n): # On itere sur les elements du compteur\n",
    "            res[-1][i + 1] = counter[i] # On ajoute a la derniere application de la liste la paire (i + 1, counter[i])\n",
    "        counter[-1] += 1 # On incremente le compteur de 1\n",
    "        for i in range(n - 1, 0, -1): # On parcourt le compteur de la droite vers la gauche\n",
    "            if counter[i] > n: # Si on depasse n, on remet a 1 et on incremente le compteur de 1 a gauche\n",
    "                counter[i] = 1 \n",
    "                counter[i - 1] += 1\n",
    "    return res"
   ]
  },
  {
   "cell_type": "code",
   "execution_count": 15,
   "metadata": {},
   "outputs": [
    {
     "name": "stdout",
     "output_type": "stream",
     "text": [
      "Nombre d'applications de {1, ..., 3} dans {1, ..., 3}: 27\n",
      "Quelques applications: [{1: 1, 2: 1, 3: 1}, {1: 1, 2: 1, 3: 2}, {1: 1, 2: 1, 3: 3}, {1: 1, 2: 2, 3: 1}, {1: 1, 2: 2, 3: 2}]\n"
     ]
    }
   ],
   "source": [
    "# Test de la fonction\n",
    "n = 3\n",
    "all = all_func(n)\n",
    "\n",
    "print(f\"Nombre d'applications de {{1, ..., {n}}} dans {{1, ..., {n}}}: {len(all)}\")\n",
    "print(f\"Quelques applications: {all[:5]}\")"
   ]
  },
  {
   "attachments": {},
   "cell_type": "markdown",
   "metadata": {},
   "source": [
    "#### Partie 3: associativité\n",
    "\n",
    "Soient quatre ensembles A, B, C, D et trois applications f : A → B, g : B → C et h : C → D. La composition d’applications est une opération **associative** c’est-à-dire qu’il n’y a pas d’ambiguïtés pour calculer la composée h ◦ g ◦ f. Faire h ◦ (g ◦ f) ou (h ◦ g) ◦ f (qui sont les seules possibilités de calcul de h ◦ g ◦ f) donne le même résultat.\n",
    "\n",
    "<br>\n",
    "<div class=\"text-primary\">\n",
    "On note $F_n$ l'ensemble des applications de $[\\![1,n]\\!]$ dans $[\\![1,n]\\!]$.\n",
    "\n",
    "1. Vérifier de manière brute l’associativité de la composition sur l’intégralité de $F_3$. Même question pour $F_4$.\n",
    "2. En vous basant sur le temps d’exécution pour tester l’associativité de ◦ dans $F_4$, estimer le temps que prendrait la vérification brute de l’associativité de ◦ dans $F_5$. (Pour chronométrer l’éxécution d’une cellule, il suffit d’ajouter **%%time** sur la première ligne)\n",
    "</div>"
   ]
  },
  {
   "cell_type": "code",
   "execution_count": 16,
   "metadata": {},
   "outputs": [],
   "source": [
    "def is_associative(f: dict, g: dict, h: dict) -> bool:\n",
    "    '''Cette fonction renvoie True si la composition de trois applications est associative, False sinon'''\n",
    "    return comp(f, comp(g, h)) == comp(comp(f, g), h)"
   ]
  },
  {
   "cell_type": "code",
   "execution_count": 17,
   "metadata": {},
   "outputs": [
    {
     "data": {
      "text/plain": [
       "True"
      ]
     },
     "execution_count": 17,
     "metadata": {},
     "output_type": "execute_result"
    }
   ],
   "source": [
    "# Test de la fonction\n",
    "a = {\"a\": 1, \"b\": 2, \"c\": 3}\n",
    "b = {1: \"a\", 2: \"b\", 3: \"c\"}\n",
    "c = {\"a\": 1, \"b\": 2, \"c\": 3}\n",
    "\n",
    "is_associative(a, b, c)"
   ]
  },
  {
   "cell_type": "code",
   "execution_count": 20,
   "metadata": {},
   "outputs": [
    {
     "name": "stdout",
     "output_type": "stream",
     "text": [
      "CPU times: user 1min 21s, sys: 2.89 ms, total: 1min 21s\n",
      "Wall time: 1min 21s\n"
     ]
    }
   ],
   "source": [
    "%%time\n",
    "# On teste toutes les applications de {1, ..., 4} dans {1, ..., 4} pour voir si elles sont associatives\n",
    "all = all_func(4)\n",
    "for f in all:\n",
    "    for g in all:\n",
    "        for h in all:\n",
    "            if not is_associative(f, g, h):\n",
    "                print(\"not associative\")\n",
    "                two_line_repr(f)\n",
    "                two_line_repr(g)\n",
    "                two_line_repr(h)\n",
    "                break"
   ]
  },
  {
   "cell_type": "code",
   "execution_count": 31,
   "metadata": {},
   "outputs": [
    {
     "name": "stdout",
     "output_type": "stream",
     "text": [
      "Temps pour 5: 2425 minutes\n"
     ]
    }
   ],
   "source": [
    "# Pour 4, on a 256 applications, donc 256^3 = 16 777 216 tests qui ont pris 1min 20s (80s)\n",
    "s_test = 80 / 256**3\n",
    "# Pour 5, on a 3125 applications, donc 3125^3 = 305 175 781 \n",
    "time_5 = (5**5)**3 * s_test\n",
    "print(f\"Temps pour 5: {int(time_5 / 60)} minutes\")"
   ]
  },
  {
   "attachments": {},
   "cell_type": "markdown",
   "metadata": {},
   "source": [
    "#### Partie 4 : applications symétrisables\n",
    "\n",
    "Une application $\\textit{symétrisable}$ est une application **bijective** c’est-à-dire qui peut se lire sans ambiguïtés dans les deux sens. Une application finie bijective est **nécessairement** (mais pas suffisamment) une application entre deux ensembles de même cardinal. \n",
    "<div class=\"text-primary\">\n",
    "Déterminer par force brute le nombre d’éléments de Fn qui sont symétrisables pour n ≥ 5. Le résultat n’était-il pas prédictible ?\n",
    "</div>"
   ]
  },
  {
   "cell_type": "code",
   "execution_count": 37,
   "metadata": {},
   "outputs": [],
   "source": [
    "# L'application est bijective si elle est surjective et injective\n",
    "def is_symmetric(f: dict) -> bool:\n",
    "    # Un set ne peut contenir qu'un seul element identique donc si la taille du set des valeurs est egale au nombre de clefs, alors l'application est bijective\n",
    "    return len(set(f.values())) == len(f.values())"
   ]
  },
  {
   "cell_type": "code",
   "execution_count": 39,
   "metadata": {},
   "outputs": [
    {
     "name": "stdout",
     "output_type": "stream",
     "text": [
      "[ 1 2 3 ]\n",
      "[ 1 2 3 ]\n",
      "-------------\n",
      "[ 1 2 3 ]\n",
      "[ 1 3 2 ]\n",
      "-------------\n",
      "[ 1 2 3 ]\n",
      "[ 2 1 3 ]\n",
      "-------------\n",
      "[ 1 2 3 ]\n",
      "[ 2 3 1 ]\n",
      "-------------\n",
      "[ 1 2 3 ]\n",
      "[ 3 1 2 ]\n",
      "-------------\n",
      "[ 1 2 3 ]\n",
      "[ 3 2 1 ]\n",
      "-------------\n",
      "Nombre d'applications symetriques: 6\n"
     ]
    }
   ],
   "source": [
    "all = all_func(3)\n",
    "count = 0\n",
    "for f in all:\n",
    "    if is_symmetric(f):\n",
    "        count += 1\n",
    "        two_line_repr(f)\n",
    "        print(\"-------------\")\n",
    "        \n",
    "print(f\"Nombre d'applications symetriques: {count}\")"
   ]
  },
  {
   "attachments": {},
   "cell_type": "markdown",
   "metadata": {},
   "source": [
    "#### Partie 5 : applications qui commutent \n",
    "\n",
    "Soit (f, g) ∈ $F^{2}_{n}$ . On dit que f et g commutent si et seulement si f ◦ g = g ◦ f. \n",
    "<div class=\"text-primary\">\n",
    "Déterminer le nombre de paires (f, g) ∈ $F^{2}_{n}$ qui commutent pour n ≥ 5. En utilisant https://oeis.org/, donner le nombres de paires dans le cas n $\\geq$ 6.\n",
    "</div>"
   ]
  },
  {
   "cell_type": "code",
   "execution_count": 40,
   "metadata": {},
   "outputs": [],
   "source": [
    "def is_commutative(f: dict, g: dict) -> bool:\n",
    "    return comp(f, g) == comp(g, f)"
   ]
  },
  {
   "cell_type": "code",
   "execution_count": 41,
   "metadata": {},
   "outputs": [
    {
     "name": "stdout",
     "output_type": "stream",
     "text": [
      "Nombre d'applications commutatives de {1, ..., 2} dans {1, ..., 2}: 10\n",
      "Nombre d'applications commutatives de {1, ..., 3} dans {1, ..., 3}: 141\n",
      "Nombre d'applications commutatives de {1, ..., 4} dans {1, ..., 4}: 2824\n",
      "Nombre d'applications commutatives de {1, ..., 5} dans {1, ..., 5}: 71565\n"
     ]
    }
   ],
   "source": [
    "for i in range(2, 6):\n",
    "    all = all_func(i)\n",
    "    count = 0\n",
    "    for f in all:\n",
    "        for g in all:\n",
    "            if is_commutative(f, g):\n",
    "                count += 1\n",
    "    print(f\"Nombre d'applications commutatives de {{1, ..., {i}}} dans {{1, ..., {i}}}: {count}\")"
   ]
  },
  {
   "attachments": {},
   "cell_type": "markdown",
   "metadata": {},
   "source": [
    "Le nombre d'application qui commute pour n<17 [ici](https://oeis.org/A181162)  \n",
    "Pour n = 6, on à 2244096 qui commute"
   ]
  },
  {
   "attachments": {},
   "cell_type": "markdown",
   "metadata": {},
   "source": [
    "#### Partie 6 : orbites \n",
    "\n",
    "On définit $\\textit{l’orbite}$ de l’élément x ∈ $[\\![1, n]\\!]$ par l’application f ∈ $F_n$ l’ensemble des itérés :\n",
    "\n",
    "$$\\boxed{orbite_f (x) = \\{x, \\quad f(x),\\quad (f ◦ f)(x),\\quad(f ◦ f ◦ f)(x),\\quad . . .\\}}$$\n",
    "**Important** : l’ensemble d’arrivée de f étant fini, la suite des valeurs ($f^{n}(x))_{n≥1}$ finit nécessairement par boucler. On a du coup :\n",
    "\n",
    "$$\\boxed{\\forall(x, f) \\in [\\![1,n]\\!] × F_{n} : |orbite_{f (x)}|\\in [\\![1, n+1]\\!]}$$\n",
    "\n",
    "<br>\n",
    "<div class=\"text-primary\">\n",
    "1. Définir une fonction orb(f,x) renvoyant l’orbite de x par f sous forme de liste.\n",
    "<br>\n",
    "2. Évaluer la taille moyenne de l’orbite d’une fonction f ∈ $F_7$ grâce à la formule : \n",
    "    $$\\frac{1}{F_{7}} \\sum_{f \\in F_{7}} \\Biggr[\\sum_{x = 1}^{7} \\frac{|orbite_{f (x)}|}{7}\\Biggr]$$\n",
    "</div>"
   ]
  },
  {
   "cell_type": "code",
   "execution_count": 45,
   "metadata": {},
   "outputs": [],
   "source": [
    "def orbite(f: dict, x: int) -> set:\n",
    "    '''Cette fonction renvoie l'orbite de x par l'application f'''\n",
    "    res = set()\n",
    "    res.add(x)\n",
    "    # On ajoute f(x) a l'orbite, puis f(f(x)), puis f(f(f(x))), etc..., jusqu'a ce que f(f(...(x))) soit deja dans l'orbite\n",
    "    while True:\n",
    "        x = f[x]\n",
    "        if x in res:\n",
    "            return res\n",
    "        res.add(x)"
   ]
  },
  {
   "cell_type": "code",
   "execution_count": 44,
   "metadata": {},
   "outputs": [
    {
     "data": {
      "text/plain": [
       "{1, 2, 3}"
      ]
     },
     "execution_count": 44,
     "metadata": {},
     "output_type": "execute_result"
    }
   ],
   "source": [
    "f = {1:2, 2:3, 3:1}\n",
    "orbite(f, 1)"
   ]
  },
  {
   "cell_type": "code",
   "execution_count": 46,
   "metadata": {},
   "outputs": [],
   "source": [
    "# 7∑ x=1 |orbitef (x)| /7 \n",
    "\n",
    "def average_orbite(f: dict) -> float:\n",
    "    '''Cette fonction renvoie la moyenne des orbites de l'application f'''\n",
    "    res = 0\n",
    "    for x in f.keys():\n",
    "        res += len(orbite(f, x))\n",
    "    return res\n",
    "\n"
   ]
  },
  {
   "cell_type": "code",
   "execution_count": 54,
   "metadata": {},
   "outputs": [
    {
     "name": "stdout",
     "output_type": "stream",
     "text": [
      "Orbite moyenne: 355081/117649\n"
     ]
    },
    {
     "data": {
      "text/plain": [
       "3"
      ]
     },
     "execution_count": 54,
     "metadata": {},
     "output_type": "execute_result"
    }
   ],
   "source": [
    "n = 7\n",
    "all = all_func(n)\n",
    "av = 0\n",
    "for f in all:\n",
    "    av += average_orbite(f)\n",
    "\n",
    "print(f\"Orbite moyenne: {av/len(all)}\")\n",
    "int(av/len(all))"
   ]
  },
  {
   "cell_type": "markdown",
   "metadata": {},
   "source": [
    "# Exercice bonus : retour à l’arithmétique modulaire\n",
    "\\usepackage{xcolor}\n",
    "Une manière de générer des nombres pseudo-aléatoires est d’utiliser un générateur congruentiel linéaire.\n",
    "1. on se fixe un entier naturel non nul n appelé le **module**\n",
    "2. on se donne un entier naturel $x_0$ appelé **graine**\n",
    "3. on se donne deux entiers naturels (a, b) appelés **paramètres**\n",
    "4. on construit la suite ($x_k$) par récurrence selon :\n",
    "\n",
    "\n",
    "$$\\boxed{x_{k+1} = ax_k + b \\quad mod \\quad n CAC}$$\n",
    "\n",
    "qui se lit : \n",
    "\n",
    "$$\\boxed{x_{k+1}\\quad est\\quad le\\quad reste\\quad dans\\quad la\\quad division\\quad euclidienne\\quad par\\quad n\\quad de\\quad ax_k + b}$$\n",
    "\n",
    "C’est une manière de dire que l’on travaille avec les représentants principaux (ceux dans $[\\![0, n - 1]\\!]$) dans la structure algébrique ($\\mathbb{Z}/n\\mathbb{Z}$, ×). En python, l’opération mod est %.\n",
    "\n",
    "#### Exponentation modulaire\n",
    "\n",
    "La commande pow de sage permet de faire de l’exponentiation modulaire. Ci-dessous, on vérifie que 3 = $3^3$ mod 12 et 5 = $5^{−1}$ mod 12 que l’on traduirait dans $\\mathbb{Z}/12\\mathbb{Z}$ par $\\overline{3}^{3} = \\overline{27} = \\overline{3} \\quad et  \\quad \\overline{5}^{−1} = \\overline{5}.$   \n",
    "```py\n",
    "pow (3 ,3 , mod =12) # print 3 \n",
    "pow (5 , -1 , mod =12) # print 5\n",
    "```\n",
    "\n",
    "#### Suite arithmético-géométrique\n",
    "\n",
    "On cherche une définition explicite de la suite ($x_k$). Pour cela :\n",
    "— on détermine le point fixe de la fonction f : x $\\longmapsto$ ax + b mod n. Il s’agit de $x_p$ ∈ $[\\![0, n-1]\\!]$ tel que $x_p = f(x_p)$ mod n. On le calcule selon :\n",
    "$$\\boxed{x_p = −b(a − 1)^{−1}\\quad mod \\quad n}$$\n",
    "Ici, $(a − 1)^{−1}$ est l’inverse modulo n de (a − 1) c’est-à-dire que $(a − 1)$(a − 1)$^{−1}$ = 1 mod n\n",
    "\n",
    "— On pose ($v_k$) la suite de terme général $v_k = v_k − x_p$. La relation $x_{k+1} = ax_k$ + b mod n donne :\n",
    "\n",
    "$$\\boxed{∀k ∈ \\mathbb{N}, v_{k+1} = av_k\\quad mod\\quad n}$$\n",
    "— La suite ($v_k$) est géométrique de raison a donc :\n",
    "$$\\boxed{∀k ∈ \\mathbb{N}, v_k = a^k v_0}$$\n",
    "soit :\n",
    "\n",
    "$$\\boxed{∀k ∈ \\mathbb{N}, x_k = a^k (x_0 − x_p) + x_{p}\\quad mod \\quad n}$$\n",
    "\n",
    "#### Votre mission\n",
    "<br>\n",
    "<div class=\"text-primary\">\n",
    "Soient trois nombres générés consécutivement selon le générateur de module n = 21247 :\n",
    "\n",
    "$$x_{1 = 1936}\\quad x_2 = 12586 \\quad x_3 = 8850$$\n",
    "\n",
    "Retrouver la graine $x_0$ et les paramètres (a, b) du générateur.\n",
    "</div>"
   ]
  }
 ],
 "metadata": {
  "kernelspec": {
   "display_name": "SageMath 9.6",
   "language": "sage",
   "name": "sagemath"
  },
  "language_info": {
   "codemirror_mode": {
    "name": "ipython",
    "version": 3
   },
   "file_extension": ".py",
   "mimetype": "text/x-python",
   "name": "python",
   "nbconvert_exporter": "python",
   "pygments_lexer": "ipython3",
   "version": "3.10.9"
  }
 },
 "nbformat": 4,
 "nbformat_minor": 2
}
