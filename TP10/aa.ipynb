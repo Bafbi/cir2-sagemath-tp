{
 "cells": [
  {
   "cell_type": "code",
   "execution_count": 1,
   "metadata": {},
   "outputs": [],
   "source": [
    "def two_line_repr(f: dict):\n",
    "    \n",
    "    res = \"[ \"\n",
    "    \n",
    "    # keys() are dictionnaries entries \n",
    "    for x in f.keys():\n",
    "        \n",
    "        # pad = number of spaces between two keys \n",
    "        pad = (len(str(f[x])) - len(str(x))) * \" \" if len(str(f[x])) > len(str(x)) else \"\"\n",
    "        res += pad + str(x) + \" \"\n",
    "    res += \"]\\n[ \"\n",
    "    \n",
    "    for x in f.keys():\n",
    "        pad = (len(str(x)) - len(str(f[x]))) * \" \" if len(str(x)) > len(str(f[x])) else \"\"\n",
    "        res += pad + str(f[x]) + \" \"\n",
    "        \n",
    "    res += \"]\"\n",
    "    \n",
    "    print(res)\n"
   ]
  },
  {
   "cell_type": "code",
   "execution_count": 2,
   "metadata": {},
   "outputs": [
    {
     "name": "stdout",
     "output_type": "stream",
     "text": [
      "[ a b c ]\n",
      "[ 1 3 2 ]\n"
     ]
    }
   ],
   "source": [
    "a = {\"a\":\"1\", \"b\":\"3\", \"c\":\"2\"}\n",
    "\n",
    "two_line_repr(a)\n"
   ]
  },
  {
   "cell_type": "code",
   "execution_count": 33,
   "metadata": {},
   "outputs": [],
   "source": [
    "def comp(g: dict, f: dict) -> dict:\n",
    "    ensemble_sortie = set(f.values())\n",
    "    ensemble_entree = set(g.keys())\n",
    "    # print(ensemble_sortie, ensemble_entree)\n",
    "    # test if the enssemble_sortie is a subset of ensemble_entree\n",
    "    if not ensemble_sortie.issubset(ensemble_entree):\n",
    "        raise Exception(\"Les deux fonctions ne sont pas compatibles\")\n",
    "    # if ensemble_sortie != ensemble_entree:\n",
    "    #     raise Exception(\"Les deux fonctions ne sont pas compatibles\")\n",
    "    res = dict()\n",
    "    for x in f.keys():\n",
    "        res[x] = g[f[x]]\n",
    "    return res"
   ]
  },
  {
   "cell_type": "code",
   "execution_count": 29,
   "metadata": {},
   "outputs": [
    {
     "name": "stdout",
     "output_type": "stream",
     "text": [
      "{'1', '2', '3'} {'1', '2', '3'}\n",
      "[ a b c ]\n",
      "[ 4 6 1 ]\n"
     ]
    }
   ],
   "source": [
    "a = {\"a\":\"1\", \"b\":\"3\", \"c\":\"2\"}\n",
    "b = {\"1\":4, \"2\":1, \"3\":6}\n",
    "c = comp(b, a)\n",
    "\n",
    "two_line_repr(c)"
   ]
  },
  {
   "cell_type": "code",
   "execution_count": 30,
   "metadata": {},
   "outputs": [],
   "source": [
    "# n-nary counter\n",
    "# rstart with a dict of 1s of size n, that index from 1 to n\n",
    "# then add 1 to the last element of the list and if it is greater than n, set it to 1 and add 1 to the previous element\n",
    "# add the list to the result\n",
    "\n",
    "def all_func(n: int) -> list[dict]:\n",
    "    res = list()\n",
    "    counter = [1] * n\n",
    "    while counter[0] <= n:\n",
    "        res.append(dict())\n",
    "        for i in range(n):\n",
    "            res[-1][i + 1] = counter[i]\n",
    "        counter[-1] += 1\n",
    "        for i in range(n - 1, 0, -1):\n",
    "            if counter[i] > n:\n",
    "                counter[i] = 1\n",
    "                counter[i - 1] += 1\n",
    "    return res\n",
    "        "
   ]
  },
  {
   "cell_type": "code",
   "execution_count": 31,
   "metadata": {},
   "outputs": [
    {
     "name": "stdout",
     "output_type": "stream",
     "text": [
      "27\n",
      "[ 1 2 3 ]\n",
      "[ 1 1 1 ]\n",
      "-------------\n",
      "[ 1 2 3 ]\n",
      "[ 1 1 2 ]\n",
      "-------------\n",
      "[ 1 2 3 ]\n",
      "[ 1 1 3 ]\n",
      "-------------\n",
      "[ 1 2 3 ]\n",
      "[ 1 2 1 ]\n",
      "-------------\n",
      "[ 1 2 3 ]\n",
      "[ 1 2 2 ]\n",
      "-------------\n",
      "[ 1 2 3 ]\n",
      "[ 1 2 3 ]\n",
      "-------------\n",
      "[ 1 2 3 ]\n",
      "[ 1 3 1 ]\n",
      "-------------\n",
      "[ 1 2 3 ]\n",
      "[ 1 3 2 ]\n",
      "-------------\n",
      "[ 1 2 3 ]\n",
      "[ 1 3 3 ]\n",
      "-------------\n",
      "[ 1 2 3 ]\n",
      "[ 2 1 1 ]\n",
      "-------------\n",
      "[ 1 2 3 ]\n",
      "[ 2 1 2 ]\n",
      "-------------\n",
      "[ 1 2 3 ]\n",
      "[ 2 1 3 ]\n",
      "-------------\n",
      "[ 1 2 3 ]\n",
      "[ 2 2 1 ]\n",
      "-------------\n",
      "[ 1 2 3 ]\n",
      "[ 2 2 2 ]\n",
      "-------------\n",
      "[ 1 2 3 ]\n",
      "[ 2 2 3 ]\n",
      "-------------\n",
      "[ 1 2 3 ]\n",
      "[ 2 3 1 ]\n",
      "-------------\n",
      "[ 1 2 3 ]\n",
      "[ 2 3 2 ]\n",
      "-------------\n",
      "[ 1 2 3 ]\n",
      "[ 2 3 3 ]\n",
      "-------------\n",
      "[ 1 2 3 ]\n",
      "[ 3 1 1 ]\n",
      "-------------\n",
      "[ 1 2 3 ]\n",
      "[ 3 1 2 ]\n",
      "-------------\n",
      "[ 1 2 3 ]\n",
      "[ 3 1 3 ]\n",
      "-------------\n",
      "[ 1 2 3 ]\n",
      "[ 3 2 1 ]\n",
      "-------------\n",
      "[ 1 2 3 ]\n",
      "[ 3 2 2 ]\n",
      "-------------\n",
      "[ 1 2 3 ]\n",
      "[ 3 2 3 ]\n",
      "-------------\n",
      "[ 1 2 3 ]\n",
      "[ 3 3 1 ]\n",
      "-------------\n",
      "[ 1 2 3 ]\n",
      "[ 3 3 2 ]\n",
      "-------------\n",
      "[ 1 2 3 ]\n",
      "[ 3 3 3 ]\n",
      "-------------\n"
     ]
    }
   ],
   "source": [
    "d = all_func(3)\n",
    "print(len(d))\n",
    "for x in d:\n",
    "    two_line_repr(x)\n",
    "    print(\"-------------\")\n"
   ]
  },
  {
   "cell_type": "code",
   "execution_count": 7,
   "metadata": {},
   "outputs": [],
   "source": [
    "def is_associative(f: dict, g: dict, h: dict) -> bool:\n",
    "    return comp(f, comp(g, h)) == comp(comp(f, g), h)"
   ]
  },
  {
   "cell_type": "code",
   "execution_count": 11,
   "metadata": {},
   "outputs": [
    {
     "name": "stdout",
     "output_type": "stream",
     "text": [
      "{1: 2, 2: 2, 3: 2}\n",
      "{1: 2, 2: 2, 3: 2}\n"
     ]
    },
    {
     "data": {
      "text/plain": [
       "True"
      ]
     },
     "execution_count": 11,
     "metadata": {},
     "output_type": "execute_result"
    }
   ],
   "source": [
    "a = {1:2, 2:1, 3:2}\n",
    "b = {1:3, 2:1, 3:3}\n",
    "c = {1:1, 2:2, 3:3}\n",
    "print(comp(a, comp(b, c)))\n",
    "print(comp(comp(a, b), c))\n",
    "\n",
    "is_associative(a, b, c)"
   ]
  },
  {
   "cell_type": "code",
   "execution_count": 34,
   "metadata": {},
   "outputs": [
    {
     "name": "stdout",
     "output_type": "stream",
     "text": [
      "CPU times: user 242 ms, sys: 1.87 ms, total: 244 ms\n",
      "Wall time: 243 ms\n"
     ]
    }
   ],
   "source": [
    "%%time\n",
    "d = all_func(3)\n",
    "for f in d:\n",
    "    for g in d:\n",
    "        for h in d:\n",
    "            if not is_associative(f, g, h):\n",
    "                print(\"not associative\")\n",
    "                two_line_repr(f)\n",
    "                two_line_repr(g)\n",
    "                two_line_repr(h)\n",
    "                break"
   ]
  },
  {
   "cell_type": "code",
   "execution_count": 15,
   "metadata": {},
   "outputs": [],
   "source": [
    "def is_symmetric(f: dict) -> bool:\n",
    "    return comp(f, f) == f\n"
   ]
  },
  {
   "cell_type": "code",
   "execution_count": 19,
   "metadata": {},
   "outputs": [
    {
     "name": "stdout",
     "output_type": "stream",
     "text": [
      "[ 1 2 3 ]\n",
      "[ 1 1 2 ]\n",
      "-------------\n",
      "[ 1 2 3 ]\n",
      "[ 1 3 1 ]\n",
      "-------------\n",
      "[ 1 2 3 ]\n",
      "[ 1 3 2 ]\n",
      "-------------\n",
      "[ 1 2 3 ]\n",
      "[ 2 1 1 ]\n",
      "-------------\n",
      "[ 1 2 3 ]\n",
      "[ 2 1 2 ]\n",
      "-------------\n",
      "[ 1 2 3 ]\n",
      "[ 2 1 3 ]\n",
      "-------------\n",
      "[ 1 2 3 ]\n",
      "[ 2 2 1 ]\n",
      "-------------\n",
      "[ 1 2 3 ]\n",
      "[ 2 3 1 ]\n",
      "-------------\n",
      "[ 1 2 3 ]\n",
      "[ 2 3 2 ]\n",
      "-------------\n",
      "[ 1 2 3 ]\n",
      "[ 2 3 3 ]\n",
      "-------------\n",
      "[ 1 2 3 ]\n",
      "[ 3 1 1 ]\n",
      "-------------\n",
      "[ 1 2 3 ]\n",
      "[ 3 1 2 ]\n",
      "-------------\n",
      "[ 1 2 3 ]\n",
      "[ 3 1 3 ]\n",
      "-------------\n",
      "[ 1 2 3 ]\n",
      "[ 3 2 1 ]\n",
      "-------------\n",
      "[ 1 2 3 ]\n",
      "[ 3 2 2 ]\n",
      "-------------\n",
      "[ 1 2 3 ]\n",
      "[ 3 3 1 ]\n",
      "-------------\n",
      "[ 1 2 3 ]\n",
      "[ 3 3 2 ]\n",
      "-------------\n",
      "17\n"
     ]
    }
   ],
   "source": [
    "d = all_func(3)\n",
    "count = 0\n",
    "for f in d:\n",
    "    if not is_symmetric(f):\n",
    "        count += 1\n",
    "        two_line_repr(f)\n",
    "        print(\"-------------\")\n",
    "        \n",
    "print(count)"
   ]
  },
  {
   "cell_type": "code",
   "execution_count": 20,
   "metadata": {},
   "outputs": [],
   "source": [
    "def is_commutative(f: dict, g: dict) -> bool:\n",
    "    return comp(f, g) == comp(g, f)\n",
    "\n"
   ]
  },
  {
   "cell_type": "code",
   "execution_count": 21,
   "metadata": {},
   "outputs": [],
   "source": [
    "d = all_func(3)\n"
   ]
  },
  {
   "cell_type": "code",
   "execution_count": 22,
   "metadata": {},
   "outputs": [],
   "source": [
    "def orbite(f: dict, x: int) -> set:\n",
    "    res = set()\n",
    "    res.add(x)\n",
    "    while True:\n",
    "        x = f[x]\n",
    "        if x in res:\n",
    "            return res\n",
    "        res.add(x)"
   ]
  },
  {
   "cell_type": "code",
   "execution_count": 23,
   "metadata": {},
   "outputs": [
    {
     "data": {
      "text/plain": [
       "{1, 2, 3}"
      ]
     },
     "execution_count": 23,
     "metadata": {},
     "output_type": "execute_result"
    }
   ],
   "source": [
    "f = {1:2, 2:3, 3:1}\n",
    "orbite(f, 1)"
   ]
  },
  {
   "cell_type": "code",
   "execution_count": null,
   "metadata": {},
   "outputs": [],
   "source": []
  }
 ],
 "metadata": {
  "kernelspec": {
   "display_name": "SageMath 9.6",
   "language": "sage",
   "name": "sagemath"
  },
  "language_info": {
   "codemirror_mode": {
    "name": "ipython",
    "version": 3
   },
   "file_extension": ".py",
   "mimetype": "text/x-python",
   "name": "python",
   "nbconvert_exporter": "python",
   "pygments_lexer": "ipython3",
   "version": "3.10.9"
  },
  "orig_nbformat": 4
 },
 "nbformat": 4,
 "nbformat_minor": 2
}
