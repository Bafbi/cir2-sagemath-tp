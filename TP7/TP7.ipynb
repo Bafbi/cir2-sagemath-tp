{
 "cells": [
  {
   "cell_type": "code",
   "execution_count": 29,
   "id": "2bf2e893",
   "metadata": {
    "vscode": {
     "languageId": "python"
    }
   },
   "outputs": [
    {
     "name": "stdout",
     "output_type": "stream",
     "text": [
      "31\n"
     ]
    }
   ],
   "source": [
    "def u ( n ) :\n",
    "    # input : an integer n\n",
    "    # stop condition -> extremely important\n",
    "    if n == 1:\n",
    "        return 1\n",
    "    # recursive call\n",
    "    else :\n",
    "        return 2 * u (n -1) +1\n",
    "print ( u (5) ) # should print 120... but why ?"
   ]
  },
  {
   "attachments": {},
   "cell_type": "markdown",
   "id": "c17bc6c1",
   "metadata": {},
   "source": [
    "EXO1\n",
    "\n",
    "1) Si on a les suites binaire de taille n, pour avoir celle de taille n+1, il suffit de rajouter 0 a chacune de nos suite de taille n, puis d'ajouter nos suites avec 1 en plus."
   ]
  },
  {
   "cell_type": "code",
   "execution_count": 125,
   "id": "115d78c7",
   "metadata": {
    "vscode": {
     "languageId": "python"
    }
   },
   "outputs": [],
   "source": [
    "#function that return a suite of binary tuples\n",
    "def suite ( n ) :\n",
    "    # input : an integer n\n",
    "    # stop condition -> extremely important\n",
    "    if n == 1:\n",
    "        return [(0,),(1,)]\n",
    "    # recursive call\n",
    "    else :\n",
    "        # get the previous suite\n",
    "        previous_suite = suite (n -1)\n",
    "        # create the new suite\n",
    "        new_suite = []\n",
    "        for tuple in previous_suite :\n",
    "            new_suite.append ( tuple + (0,) )\n",
    "            new_suite.append ( tuple + (1,) )\n",
    "        return new_suite"
   ]
  },
  {
   "cell_type": "code",
   "execution_count": 128,
   "id": "362ed490",
   "metadata": {
    "vscode": {
     "languageId": "python"
    }
   },
   "outputs": [
    {
     "name": "stdout",
     "output_type": "stream",
     "text": [
      "Pour une taille de 5, on obtient une suite de 32 tuples binaires : [(0, 0, 0, 0, 0), (0, 0, 0, 0, 1), (0, 0, 0, 1, 0), (0, 0, 0, 1, 1), (0, 0, 1, 0, 0), (0, 0, 1, 0, 1), (0, 0, 1, 1, 0), (0, 0, 1, 1, 1), (0, 1, 0, 0, 0), (0, 1, 0, 0, 1), (0, 1, 0, 1, 0), (0, 1, 0, 1, 1), (0, 1, 1, 0, 0), (0, 1, 1, 0, 1), (0, 1, 1, 1, 0), (0, 1, 1, 1, 1), (1, 0, 0, 0, 0), (1, 0, 0, 0, 1), (1, 0, 0, 1, 0), (1, 0, 0, 1, 1), (1, 0, 1, 0, 0), (1, 0, 1, 0, 1), (1, 0, 1, 1, 0), (1, 0, 1, 1, 1), (1, 1, 0, 0, 0), (1, 1, 0, 0, 1), (1, 1, 0, 1, 0), (1, 1, 0, 1, 1), (1, 1, 1, 0, 0), (1, 1, 1, 0, 1), (1, 1, 1, 1, 0), (1, 1, 1, 1, 1)]\n"
     ]
    }
   ],
   "source": [
    "lenght = 5\n",
    "print(f\"Pour une taille de {lenght}, on obtient une suite de {len(suite(5))} tuples binaires : {suite(5)}\")\n"
   ]
  },
  {
   "attachments": {},
   "cell_type": "markdown",
   "id": "f6771d21",
   "metadata": {},
   "source": [
    "3) La réponse semble evidente, puisque avec 5 chiffre binaire on peux écrire 32 nombres differents"
   ]
  },
  {
   "attachments": {},
   "cell_type": "markdown",
   "id": "d34b5bae",
   "metadata": {},
   "source": [
    "EXO2\n",
    "\n",
    "1) On prend nos parties d'ensemble auquelle on rajoute nos parties d'ensemble avec un 3 ajouté a chaque parties"
   ]
  },
  {
   "cell_type": "code",
   "execution_count": 130,
   "id": "9c2347ad",
   "metadata": {
    "vscode": {
     "languageId": "python"
    }
   },
   "outputs": [],
   "source": [
    "#a function that return all the subpartitions of a list\n",
    "def parties ( list : list ) :\n",
    "    # input : a list\n",
    "    # stop condition -> extremely important\n",
    "    if len (list) == 1:\n",
    "        return [list] + [[]]\n",
    "    # recursive call\n",
    "    else :\n",
    "        # get the previous suite\n",
    "        previous_suite = parties (list [1:])\n",
    "        print(previous_suite)\n",
    "        # create the new suite\n",
    "        new_suite = []\n",
    "        for subpartition in previous_suite :\n",
    "            new_suite.append ( [list [0]] + subpartition )\n",
    "            new_suite.append ( subpartition )\n",
    "        \n",
    "        return new_suite\n",
    "    "
   ]
  },
  {
   "cell_type": "code",
   "execution_count": 137,
   "id": "785e6ab0",
   "metadata": {
    "vscode": {
     "languageId": "python"
    }
   },
   "outputs": [
    {
     "name": "stdout",
     "output_type": "stream",
     "text": [
      "[[4], []]\n",
      "[[3, 4], [4], [3], []]\n",
      "[[2, 3, 4], [3, 4], [2, 4], [4], [2, 3], [3], [2], []]\n",
      "Pour la liste [1, 2, 3, 4], on obtient les 16 parties suivantes : [[1, 2, 3, 4], [2, 3, 4], [1, 3, 4], [3, 4], [1, 2, 4], [2, 4], [1, 4], [4], [1, 2, 3], [2, 3], [1, 3], [3], [1, 2], [2], [1], []]\n",
      "16\n"
     ]
    }
   ],
   "source": [
    "ensemble = [1,2,3,4]\n",
    "parties_calculees = parties(ensemble)\n",
    "print(f\"Pour la liste {ensemble}, on obtient les {len(parties_calculees)} parties suivantes : {parties_calculees}\")\n",
    "print(2**len(ensemble))"
   ]
  },
  {
   "cell_type": "markdown",
   "id": "466355f0",
   "metadata": {},
   "source": []
  },
  {
   "cell_type": "code",
   "execution_count": 107,
   "id": "27a362ea",
   "metadata": {
    "vscode": {
     "languageId": "python"
    }
   },
   "outputs": [],
   "source": [
    "#return all subpartitions of a certain length of a list\n",
    "def subpartitions_of_length ( list : list , length : int ) :\n",
    "    # input : a list\n",
    "    subpartitions_list = subpartitions (list)\n",
    "    # return the subpartitions of the right length\n",
    "    return [subpartition for subpartition in subpartitions_list if len (subpartition) == length]"
   ]
  },
  {
   "cell_type": "code",
   "execution_count": 121,
   "id": "b34573cd",
   "metadata": {
    "vscode": {
     "languageId": "python"
    }
   },
   "outputs": [
    {
     "name": "stdout",
     "output_type": "stream",
     "text": [
      "[[4], []]\n",
      "[[3, 4], [4], [3], []]\n",
      "[[2, 3, 4], [3, 4], [2, 4], [4], [2, 3], [3], [2], []]\n",
      "4 parties of length 3 in [1, 2, 3, 4] : [[2, 3, 4], [1, 3, 4], [1, 2, 4], [1, 2, 3]]\n"
     ]
    }
   ],
   "source": [
    "length = 3\n",
    "ensemble = [1,2,3,4]\n",
    "parties = subpartitions_of_length (ensemble, length)\n",
    "size = binomial(len(ensemble),length)\n",
    "\n",
    "print(f\"{size} parties of length {length} in {ensemble} : {parties}\")\n"
   ]
  },
  {
   "cell_type": "code",
   "execution_count": null,
   "id": "546dd712",
   "metadata": {
    "vscode": {
     "languageId": "python"
    }
   },
   "outputs": [],
   "source": []
  }
 ],
 "metadata": {
  "kernelspec": {
   "display_name": "SageMath 9.6",
   "language": "sage",
   "name": "sagemath"
  },
  "language_info": {
   "codemirror_mode": {
    "name": "ipython",
    "version": 3
   },
   "file_extension": ".py",
   "mimetype": "text/x-python",
   "name": "sage",
   "nbconvert_exporter": "python",
   "pygments_lexer": "ipython3",
   "version": "3.10.9"
  }
 },
 "nbformat": 4,
 "nbformat_minor": 5
}
