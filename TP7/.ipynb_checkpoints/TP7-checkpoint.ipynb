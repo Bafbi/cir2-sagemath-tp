{
 "cells": [
  {
   "cell_type": "code",
   "execution_count": null,
   "id": "3ec45e9a",
   "metadata": {},
   "outputs": [],
   "source": [
    "def u ( n ) :\n",
    "    # input : an integer n\n",
    "    # stop condition -> extremely important\n",
    "    if n == 0:\n",
    "        return 1\n",
    "    # recursive call\n",
    "    else :\n",
    "        return n * u (n -1)\n",
    "print ( u (5) ) # should print 120... but why ?"
   ]
  }
 ],
 "metadata": {
  "kernelspec": {
   "display_name": "SageMath 9.6",
   "language": "sage",
   "name": "sagemath"
  },
  "language_info": {
   "codemirror_mode": {
    "name": "ipython",
    "version": 3
   },
   "file_extension": ".py",
   "mimetype": "text/x-python",
   "name": "python",
   "nbconvert_exporter": "python",
   "pygments_lexer": "ipython3",
   "version": "3.10.9"
  }
 },
 "nbformat": 4,
 "nbformat_minor": 5
}
