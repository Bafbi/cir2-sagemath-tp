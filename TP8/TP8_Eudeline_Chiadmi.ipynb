{
 "cells": [
  {
   "cell_type": "code",
   "execution_count": 7,
   "metadata": {},
   "outputs": [
    {
     "data": {
      "text/plain": [
       "<class 'sage.rings.power_series_poly.PowerSeries_poly'>"
      ]
     },
     "execution_count": 7,
     "metadata": {},
     "output_type": "execute_result"
    }
   ],
   "source": [
    "R.<x> = PowerSeriesRing(QQ)\n",
    "\n",
    "type(exp(x))"
   ]
  },
  {
   "cell_type": "code",
   "execution_count": 8,
   "metadata": {},
   "outputs": [
    {
     "data": {
      "text/plain": [
       "1 - x + x^2 - x^3 + x^4 - x^5 + x^6 - x^7 + x^8 - x^9 + x^10 - x^11 + x^12 - x^13 + x^14 - x^15 + x^16 - x^17 + x^18 - x^19 + O(x^20)"
      ]
     },
     "execution_count": 8,
     "metadata": {},
     "output_type": "execute_result"
    }
   ],
   "source": [
    "1/(1+x)"
   ]
  },
  {
   "cell_type": "code",
   "execution_count": 9,
   "metadata": {},
   "outputs": [
    {
     "data": {
      "text/plain": [
       "1 + 2*x + 3*x^2 + 4*x^3 + 5*x^4 + 6*x^5"
      ]
     },
     "execution_count": 9,
     "metadata": {},
     "output_type": "execute_result"
    }
   ],
   "source": [
    "f= R([1..6])\n",
    "\n",
    "f"
   ]
  },
  {
   "cell_type": "code",
   "execution_count": 10,
   "metadata": {},
   "outputs": [
    {
     "data": {
      "text/plain": [
       "1 + x + 2*x^2 + 3*x^3 + 5*x^4 + 8*x^5 + 13*x^6 + 21*x^7 + 34*x^8 + 55*x^9 + 89*x^10 + 144*x^11 + 233*x^12 + 377*x^13 + 610*x^14 + 987*x^15 + 1597*x^16 + 2584*x^17 + 4181*x^18 + 6765*x^19 + O(x^20)"
      ]
     },
     "execution_count": 10,
     "metadata": {},
     "output_type": "execute_result"
    }
   ],
   "source": [
    "F = 1/(1-x-x^2)\n",
    "F"
   ]
  },
  {
   "cell_type": "code",
   "execution_count": 14,
   "metadata": {},
   "outputs": [
    {
     "data": {
      "text/plain": [
       "11"
      ]
     },
     "execution_count": 14,
     "metadata": {},
     "output_type": "execute_result"
    }
   ],
   "source": [
    "R.<x> = PowerSeriesRing(QQ, 50)\n",
    "(1/(1 -x^1) * 1/(1-x^1)).padded_list()[10]"
   ]
  },
  {
   "cell_type": "code",
   "execution_count": 12,
   "metadata": {},
   "outputs": [],
   "source": [
    "# nb_repartition([2, 3], 42)"
   ]
  },
  {
   "attachments": {},
   "cell_type": "markdown",
   "metadata": {},
   "source": [
    "EXO 1"
   ]
  },
  {
   "cell_type": "code",
   "execution_count": 10,
   "metadata": {},
   "outputs": [],
   "source": [
    "def nb_repartition(paquets: list[int], n: int) -> int:\n",
    "    \"\"\"\n",
    "    Trouve le nombre de façons de répartir n biscuits en utilisant des paquets de tailles données.\n",
    "    \n",
    "    Parameters:\n",
    "        n (int): Le nombre de biscuits à répartir.\n",
    "        paquets (List[int]): La liste des tailles de paquets disponibles.\n",
    "    \n",
    "    Returns:\n",
    "        int: Le nombre de façons de répartir les biscuits.\n",
    "    \"\"\"\n",
    "    R.<x> = PowerSeriesRing(QQ, n+1)\n",
    "    f = 1\n",
    "    for p in paquets:\n",
    "        f *= 1/(1 - x^p)\n",
    "    return f.padded_list()[n]\n"
   ]
  },
  {
   "attachments": {},
   "cell_type": "markdown",
   "metadata": {},
   "source": [
    "1) En utilisant la fonction nb_repartition(), on peut déterminer le nombre de façons de répartir 10 biscuits entre deux personnes :"
   ]
  },
  {
   "cell_type": "code",
   "execution_count": 4,
   "metadata": {},
   "outputs": [
    {
     "name": "stdout",
     "output_type": "stream",
     "text": [
      "Le résultat est 11, qui est le nombre de façons de répartir 10 biscuits entre deux personnes en utilisant des paquets de 1 biscuit. Cela est cohérent avec la technique combinatoire usuelle de compter les combinaisons de n éléments pris deux à deux.\n"
     ]
    }
   ],
   "source": [
    "# 1.a Si on suppose que tous les biscuits soient distribués par paquets de 1, on peut utiliser la fonction comme suit :\n",
    "result = nb_repartition([1,1], 10)\n",
    "print(f\"Le résultat est {result}, qui est le nombre de façons de répartir 10 biscuits entre deux personnes en utilisant des paquets de 1 biscuit.\")"
   ]
  },
  {
   "cell_type": "code",
   "execution_count": 15,
   "metadata": {},
   "outputs": [
    {
     "name": "stdout",
     "output_type": "stream",
     "text": [
      "66\n"
     ]
    },
    {
     "data": {
      "text/plain": [
       "11"
      ]
     },
     "execution_count": 15,
     "metadata": {},
     "output_type": "execute_result"
    }
   ],
   "source": [
    "# 1.b\n",
    "print(nb_repartition([1,1,1], 10))\n",
    "binomial(10+2-1,2-1)"
   ]
  },
  {
   "cell_type": "code",
   "execution_count": 73,
   "metadata": {},
   "outputs": [
    {
     "data": {
      "text/plain": [
       "20116"
      ]
     },
     "execution_count": 73,
     "metadata": {},
     "output_type": "execute_result"
    }
   ],
   "source": [
    "# 2\n",
    "nb_repartition([1,2,5,10,20,50,100], 147)"
   ]
  },
  {
   "cell_type": "code",
   "execution_count": 74,
   "metadata": {},
   "outputs": [
    {
     "data": {
      "text/plain": [
       "627"
      ]
     },
     "execution_count": 74,
     "metadata": {},
     "output_type": "execute_result"
    }
   ],
   "source": [
    "# 3\n",
    "nb_repartition([1..20], 20)"
   ]
  },
  {
   "cell_type": "code",
   "execution_count": 75,
   "metadata": {},
   "outputs": [
    {
     "data": {
      "text/plain": [
       "3"
      ]
     },
     "execution_count": 75,
     "metadata": {},
     "output_type": "execute_result"
    }
   ],
   "source": [
    "nb_repartition([1..3], 3)"
   ]
  },
  {
   "cell_type": "code",
   "execution_count": 19,
   "metadata": {},
   "outputs": [],
   "source": [
    "R.<x> = PowerSeriesRing(QQ, 150)\n",
    "def nb_repartition_ordered(taille_paquet: list, nb_paquets: int):\n",
    "    result = 0\n",
    "    for i in taille_paquet:\n",
    "        result += (x/(1-x))^i\n",
    "    \n",
    "    return result.padded_list()[nb_paquets]"
   ]
  },
  {
   "cell_type": "code",
   "execution_count": 20,
   "metadata": {},
   "outputs": [
    {
     "data": {
      "text/plain": [
       "4"
      ]
     },
     "execution_count": 20,
     "metadata": {},
     "output_type": "execute_result"
    }
   ],
   "source": [
    "nb_repartition_ordered([1..3], 3)"
   ]
  },
  {
   "cell_type": "code",
   "execution_count": 21,
   "metadata": {},
   "outputs": [
    {
     "data": {
      "text/plain": [
       "524288"
      ]
     },
     "execution_count": 21,
     "metadata": {},
     "output_type": "execute_result"
    }
   ],
   "source": [
    "nb_repartition_ordered([1..20], 20)"
   ]
  },
  {
   "cell_type": "code",
   "execution_count": null,
   "metadata": {},
   "outputs": [],
   "source": []
  },
  {
   "attachments": {},
   "cell_type": "markdown",
   "metadata": {},
   "source": [
    "EXO 2\n",
    "\n",
    "Un mot de Dyck est une histoire d’empilement et dépilement qui commence et se termine avec une pile vide. Par exemple, EEDD est un mot de Dyck.\n",
    "Il y a quelques propriétés sur les mots de Dyck :\n",
    "    — Si on concatène deux mots de Dyck, on a un mot de Dyck.\n",
    "    — Si un mot de Dyck s’écrit mot1 + mot2 où + est l’opération de concaténation et mot1 est un mot de Dyck alors nécessairement, mot2 est un mot de Dyck.\n",
    "    — Un mot de Dyck est de longueur paire.\n",
    "    — Soit un mot de Dyck de longueur 2n noté MOT. On considère MOT1 le premier préfixe qui est un mot de Dyck non vide. Comme MOT1 est un mot de Dyck, il se décompose sous la forme :\n",
    "        MOT1 = E + MOT3 + D\n",
    "    où MOT3 est nécessairement un mot de Dyck (raisonnement par l’absurde). \n",
    "    On peut donc écrire :\n",
    "        MOT = E + MOT3 + D + MOT2\n",
    "    où MOT2 est le suffixe. En termes de longueur :\n",
    "    — MOT3 est un mot de Dyck de longueur 2k où k ∈[[0, n −1]].\n",
    "    — MOT2 est un mot de Dyck de longueur 2(n −k −1) qui vient compléter MOT1 pour atteindre une longueur 2n.\n",
    "    — On note cn le nombre de mots de Dyck avec n lettres E (donc n lettres D). Si on reprend la décomposition précédente, on comprend :\n",
    "cn =n−1∑k=0 (ckcn−1−k)"
   ]
  },
  {
   "cell_type": "code",
   "execution_count": 35,
   "metadata": {},
   "outputs": [],
   "source": [
    "def deDyck(mot: str) -> bool:\n",
    "    stack = []\n",
    "    for lettre in mot:\n",
    "        if lettre == 'E':\n",
    "            stack.append(lettre)\n",
    "        elif lettre == 'D':\n",
    "            if len(stack) == 0 or stack[-1] != 'E':\n",
    "                return False\n",
    "            else:\n",
    "                stack.pop()\n",
    "    return len(stack) == 0\n",
    "    "
   ]
  },
  {
   "cell_type": "code",
   "execution_count": 36,
   "metadata": {},
   "outputs": [
    {
     "data": {
      "text/plain": [
       "True"
      ]
     },
     "execution_count": 36,
     "metadata": {},
     "output_type": "execute_result"
    }
   ],
   "source": [
    "deDyck(\"EEDD\")\n",
    "deDyck(\"EEDDEDED\")"
   ]
  },
  {
   "cell_type": "code",
   "execution_count": 37,
   "metadata": {},
   "outputs": [],
   "source": [
    "def generateur_Dedyck(n, word = \"\", E_count = 0):\n",
    "    \"\"\"\n",
    "    Génère tous les mots de Dyck possibles de longueur n en utilisant la récursion.\n",
    "    \n",
    "    Paramètres:\n",
    "    n (int): La longueur du mot de Dyck à générer (doit etre pair).\n",
    "    word (str): Le mot actuel sur lequel la fonction travaille. La fonction démarre avec une chaîne vide et ajoute des caractères 'E' ou 'D' à celui-ci à chaque appel récursif.\n",
    "    E_count (int): Le nombre de caractères 'E' en plus de 'D' dans le mot actuel.\n",
    "    \n",
    "    Retourne:\n",
    "    list: Une liste de tous les mots de Dyck de longueur n.\n",
    "    \"\"\"\n",
    "    # Vérifie le cas de base lorsque n est égal à 0\n",
    "    if n == 0:\n",
    "        return [word]\n",
    "    dyck_list = []\n",
    "    # Si le nombre d'E dans le mot actuel est inférieur à n\n",
    "    if E_count < n:\n",
    "        # Ajoute un caractère 'E' au mot actuel et incrémente le compteur d'E\n",
    "        dyck_list += generateur_Dedyck(n-1, word + \"E\", E_count + 1)\n",
    "    # Si le nombre d'E dans le mot actuel est supérieur à 0\n",
    "    if E_count > 0:\n",
    "        # Ajoute un caractère 'D' au mot actuel et décrémente le compteur d'E\n",
    "        dyck_list += generateur_Dedyck(n-1, word + \"D\", E_count - 1)\n",
    "    return dyck_list"
   ]
  },
  {
   "cell_type": "code",
   "execution_count": 40,
   "metadata": {},
   "outputs": [
    {
     "name": "stdout",
     "output_type": "stream",
     "text": [
      "Le résultat est ['EEEEDDDD', 'EEEDEDDD', 'EEEDDEDD', 'EEEDDDED', 'EEDEEDDD', 'EEDEDEDD', 'EEDEDDED', 'EEDDEEDD', 'EEDDEDED', 'EDEEEDDD', 'EDEEDEDD', 'EDEEDDED', 'EDEDEEDD', 'EDEDEDED'], qui est la liste de tous les mots de Dyck de longueur 6.\n"
     ]
    }
   ],
   "source": [
    "# 2 Notre fonction génère tous les mots de Dyck de longueur n et non 2n donc elle est fausse pour n impaire.\n",
    "result = generateur_Dedyck(8)\n",
    "print(f\"Le résultat est {result}, qui est la liste de tous les mots de Dyck de longueur 6.\")\n",
    "\n",
    "# On peut vérifier que notre fonction est correcte en utilisant la fonction deDyck\n",
    "# Ici si ça affiche rien, c'est que tous les mots sont valides\n",
    "for word in result:\n",
    "    if not deDyck(word):\n",
    "        print(f\"Le mot {word} n'est pas un mot de Dyck valide.\")\n",
    "        \n",
    "    "
   ]
  },
  {
   "cell_type": "code",
   "execution_count": null,
   "metadata": {},
   "outputs": [],
   "source": []
  }
 ],
 "metadata": {
  "kernelspec": {
   "display_name": "SageMath 9.6",
   "language": "sage",
   "name": "sagemath"
  },
  "language_info": {
   "codemirror_mode": {
    "name": "ipython",
    "version": 3
   },
   "file_extension": ".py",
   "mimetype": "text/x-python",
   "name": "python",
   "nbconvert_exporter": "python",
   "pygments_lexer": "ipython3",
   "version": "3.10.9"
  },
  "orig_nbformat": 4
 },
 "nbformat": 4,
 "nbformat_minor": 2
}
