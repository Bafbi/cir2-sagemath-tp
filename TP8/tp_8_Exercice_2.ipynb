{
 "cells": [
  {
   "cell_type": "code",
   "execution_count": null,
   "metadata": {},
   "outputs": [],
   "source": [
    "# TP 8"
   ]
  },
  {
   "cell_type": "code",
   "execution_count": null,
   "metadata": {},
   "outputs": [],
   "source": [
    "# Exercice 2"
   ]
  },
  {
   "cell_type": "code",
   "execution_count": 15,
   "metadata": {},
   "outputs": [
    {
     "data": {
      "text/plain": [
       "True"
      ]
     },
     "execution_count": 15,
     "metadata": {},
     "output_type": "execute_result"
    }
   ],
   "source": [
    "# 1. Écrire une fonctiondeDyck(mot) qui prend en entrée un mot\n",
    "# et renvoie le booléen True si c’est un mot de Dyck et False sinon\n",
    "\n",
    "def deDyck(mot):\n",
    "    n = 0; # Compte le nbr d'élément dans la file\n",
    "    for l in (mot):\n",
    "        if(l == \"E\"):\n",
    "            # Empilement d'un élément\n",
    "            n=n+1\n",
    "        elif(l == \"D\"):\n",
    "            if(n > 0):\n",
    "                # Retrait d'un élément empilé\n",
    "                n=n-1\n",
    "            else:\n",
    "                # Cas d'erreur : Retrait sans élément dans la pile\n",
    "                return(False)\n",
    "        else:\n",
    "            return(False) # Cas d'erreur : Mot composé d'autres lettres que E ou D\n",
    "    if(n==0):\n",
    "        return(True) # Si se termine bien par une pile vide\n",
    "    else:\n",
    "        return(False) # Si surplus de E vis à vis de D (ou inversement)\n",
    "    \n",
    "# Test d'exemple\n",
    "deDyck(\"EDEDEEDEDD\")"
   ]
  },
  {
   "cell_type": "code",
   "execution_count": 16,
   "metadata": {},
   "outputs": [
    {
     "name": "stdout",
     "output_type": "stream",
     "text": [
      "['E', 'D']\n",
      "['E', 'E', 'D', 'D']\n",
      "['E', 'D', 'E', 'D']\n",
      "['E', 'E', 'E', 'D', 'D', 'D']\n",
      "['E', 'E', 'D', 'E', 'D', 'D']\n",
      "['E', 'E', 'D', 'D', 'E', 'D']\n",
      "['E', 'D', 'E', 'E', 'D', 'D']\n",
      "['E', 'D', 'E', 'D', 'E', 'D']\n"
     ]
    }
   ],
   "source": [
    "# 2. Écrire une fonction récursive qui génère tous les mots de Dyck \n",
    "#    de longueur 2n.\n",
    "\n",
    "def generationMotDyck(taille, affichage):  \n",
    "    # Fonction qui prend en paramètre la taille (=2*n) \n",
    "    # et renvoie chaque mot avec un tableau (tab) de lettre E et D\n",
    "    \n",
    "    tab = ['x'] * taille  # Création du tableau de taille 2*n\n",
    "    creationMotDyck(tab, 0, taille, affichage) # Appel de la fonction récursive\n",
    "\n",
    "def creationMotDyck(tab, debut, fin, affichage) :  \n",
    "    # Fonction récursive qui génère tout les mots de Dyck de longueur taille (=2*n)\n",
    "    if debut == fin:\n",
    "        affichage(tab) # Mot de Dyck a été généré : affiche le tableau constituant les mots de Dyck\n",
    "    else:\n",
    "        tab[debut] = 'E' # Met la première lettre E au début\n",
    "        for milieu in range(fin, debut, -2) :\n",
    "            tab[milieu-1] = 'D' # et sa lettre D associé à la fins\n",
    "            # Rappel de la fonction par récursivité en inversant progressivement (à chaque itération)\n",
    "            # la position des E et D, de facon à obtenir toute les combinaisons de mots de Dyck possible\n",
    "            creationMotDyck(tab, debut+1, milieu-1,\n",
    "            lambda lettre: creationMotDyck(tab, milieu, fin, affichage))\n",
    "\n",
    "# Test d'exemples\n",
    "generationMotDyck(2, lambda lettre : print(lettre))\n",
    "generationMotDyck(4, lambda lettre : print(lettre))\n",
    "generationMotDyck(6, lambda lettre : print(lettre))"
   ]
  },
  {
   "cell_type": "code",
   "execution_count": 17,
   "metadata": {},
   "outputs": [
    {
     "name": "stdout",
     "output_type": "stream",
     "text": [
      "n =  0 : 1\n",
      "n =  1 : 1\n",
      "n =  2 : 2\n",
      "n =  3 : 5\n",
      "n =  4 : 14\n",
      "n =  5 : 42\n",
      "n =  6 : 132\n",
      "n =  7 : 429\n",
      "n =  8 : 1430\n",
      "n =  9 : 4862\n"
     ]
    }
   ],
   "source": [
    "# 3. Lister le nombre de mots de Dyck pour n= 1 à n= 10.\n",
    "\n",
    "# On peut d'abord lister le nombre de mots de Dyck avec la formule C(n) donné dans l'énoncé,\n",
    "# sinon on peut créer un compteur que l'on répète pour chaque itération de generationMotDyck\n",
    "\n",
    "def affichage(tab): # Ajoute un pour chaque nouveau mot (ajouté avec tab)\n",
    "    global compteur\n",
    "    compteur += 1\n",
    "\n",
    "for n in range(0,10):  # On choisit de lister le nombre de mots pour n allant de 1 à 10\n",
    "    compteur = 0\n",
    "    generationMotDyck(2*n, affichage)\n",
    "    print(\"n = \", n, \":\", compteur)"
   ]
  },
  {
   "cell_type": "code",
   "execution_count": 26,
   "metadata": {},
   "outputs": [
    {
     "name": "stdout",
     "output_type": "stream",
     "text": [
      "Pour x valant :  1 , on trouve : \n",
      "1/2 - sqrt(3)*I/2\n",
      "Pour x valant :  2 , on trouve : \n",
      "1/4 - sqrt(7)*I/4\n",
      "Pour x valant :  3 , on trouve : \n",
      "1/6 - sqrt(11)*I/6\n",
      "Pour x valant :  4 , on trouve : \n",
      "1/8 - sqrt(15)*I/8\n",
      "Pour x valant :  5 , on trouve : \n",
      "1/10 - sqrt(19)*I/10\n",
      "Pour x valant :  6 , on trouve : \n",
      "1/12 - sqrt(23)*I/12\n",
      "Pour x valant :  7 , on trouve : \n",
      "1/14 - 3*sqrt(3)*I/14\n",
      "Pour x valant :  8 , on trouve : \n",
      "1/16 - sqrt(31)*I/16\n",
      "Pour x valant :  9 , on trouve : \n",
      "1/18 - sqrt(35)*I/18\n",
      "Pour x valant :  10 , on trouve : \n",
      "1/20 - sqrt(39)*I/20\n"
     ]
    }
   ],
   "source": [
    "# 4. Confirmer les valeurs trouvées à la question précédente \n",
    "# avec les 10 premiers coefficients de la fonction génératrice\n",
    "\n",
    "x = var('x')\n",
    "# 1−√1−4x/2x \n",
    "def f(x):\n",
    "    return (1-sqrt(1-4*x))/(2*x)\n",
    "\n",
    "for x in range(1,11):\n",
    "    print(\"Pour x valant : \", x, \", on trouve : \")\n",
    "    print(f(x))\n",
    "    "
   ]
  },
  {
   "cell_type": "code",
   "execution_count": null,
   "metadata": {},
   "outputs": [],
   "source": []
  }
 ],
 "metadata": {
  "kernelspec": {
   "display_name": "SageMath 9.1",
   "language": "sage",
   "name": "sagemath"
  },
  "language_info": {
   "codemirror_mode": {
    "name": "ipython",
    "version": 3
   },
   "file_extension": ".py",
   "mimetype": "text/x-python",
   "name": "python",
   "nbconvert_exporter": "python",
   "pygments_lexer": "ipython3",
   "version": "3.7.3"
  }
 },
 "nbformat": 4,
 "nbformat_minor": 2
}
