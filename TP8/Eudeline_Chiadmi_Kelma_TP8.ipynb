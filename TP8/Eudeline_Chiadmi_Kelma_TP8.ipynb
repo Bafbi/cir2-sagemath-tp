{
 "cells": [
  {
   "attachments": {},
   "cell_type": "markdown",
   "metadata": {},
   "source": [
    "## Exercice 1 : question de partages\n",
    "\n",
    "Pierre et Vivien sont face à une boîte de 42 biscuits. Pierre, très gourmand, mange les biscuits par\n",
    "paquets de trois. Vivien, plus raisonnable, mange les biscuits par paquets de deux. $\\textit{De combien de façons\n",
    "peut-on répartir les 42 biscuits entre Pierre et Vivien ?}$\n",
    "\n",
    "Si on formalise la question, il s’agit de compter le nombre de façons d’écrire 42 = 2a + 3b. On connaît\n",
    "déjà quelques possibilités :\n",
    "→ (a, b) = (21, 0) si Vivien mange 21 × 2 biscuits et Pierre 0 (triste, non ?)\n",
    "→ (a, b) = (12, 2) si Vivien mange 12 × 2 biscuits et Pierre 2 × 3.\n",
    "\n",
    "$\\textbf{Mais quel lien avec les séries entières ?}$  \n",
    "Si on écrit 42 = 2a + 3b alors les règles sur les puissances donnent :\n",
    "\n",
    "$$x^{42} = x^{2a+3b} = x^{2a} x^{3b} = [x^2]^a * [x^3]^b$$\n",
    "\n",
    "Pour développer le produit\n",
    "$$(1 + x^2 + x^4 + x^6 + · · ·) × (1 + x^3 + x^6 + x^9 + · · ·)$$\n",
    "\n",
    "on doit sommer toutes les possibilités de produits entre un terme du premier facteur et un terme du\n",
    "second facteur. En particulier, il y a plusieurs produits du type $[x^2]^a [x^3]^b$ qui donneront $x^{42}$.  Si on écrit\n",
    "de manière bête et méchante le développement du produit, le coefficient devant$x^{42}$ correspondra au\n",
    "nombre de façons d’écrire 42 = 2a + 3b. Or le produit s’écrit :\n",
    "\n",
    "\n",
    "$$(1 + x^2 + x^4 + x^6 + · · ·) × (1 + x^3 + x^6 + x^9 + · · ·) =(\\sum_{n=0}^{\\infty} [x^2]^a) + (\\sum_{n=0}^{\\infty} [x^3]^b) = \\frac{1}{1 - x^2} \\times \\frac{1}{1 - x^3}$$\n",
    " \n",
    " Si on demande à SageMath le coefficient devant 42 dans le développement en série entière de\n",
    " $$\\frac{1}{1 - x^2} \\times \\frac{1}{1 - x^3}$$ alors le tour est joué.\n",
    "```py\n",
    "R . <x > = PowerSeriesRing ( QQ , 50)\n",
    "(1/(1 - x ^2) * 1/(1 - x ^3) ) . padded_list () [42] # get the coefficient of x^42\n",
    "```\n",
    "<span style=\"color:blue\">Vérifier ainsi qu’il y a 8 façons de répartir les biscuits en tas de paquets 2 et paquets de 3. Lister toutes\n",
    "les possibilités de partage entre Vivien et Pierre.</span>\n",
    "\n",
    "$\\textbf{Là où c’est (très) fort}$\n",
    "La méthode se généralise facilement. Le nombre de façons de répartir n objets en k tas avec des paquets\n",
    "de taille $m_i$ dans le tas$ i \\in [\\![1\\,;k]\\!]$ est le coefficient de $x^n$ dans la fonction génératrice\n",
    "\n",
    "$$\\prod_{i=0}^{k} \\frac{1}{1-x^{m_i}}$$\n",
    "\n",
    "Dit autrement, le coefficient de $x^n$ dans cette expression est le nombre de k-uplets $(a_1, . . . , a_k)$ pour\n",
    "lesquels la somme suivante est vérifiée :\n",
    "\n",
    "$$\\sum_{i=1}^{k} m_ia_i = n$$\n",
    "\n",
    "<span style=\"color:blue\">1. En utilisant cette méthode, déterminer le nombre de façons de répartir 10 biscuits entre deux\n",
    "personnes :\n",
    "\n",
    "<span style=\"color:blue\">(a) si on suppose que tous les biscuits soient distribués par paquets de 1\n",
    "\n",
    "<span style=\"color:blue\">(b) si une troisième personne se joint à la partie\n",
    "Est-ce que les réponses sont cohérentes avec les techniques combinatoires usuelles ?\n",
    "\n",
    "<span style=\"color:blue\">2. De combien de façons peut-on rendre 1.47 euros en monnaie ?\n",
    "\n",
    "<span style=\"color:blue\">3. De combien de façons peut-on écrire 20 comme la somme d’entiers positifs ? On distinguera deux\n",
    "cas :\n",
    "\n",
    "<span style=\"color:blue\">(a) L’ordre des termes n’importe pas. Typiquement, si on veut décomposer 3 il y a 3 possibilités :\n",
    "\n",
    "<span style=\"color:blue\">$$3 = 2 + 1 = 1 + 1 + 1$$ \n",
    "\n",
    "<span style=\"color:blue\">On cherche ainsi le nombre de façons d’écrire $20 = a_1 × 1 + a_2 × 2 + · · · + a_20 × 20$\n",
    "\n",
    "<span style=\"color:blue\">(b) L’ordre des termes importe. Typiquement, si on veut décomposer 3 il y a 4 possibilités :\n",
    "\n",
    "<span style=\"color:blue\">$$3 = 2 + 1 = 1 + 2 = 1 + 1 + 1$$\n",
    "\n",
    "<span style=\"color:blue\">On pourra réfléchir en termes de paquets de 1. Par exemple, 3 = (1)+ (1)+ (1) est une partition\n",
    "en trois tas, chaque tas contenant un seul paquet de 1. Autre exemple : 3 = (1+ 1)+ (1) est une\n",
    "partition en deux tas, le premier tas contenant deux paquets de 1 et le deuxième tas contenant\n",
    "un seul paquet de 1.</span>\n"
   ]
  },
  {
   "cell_type": "code",
   "execution_count": 49,
   "metadata": {},
   "outputs": [],
   "source": [
    "# On applique ce qu'on vient de voir en une fonction\n",
    "\n",
    "def nb_repartition(paquets: list[int], n: int) -> int:\n",
    "    \"\"\"\n",
    "    Trouve le nombre de façons de répartir n biscuits en utilisant des paquets de tailles données.\n",
    "    \n",
    "    Parameters:\n",
    "        n (int): Le nombre de biscuits à répartir.\n",
    "        paquets (List[int]): La liste des tailles de paquets disponibles.\n",
    "    \n",
    "    Returns:\n",
    "        int: Le nombre de façons de répartir les biscuits.\n",
    "    \"\"\"\n",
    "    R.<x> = PowerSeriesRing(QQ, n+1)\n",
    "    f = 1\n",
    "    for p in paquets:\n",
    "        f *= 1/(1 - x^p)\n",
    "    return f.padded_list()[n]"
   ]
  },
  {
   "attachments": {},
   "cell_type": "markdown",
   "metadata": {},
   "source": [
    "1) En utilisant la fonction nb_repartition(), on peut déterminer le nombre de façons de répartir 10 biscuits entre deux personnes :"
   ]
  },
  {
   "cell_type": "code",
   "execution_count": 50,
   "metadata": {},
   "outputs": [
    {
     "name": "stdout",
     "output_type": "stream",
     "text": [
      "Le résultat est 11, qui est le nombre de façons de répartir 10 biscuits entre deux personnes en utilisant des paquets de 1 biscuit.\n"
     ]
    }
   ],
   "source": [
    "# 1.a Si on suppose que tous les biscuits soient distribués par paquets de 1, on peut utiliser la fonction comme suit :\n",
    "result = nb_repartition([1,1], 10)\n",
    "print(f\"Le résultat est {result}, qui est le nombre de façons de répartir 10 biscuits entre deux personnes en utilisant des paquets de 1 biscuit.\")"
   ]
  },
  {
   "cell_type": "code",
   "execution_count": 51,
   "metadata": {},
   "outputs": [
    {
     "name": "stdout",
     "output_type": "stream",
     "text": [
      "Le résultat est 66, qui est le nombre de façons de répartir 10 biscuits entre trois personnes en utilisant des paquets de 1 biscuit.\n"
     ]
    }
   ],
   "source": [
    "# 1.b Si on suppose que tous les biscuits soient distribués par paquets de 1 pour trois personnes, on peut utiliser la fonction comme suit :\n",
    "result = nb_repartition([1,1,1], 10)\n",
    "print(f\"Le résultat est {result}, qui est le nombre de façons de répartir 10 biscuits entre trois personnes en utilisant des paquets de 1 biscuit.\")"
   ]
  },
  {
   "attachments": {},
   "cell_type": "markdown",
   "metadata": {},
   "source": [
    "En conclusion, la fonction nb_repartition() fournit des résultats cohérents avec les techniques combinatoires usuelles pour le problème de répartition de biscuits en utilisant des paquets de tailles données."
   ]
  },
  {
   "cell_type": "code",
   "execution_count": 52,
   "metadata": {},
   "outputs": [
    {
     "name": "stdout",
     "output_type": "stream",
     "text": [
      "11\n",
      "66\n"
     ]
    }
   ],
   "source": [
    "# On peut verifier que le résultat est le même que celui obtenu en utilisant la fonction binomial\n",
    "print(binomial(11,1))\n",
    "print(binomial(12,2))"
   ]
  },
  {
   "attachments": {},
   "cell_type": "markdown",
   "metadata": {},
   "source": [
    "2) Pour résoudre le problème de rendre 1.47 euros en monnaie, il faut d'abord définir les valeurs de monnaie disponibles : 0.01, 0.02, 0.05, 0.10, 0.20, 0.50, 1.00, 2.00 euros.  \n",
    "Notre fonction est limité à des nombres entiers. Il faut donc convertir les valeurs de monnaie en centimes pour pouvoir l'utiliser."
   ]
  },
  {
   "cell_type": "code",
   "execution_count": 53,
   "metadata": {},
   "outputs": [
    {
     "name": "stdout",
     "output_type": "stream",
     "text": [
      "Le résultat est 20116, qui est le nombre de façons de rendre 1.47 euros en monnaie en utilisant les valeurs de monnaie françaises courantes.\n"
     ]
    }
   ],
   "source": [
    "# 2\n",
    "result = nb_repartition([1,2,5,10,20,50,100,200], 147)\n",
    "print(f\"Le résultat est {result}, qui est le nombre de façons de rendre 1.47 euros en monnaie en utilisant les valeurs de monnaie françaises courantes.\")"
   ]
  },
  {
   "attachments": {},
   "cell_type": "markdown",
   "metadata": {},
   "source": [
    "3) Pour résoudre le problème de décomposer 20 en somme d'entiers positifs :  \n",
    "(a) L'ordre des termes n'importe pas :\n",
    "On peux utiliser notre fonction en utilisant toutes les valeurs positives disponibles, c'est à dire tous les entiers de 1 à 20."
   ]
  },
  {
   "cell_type": "code",
   "execution_count": 54,
   "metadata": {},
   "outputs": [
    {
     "name": "stdout",
     "output_type": "stream",
     "text": [
      "Le résultat est 627, qui est le nombre de façons de décomposé 20 en somme d'entier positif.\n"
     ]
    }
   ],
   "source": [
    "# 3.a\n",
    "result = nb_repartition([1..20], 20)\n",
    "print(f\"Le résultat est {result}, qui est le nombre de façons de décomposé 20 en somme d'entier positif.\")"
   ]
  },
  {
   "attachments": {},
   "cell_type": "markdown",
   "metadata": {},
   "source": [
    "(b) L'odre des terme importe :  \n",
    "On doit changer notre le developpement en serie formelle de notre fonction."
   ]
  },
  {
   "cell_type": "code",
   "execution_count": 55,
   "metadata": {},
   "outputs": [],
   "source": [
    "def nb_repartition_ordered(taille_paquet: list, n: int):\n",
    "    R.<x> = PowerSeriesRing(QQ, n+1)\n",
    "    result = 0\n",
    "    for i in taille_paquet:\n",
    "        result += (x/(1-x))^i\n",
    "    \n",
    "    return result.padded_list()[n]"
   ]
  },
  {
   "cell_type": "code",
   "execution_count": 56,
   "metadata": {},
   "outputs": [
    {
     "name": "stdout",
     "output_type": "stream",
     "text": [
      "Le résultat est 524288, qui est le nombre de façons de décomposé 20 en somme d'entier positif en prenant en compte l'ordre.\n"
     ]
    }
   ],
   "source": [
    "# 3.a\n",
    "result = nb_repartition_ordered([1..20], 20)\n",
    "print(f\"Le résultat est {result}, qui est le nombre de façons de décomposé 20 en somme d'entier positif en prenant en compte l'ordre.\")"
   ]
  },
  {
   "cell_type": "markdown",
   "metadata": {},
   "source": [
    "## Exercice 2 : empilement et dépilement\n",
    "\n",
    "On appelle mot de Dyck un mot composé des lettres E et D avec :\n",
    "\n",
    "→ autant de E que de D\n",
    "\n",
    "→ dans tout préfixe du mot, le nombre de E est supérieur ou égal au nombre de D\n",
    "\n",
    "Les mots E et D désignent respectivement empilement et dépilement. Utiliser la lettre E correspondrait à\n",
    "mettre une nouvelle assiette sur une pile d’assiettes. Utiliser la lettre D correspondrait à retirer l’assiette\n",
    "au sommet de la pile.\n",
    "\n",
    "Il y a quelques propriétés sur les mots de Dyck :\n",
    "\n",
    "— Si on concatène deux mots de Dyck, on a un mot de Dyck.\n",
    "\n",
    "— Si un mot de Dyck s’écrit mot1 + mot2 où + est l’opération de concaténation et mot1 est un mot\n",
    "de Dyck alors nécessairement, mot2 est un mot de Dyck.\n",
    "\n",
    "— Un mot de Dyck est de longueur paire.\n",
    "\n",
    "— Soit un mot de Dyck de longueur 2n noté MOT. On considère MOT1 le premier préfixe qui est un\n",
    "mot de Dyck non vide. Comme MOT1 est un mot de Dyck, il se décompose sous la forme :\n",
    "\n",
    "$$MOT1 = E + MOT3 + D$$\n",
    "\n",
    "où MOT3 est nécessairement un mot de Dyck (raisonnement par l’absurde). On peut donc écrire :\n",
    "$$MOT = E + MOT3 + D + MOT2$$\n",
    "\n",
    "où MOT2 est le suffixe. En termes de longueur :\n",
    "\n",
    "— MOT3 est un mot de Dyck de longueur 2k où k ∈ [[0, n − 1]].\n",
    "\n",
    "— MOT2 est un mot de Dyck de longueur 2(n − k − 1) qui vient compléter MOT1 pour atteindre\n",
    "une longueur 2n.\n",
    "\n",
    "— On note cn le nombre de mots de Dyck avec n lettres E (donc n lettres D). Si on reprend la\n",
    "décomposition précédente, on comprend :\n",
    "\n",
    "$$c_n = \\sum_{k=0}^{n-1} c_k c_{n-1-k}$$\n",
    "\n",
    "<span style=\"color:blue\">1. Écrire une fonction deDyck(mot) qui prend en entrée un mot et renvoie le booléen True si c’est un\n",
    "mot de Dyck et False sinon. Par exemple, deDyck(\"EEDD\") doit renvoyer True.\n",
    "\n",
    "<span style=\"color:blue\">2. Écrire une fonction récursive qui génère tous les mots de Dyck de longueur 2n.\n",
    "\n",
    "<span style=\"color:blue\">3. Lister le nombre de mots de Dyck pour n = 1 à n = 10.\n",
    "\n",
    "<span style=\"color:blue\">4. Confirmer les valeurs trouvées à la question précédente avec les 10 premiers coefficients de la fonction\n",
    "génératrice :\n",
    "    \n",
    "$$C(x) = \\sum_{n=0}^{\\infty} C_nx^n = \\frac{1 - \\sqrt{1 - 4x}}{2x}$$"
   ]
  },
  {
   "attachments": {},
   "cell_type": "markdown",
   "metadata": {},
   "source": [
    "1) On peut utiliser une pile pour stocker les lettres 'E' rencontrées dans la chaîne, et pour chaque lettre 'D' rencontrée, elle vérifie si la dernière lettre de la pile est 'E'. Si c'est le cas, elle retire cette lettre de la pile. Si la pile est vide ou si la dernière lettre de la pile n'est pas 'E', la fonction renvoie False. Si la fonction arrive à la fin de la chaîne sans rencontrer d'erreur, elle vérifie si la pile est vide et renvoie True si c'est le cas, sinon False."
   ]
  },
  {
   "cell_type": "code",
   "execution_count": 57,
   "metadata": {},
   "outputs": [],
   "source": [
    "# Ici notre pile ne contient que des 'E', alors on peut utiliser une variable pour compter le nombre d'E\n",
    "def deDyck(mot: str) -> bool:\n",
    "    # Création d'une pile (de 'E') vide\n",
    "    stack = 0\n",
    "    # Parcours de chaque lettre du mot\n",
    "    for lettre in mot:\n",
    "        if lettre == 'E':\n",
    "            # Si 'E' on l'ajoute dans la pile\n",
    "            stack += 1\n",
    "        elif lettre == 'D':\n",
    "            #Si 'D' on regarde si la pile est vide ou si la dernière lettre de la pile n'est pas E\n",
    "            if stack < 1:\n",
    "                # Et si c'est le cas on retourne False\n",
    "                return False\n",
    "            else:\n",
    "                # Sinon retire un des lettre E de la pile\n",
    "                stack -= 1\n",
    "    # On retourne True si la pile est vide ca voudra dire qu'on a eu autant de E que de D dans une configuration de Dyck\n",
    "    return stack == 0\n"
   ]
  },
  {
   "cell_type": "code",
   "execution_count": 58,
   "metadata": {},
   "outputs": [
    {
     "name": "stdout",
     "output_type": "stream",
     "text": [
      "Le mot EEDD est-il un mot de Dyck ? True\n",
      "Le mot EDED est-il un mot de Dyck ? True\n",
      "Le mot EEDE est-il un mot de Dyck ? False\n",
      "Le mot EDDE est-il un mot de Dyck ? False\n"
     ]
    }
   ],
   "source": [
    "# 1\n",
    "some_mot = [\"EEDD\", \"EDED\", \"EEDE\", \"EDDE\"]\n",
    "# Les deux premiers mots sont des mots de Dyck\n",
    "\n",
    "for mot in some_mot:\n",
    "    print(f\"Le mot {mot} est-il un mot de Dyck ? {deDyck(mot)}\")"
   ]
  },
  {
   "cell_type": "code",
   "execution_count": 59,
   "metadata": {},
   "outputs": [],
   "source": [
    "def generateur_Dedyck(n, word = \"\", E_count = 0):\n",
    "    \"\"\"\n",
    "    Génère tous les mots de Dyck possibles de longueur n en utilisant la récursion.\n",
    "    \n",
    "    Paramètres:\n",
    "    n (int): La longueur du mot de Dyck à générer (doit etre pair).\n",
    "    word (str): Le mot actuel sur lequel la fonction travaille. La fonction démarre avec une chaîne vide et ajoute des caractères 'E' ou 'D' à celui-ci à chaque appel récursif.\n",
    "    E_count (int): Le nombre de caractères 'E' en plus de 'D' dans le mot actuel.\n",
    "    \n",
    "    Retourne:\n",
    "    list: Une liste de tous les mots de Dyck de longueur n.\n",
    "    \"\"\"\n",
    "    # Vérifie le cas de base lorsque n est égal à 0\n",
    "    if n == 0:\n",
    "        return [word]\n",
    "    dyck_list = []\n",
    "    # Si le nombre d'E dans le mot actuel est inférieur à n\n",
    "    if E_count < n:\n",
    "        # Ajoute un caractère 'E' au mot actuel et incrémente le compteur d'E\n",
    "        dyck_list += generateur_Dedyck(n-1, word + \"E\", E_count + 1)\n",
    "    # Si le nombre d'E dans le mot actuel est supérieur à 0\n",
    "    if E_count > 0:\n",
    "        # Ajoute un caractère 'D' au mot actuel et décrémente le compteur d'E\n",
    "        dyck_list += generateur_Dedyck(n-1, word + \"D\", E_count - 1)\n",
    "    return dyck_list"
   ]
  },
  {
   "cell_type": "code",
   "execution_count": 60,
   "metadata": {},
   "outputs": [
    {
     "name": "stdout",
     "output_type": "stream",
     "text": [
      "Le résultat est ['EEEEDDDD', 'EEEDEDDD', 'EEEDDEDD', 'EEEDDDED', 'EEDEEDDD', 'EEDEDEDD', 'EEDEDDED', 'EEDDEEDD', 'EEDDEDED', 'EDEEEDDD', 'EDEEDEDD', 'EDEEDDED', 'EDEDEEDD', 'EDEDEDED'], qui est la liste de tous les mots de Dyck de longueur 8.\n"
     ]
    }
   ],
   "source": [
    "# 2 Notre fonction génère tous les mots de Dyck de longueur n et non 2n donc elle est fausse pour n impaire.\n",
    "result = generateur_Dedyck(8)\n",
    "print(f\"Le résultat est {result}, qui est la liste de tous les mots de Dyck de longueur 8.\")\n",
    "\n",
    "# On peut vérifier que notre fonction est correcte en utilisant la fonction deDyck\n",
    "# Ici si ça affiche rien, c'est que tous les mots sont valides\n",
    "for word in result:\n",
    "    if not deDyck(word):\n",
    "        print(f\"Le mot {word} n'est pas un mot de Dyck valide.\")"
   ]
  },
  {
   "cell_type": "code",
   "execution_count": 61,
   "metadata": {},
   "outputs": [
    {
     "name": "stdout",
     "output_type": "stream",
     "text": [
      "Le nombre de mots de Dyck de longueur 2 est 1.\n",
      "Le nombre de mots de Dyck de longueur 4 est 2.\n",
      "Le nombre de mots de Dyck de longueur 6 est 5.\n",
      "Le nombre de mots de Dyck de longueur 8 est 14.\n",
      "Le nombre de mots de Dyck de longueur 10 est 42.\n",
      "Le nombre de mots de Dyck de longueur 12 est 132.\n",
      "Le nombre de mots de Dyck de longueur 14 est 429.\n",
      "Le nombre de mots de Dyck de longueur 16 est 1430.\n",
      "Le nombre de mots de Dyck de longueur 18 est 4862.\n",
      "Le nombre de mots de Dyck de longueur 20 est 16796.\n",
      "Le nombre de mots de Dyck de longueur 2 est 1.\n",
      "Le nombre de mots de Dyck de longueur 4 est 2.\n",
      "Le nombre de mots de Dyck de longueur 6 est 5.\n",
      "Le nombre de mots de Dyck de longueur 8 est 14.\n",
      "Le nombre de mots de Dyck de longueur 10 est 42.\n",
      "Le nombre de mots de Dyck de longueur 12 est 132.\n",
      "Le nombre de mots de Dyck de longueur 14 est 429.\n",
      "Le nombre de mots de Dyck de longueur 16 est 1430.\n",
      "Le nombre de mots de Dyck de longueur 18 est 4862.\n",
      "Le nombre de mots de Dyck de longueur 20 est 16796.\n"
     ]
    }
   ],
   "source": [
    "# 3. Lister le nombre de mots de Dyck pour n= 1 à n= 10.\n",
    "\n",
    "# On peut d'abord lister le nombre de mots de Dyck avec la formule C(n) donné dans l'énoncé.\n",
    "def C(n):\n",
    "    if n == 0:\n",
    "        return 1\n",
    "    else:\n",
    "        result = 0\n",
    "        for k in range(n):\n",
    "            result += C(k) * C(n-1-k)\n",
    "        return result\n",
    "\n",
    "for n in range(1,11): # On choisit de lister le nombre de mots pour n allant de 1 à 10\n",
    "    print(f\"Le nombre de mots de Dyck de longueur {2*n} est {C(n)}.\")\n",
    "\n",
    "# On peut aussi lister le nombre de mots de Dyck avec notre fonction generateur_Dedyck\n",
    "for n in range(1,11):  # On choisit de lister le nombre de mots pour n allant de 1 à 10\n",
    "    result = generateur_Dedyck(2*n)\n",
    "    print(f\"Le nombre de mots de Dyck de longueur {2*n} est {len(result)}.\")"
   ]
  },
  {
   "attachments": {},
   "cell_type": "markdown",
   "metadata": {},
   "source": [
    "Ca verifie donc que notre fonction de génération de mot de Dyck est correcte. (Ou en tous cas return le bon nombre de mot de Dyck)"
   ]
  },
  {
   "cell_type": "code",
   "execution_count": 62,
   "metadata": {},
   "outputs": [
    {
     "name": "stdout",
     "output_type": "stream",
     "text": [
      "Pour x valant :  1 , on trouve : \n",
      "-1/2*sqrt(-3) + 1/2\n",
      "Pour x valant :  2 , on trouve : \n",
      "-1/4*sqrt(-7) + 1/4\n",
      "Pour x valant :  3 , on trouve : \n",
      "-1/6*sqrt(-11) + 1/6\n",
      "Pour x valant :  4 , on trouve : \n",
      "-1/8*sqrt(-15) + 1/8\n",
      "Pour x valant :  5 , on trouve : \n",
      "-1/10*sqrt(-19) + 1/10\n",
      "Pour x valant :  6 , on trouve : \n",
      "-1/12*sqrt(-23) + 1/12\n",
      "Pour x valant :  7 , on trouve : \n",
      "-3/14*sqrt(-3) + 1/14\n",
      "Pour x valant :  8 , on trouve : \n",
      "-1/16*sqrt(-31) + 1/16\n",
      "Pour x valant :  9 , on trouve : \n",
      "-1/18*sqrt(-35) + 1/18\n",
      "Pour x valant :  10 , on trouve : \n",
      "-1/20*sqrt(-39) + 1/20\n"
     ]
    }
   ],
   "source": [
    "# 4. Confirmer les valeurs trouvées à la question précédente \n",
    "# avec les 10 premiers coefficients de la fonction génératrice\n",
    "\n",
    "x = var('x')\n",
    "# 1−√1−4x/2x \n",
    "def f(x):\n",
    "    return (1-sqrt(1-4*x))/(2*x)\n",
    "\n",
    "for x in range(1,11):\n",
    "    print(\"Pour x valant : \", x, \", on trouve : \")\n",
    "    print(f(x))"
   ]
  },
  {
   "cell_type": "markdown",
   "metadata": {},
   "source": [
    "Je ne comprend pas les résultats."
   ]
  }
 ],
 "metadata": {
  "kernelspec": {
   "display_name": "SageMath 9.6",
   "language": "sage",
   "name": "sagemath"
  },
  "language_info": {
   "codemirror_mode": {
    "name": "ipython",
    "version": 3
   },
   "file_extension": ".py",
   "mimetype": "text/x-python",
   "name": "python",
   "nbconvert_exporter": "python",
   "pygments_lexer": "ipython3",
   "version": "3.10.9"
  }
 },
 "nbformat": 4,
 "nbformat_minor": 2
}
