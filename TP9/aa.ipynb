{
 "cells": [
  {
   "cell_type": "code",
   "execution_count": 130,
   "metadata": {},
   "outputs": [],
   "source": [
    "# function that return all the binary relations possible between n nodes\n",
    "# example: relations(3) = [(0,0),(0,1),(1,0),(1,1),(0,2),(1,2),(2,0),(2,1),(2,2)]\n",
    "def relations(n):\n",
    "    return [(i,j) for i in range(n) for j in range(n)]"
   ]
  },
  {
   "cell_type": "code",
   "execution_count": 131,
   "metadata": {},
   "outputs": [
    {
     "name": "stdout",
     "output_type": "stream",
     "text": [
      "[(0, 0)]\n"
     ]
    }
   ],
   "source": [
    "r = relations(1)\n",
    "print(r)"
   ]
  },
  {
   "cell_type": "code",
   "execution_count": 132,
   "metadata": {},
   "outputs": [],
   "source": [
    "# return all the relation possible between n nodes\n",
    "\n",
    "# all_relation(2) return :\n",
    "# [[(0, 0), (0, 1), (1, 0), (1, 1)],\n",
    "# [(0, 0), (0, 1), (1, 0)],\n",
    "# [(0, 0), (0, 1), (1, 1)],\n",
    "# [(0, 0), (0, 1)],\n",
    "# [(0, 0), (1, 0), (1, 1)],\n",
    "# [(0, 0), (1, 0)],\n",
    "# [(0, 0), (1, 1)],\n",
    "# [(0, 0)],\n",
    "# [(0, 1), (1, 0), (1, 1)],\n",
    "# [(0, 1), (1, 0)],\n",
    "# [(0, 1), (1, 1)],\n",
    "# [(0, 1)],\n",
    "# [(1, 0), (1, 1)],\n",
    "# [(1, 0)],\n",
    "# [(1, 1)],\n",
    "# []]\n",
    "\n",
    "\n",
    "def all_relation(n):\n",
    "    rels = [[]]\n",
    "    for relation in relations(n):\n",
    "        rels += [rel + [relation] for rel in rels]\n",
    "    return rels\n",
    "        "
   ]
  },
  {
   "cell_type": "code",
   "execution_count": 133,
   "metadata": {},
   "outputs": [],
   "source": [
    "def parties ( ensemble : list ) :\n",
    "    # condition d'arret\n",
    "    if len (ensemble) == 1:\n",
    "        return [ensemble] + [[]]\n",
    "    # appel recursif\n",
    "    else :\n",
    "        # recuperer les sous-partitions\n",
    "        previous_suite = parties (ensemble[1:])\n",
    "        # print(previous_suite)\n",
    "        # construire les partitions\n",
    "        new_suite = []\n",
    "        for subpartition in previous_suite :\n",
    "            new_suite.append ( [ensemble [0]] + subpartition )\n",
    "            new_suite.append ( subpartition )\n",
    "        \n",
    "        return new_suite"
   ]
  },
  {
   "cell_type": "code",
   "execution_count": 134,
   "metadata": {},
   "outputs": [
    {
     "data": {
      "text/plain": [
       "[[(0, 0), (0, 1), (1, 0), (1, 1)],\n",
       " [(0, 1), (1, 0), (1, 1)],\n",
       " [(0, 0), (1, 0), (1, 1)],\n",
       " [(1, 0), (1, 1)],\n",
       " [(0, 0), (0, 1), (1, 1)],\n",
       " [(0, 1), (1, 1)],\n",
       " [(0, 0), (1, 1)],\n",
       " [(1, 1)],\n",
       " [(0, 0), (0, 1), (1, 0)],\n",
       " [(0, 1), (1, 0)],\n",
       " [(0, 0), (1, 0)],\n",
       " [(1, 0)],\n",
       " [(0, 0), (0, 1)],\n",
       " [(0, 1)],\n",
       " [(0, 0)],\n",
       " []]"
      ]
     },
     "execution_count": 134,
     "metadata": {},
     "output_type": "execute_result"
    }
   ],
   "source": [
    "parties(relations(2))"
   ]
  },
  {
   "cell_type": "code",
   "execution_count": 135,
   "metadata": {},
   "outputs": [],
   "source": [
    "#EXO2\n",
    "\n",
    "def mat_adj(n:int, rel:list[tuple[int,int]]) -> matrix:\n",
    "    A = matrix(n) # On crée une matrice n*n\n",
    "    for x in range(n):\n",
    "        for y in range(n): # On parcourt la matrice\n",
    "            if (x,y) in rel:\n",
    "                A[x,y] = 1 # Si la relation est dans la liste des relations, on met 1\n",
    "    return A"
   ]
  },
  {
   "cell_type": "code",
   "execution_count": 136,
   "metadata": {},
   "outputs": [
    {
     "data": {
      "text/plain": [
       "[0 1 0]\n",
       "[0 0 1]\n",
       "[0 0 0]"
      ]
     },
     "execution_count": 136,
     "metadata": {},
     "output_type": "execute_result"
    }
   ],
   "source": [
    "mat_adj(3, [(0,1),(1,2)])"
   ]
  },
  {
   "cell_type": "code",
   "execution_count": 137,
   "metadata": {},
   "outputs": [],
   "source": [
    "# limit number in matrix to 1\n",
    "def mat_ceil(A: matrix) -> matrix:\n",
    "    for x in range(A.nrows()):\n",
    "        for y in range(A.ncols()): # On parcourt la matrice\n",
    "            A[x,y] = 1 if A[x,y] > 0 else 0 # Si on est supérieur à 1, on met 1\n",
    "    return A"
   ]
  },
  {
   "cell_type": "code",
   "execution_count": 138,
   "metadata": {},
   "outputs": [],
   "source": [
    "# binary addition\n",
    "def oplus(A,B):\n",
    "    return mat_ceil(A+B)"
   ]
  },
  {
   "cell_type": "code",
   "execution_count": 139,
   "metadata": {},
   "outputs": [
    {
     "name": "stdout",
     "output_type": "stream",
     "text": [
      "[1 0 0 0 0 0 0 0 0 0]\n",
      "[0 0 1 1 0 0 0 0 0 0]\n",
      "[0 0 0 0 1 0 1 0 0 0]\n",
      "[0 0 0 0 0 0 1 0 0 1]\n",
      "[0 0 0 0 0 0 0 0 1 0]\n",
      "[0 0 0 0 0 0 0 0 0 0]\n",
      "[0 0 0 0 0 0 0 0 0 0]\n",
      "[0 0 0 0 0 0 0 0 0 0]\n",
      "[0 0 0 0 0 0 0 0 0 0]\n",
      "[0 0 0 0 0 0 0 0 0 0]\n"
     ]
    }
   ],
   "source": [
    "# two relations on E10\n",
    "relA = [(0 ,0), (1,2), (2,4), (3,6), (4,8)] # n RA m \\iff m = 2n\n",
    "relB = [(0 ,0), (1,3), (2,6), (3,9)] # n RB m \\iff m = 3n\n",
    "A = mat_adj (10, relA)\n",
    "B = mat_adj (10, relB)\n",
    "print(oplus(A,B))"
   ]
  },
  {
   "cell_type": "code",
   "execution_count": 140,
   "metadata": {},
   "outputs": [],
   "source": [
    "# binary multiplication\n",
    "def otimes(A,B):\n",
    "    return mat_ceil(A*B)"
   ]
  },
  {
   "cell_type": "code",
   "execution_count": 141,
   "metadata": {},
   "outputs": [
    {
     "name": "stdout",
     "output_type": "stream",
     "text": [
      "[1 0 0 0 0 0 0 0 0 0]\n",
      "[0 0 0 0 0 0 1 0 0 0]\n",
      "[0 0 0 0 0 0 0 0 0 0]\n",
      "[0 0 0 0 0 0 0 0 0 0]\n",
      "[0 0 0 0 0 0 0 0 0 0]\n",
      "[0 0 0 0 0 0 0 0 0 0]\n",
      "[0 0 0 0 0 0 0 0 0 0]\n",
      "[0 0 0 0 0 0 0 0 0 0]\n",
      "[0 0 0 0 0 0 0 0 0 0]\n",
      "[0 0 0 0 0 0 0 0 0 0]\n"
     ]
    }
   ],
   "source": [
    "# two relations on E10\n",
    "relA = [(0 ,0), (1,2), (2,4), (3,6), (4,8)] # n RA m \\iff m = 2n\n",
    "relB = [(0 ,0), (1,3), (2,6), (3,9)] # n RB m \\iff m = 3n\n",
    "A = mat_adj (10, relA)\n",
    "B = mat_adj (10, relB)\n",
    "print(otimes(A,B)) # two bits at (0,0) and (1,6)"
   ]
  },
  {
   "cell_type": "code",
   "execution_count": 142,
   "metadata": {},
   "outputs": [],
   "source": [
    "# Si A est inclus dans B alors A+B = A car B ne rajoute rien à A\n",
    "def is_contained(A,B):\n",
    "    return oplus(A,B) == A"
   ]
  },
  {
   "cell_type": "code",
   "execution_count": 143,
   "metadata": {},
   "outputs": [
    {
     "name": "stdout",
     "output_type": "stream",
     "text": [
      "True\n",
      "False\n"
     ]
    }
   ],
   "source": [
    "# two relations on E10\n",
    "relA = [(0 ,0), (1,2), (2,4), (3,6), (4,8)]\n",
    "relB = [(0 ,0), (1,2), (4,8)]\n",
    "A = mat_adj (10, relA)\n",
    "B = mat_adj (10, relB)\n",
    "print(is_contained(A,B))\n",
    "print(is_contained(B,A))"
   ]
  },
  {
   "cell_type": "code",
   "execution_count": 144,
   "metadata": {},
   "outputs": [],
   "source": [
    "#EXO3\n",
    "\n",
    "# generate a binary relation on n nodes\n",
    "def random_relation(n : int):\n",
    "    return [(i,j) for i in range(n) for j in range(n) if random() < 1/9]"
   ]
  },
  {
   "cell_type": "code",
   "execution_count": 145,
   "metadata": {},
   "outputs": [
    {
     "ename": "TypeError",
     "evalue": "'DiGraph' object is not callable",
     "output_type": "error",
     "traceback": [
      "\u001b[0;31m---------------------------------------------------------------------------\u001b[0m",
      "\u001b[0;31mTypeError\u001b[0m                                 Traceback (most recent call last)",
      "\u001b[1;32m/home/bafbihmn/Documents/school/sagemath/TP9/aa.ipynb Cell 16\u001b[0m in \u001b[0;36m<cell line: 4>\u001b[0;34m()\u001b[0m\n\u001b[1;32m      <a href='vscode-notebook-cell:/home/bafbihmn/Documents/school/sagemath/TP9/aa.ipynb#X31sZmlsZQ%3D%3D?line=0'>1</a>\u001b[0m size \u001b[39m=\u001b[39m Integer(\u001b[39m40\u001b[39m)\n\u001b[1;32m      <a href='vscode-notebook-cell:/home/bafbihmn/Documents/school/sagemath/TP9/aa.ipynb#X31sZmlsZQ%3D%3D?line=1'>2</a>\u001b[0m adj \u001b[39m=\u001b[39m mat_adj(size, random_relation(size))\n\u001b[0;32m----> <a href='vscode-notebook-cell:/home/bafbihmn/Documents/school/sagemath/TP9/aa.ipynb#X31sZmlsZQ%3D%3D?line=3'>4</a>\u001b[0m g \u001b[39m=\u001b[39m DiGraph(adj)\n\u001b[1;32m      <a href='vscode-notebook-cell:/home/bafbihmn/Documents/school/sagemath/TP9/aa.ipynb#X31sZmlsZQ%3D%3D?line=4'>5</a>\u001b[0m g\n",
      "\u001b[0;31mTypeError\u001b[0m: 'DiGraph' object is not callable"
     ]
    }
   ],
   "source": [
    "size = 40\n",
    "adj = mat_adj(size, random_relation(size))\n",
    "\n",
    "g = DiGraph(adj)\n",
    "g\n"
   ]
  },
  {
   "cell_type": "code",
   "execution_count": null,
   "metadata": {},
   "outputs": [
    {
     "ename": "TypeError",
     "evalue": "'DiGraph' object is not callable",
     "output_type": "error",
     "traceback": [
      "\u001b[0;31m---------------------------------------------------------------------------\u001b[0m",
      "\u001b[0;31mTypeError\u001b[0m                                 Traceback (most recent call last)",
      "\u001b[1;32m/home/bafbihmn/Documents/school/sagemath/TP9/aa.ipynb Cell 17\u001b[0m in \u001b[0;36m<cell line: 1>\u001b[0;34m()\u001b[0m\n\u001b[0;32m----> <a href='vscode-notebook-cell:/home/bafbihmn/Documents/school/sagemath/TP9/aa.ipynb#X23sZmlsZQ%3D%3D?line=0'>1</a>\u001b[0m g \u001b[39m=\u001b[39m DiGraph({Integer(\u001b[39m0\u001b[39m): [Integer(\u001b[39m1\u001b[39m), Integer(\u001b[39m2\u001b[39m), Integer(\u001b[39m3\u001b[39m)], Integer(\u001b[39m2\u001b[39m): [Integer(\u001b[39m4\u001b[39m)]}); g\n",
      "\u001b[0;31mTypeError\u001b[0m: 'DiGraph' object is not callable"
     ]
    }
   ],
   "source": [
    "g = DiGraph({0: [1, 2, 3], 2: [4]}); g"
   ]
  },
  {
   "cell_type": "code",
   "execution_count": null,
   "metadata": {},
   "outputs": [
    {
     "data": {
      "image/png": "[encoded data removed]",
      "text/plain": [
       "Graphics object consisting of 14 graphics primitives"
      ]
     },
     "metadata": {},
     "output_type": "display_data"
    },
    {
     "ename": "NameError",
     "evalue": "name 'strongly_connected_components_digraph' is not defined",
     "output_type": "error",
     "traceback": [
      "\u001b[0;31m---------------------------------------------------------------------------\u001b[0m",
      "\u001b[0;31mNameError\u001b[0m                                 Traceback (most recent call last)",
      "\u001b[1;32m/home/bafbihmn/Documents/school/sagemath/TP9/aa.ipynb Cell 16\u001b[0m in \u001b[0;36m<cell line: 3>\u001b[0;34m()\u001b[0m\n\u001b[1;32m      <a href='vscode-notebook-cell:/home/bafbihmn/Documents/school/sagemath/TP9/aa.ipynb#X25sZmlsZQ%3D%3D?line=0'>1</a>\u001b[0m g \u001b[39m=\u001b[39m DiGraph({Integer(\u001b[39m0\u001b[39m): {Integer(\u001b[39m1\u001b[39m): \u001b[39m\"\u001b[39m\u001b[39m01\u001b[39m\u001b[39m\"\u001b[39m, Integer(\u001b[39m2\u001b[39m): \u001b[39m\"\u001b[39m\u001b[39m02\u001b[39m\u001b[39m\"\u001b[39m, Integer(\u001b[39m3\u001b[39m): \u001b[39m\"\u001b[39m\u001b[39m03\u001b[39m\u001b[39m\"\u001b[39m}, Integer(\u001b[39m1\u001b[39m): {Integer(\u001b[39m2\u001b[39m): \u001b[39m\"\u001b[39m\u001b[39m12\u001b[39m\u001b[39m\"\u001b[39m}, Integer(\u001b[39m2\u001b[39m):{Integer(\u001b[39m1\u001b[39m): \u001b[39m\"\u001b[39m\u001b[39m21\u001b[39m\u001b[39m\"\u001b[39m, Integer(\u001b[39m3\u001b[39m): \u001b[39m\"\u001b[39m\u001b[39m23\u001b[39m\u001b[39m\"\u001b[39m}})\n\u001b[1;32m      <a href='vscode-notebook-cell:/home/bafbihmn/Documents/school/sagemath/TP9/aa.ipynb#X25sZmlsZQ%3D%3D?line=1'>2</a>\u001b[0m show(g)\n\u001b[0;32m----> <a href='vscode-notebook-cell:/home/bafbihmn/Documents/school/sagemath/TP9/aa.ipynb#X25sZmlsZQ%3D%3D?line=2'>3</a>\u001b[0m scc_digraph \u001b[39m=\u001b[39m strongly_connected_components_digraph(g)\n\u001b[1;32m      <a href='vscode-notebook-cell:/home/bafbihmn/Documents/school/sagemath/TP9/aa.ipynb#X25sZmlsZQ%3D%3D?line=3'>4</a>\u001b[0m scc_digraph\u001b[39m.\u001b[39mis_isomorphic(digraphs\u001b[39m.\u001b[39mTransitiveTournament(Integer(\u001b[39m3\u001b[39m)))\n",
      "\u001b[0;31mNameError\u001b[0m: name 'strongly_connected_components_digraph' is not defined"
     ]
    }
   ],
   "source": [
    "g = DiGraph({0: {1: \"01\", 2: \"02\", 3: \"03\"}, 1: {2: \"12\"}, 2:{1: \"21\", 3: \"23\"}})\n",
    "show(g)\n",
    "scc_digraph = strongly_connected_components_digraph(g)\n",
    "scc_digraph.is_isomorphic(digraphs.TransitiveTournament(3))"
   ]
  },
  {
   "cell_type": "code",
   "execution_count": null,
   "metadata": {},
   "outputs": [],
   "source": []
  }
 ],
 "metadata": {
  "kernelspec": {
   "display_name": "SageMath 9.6",
   "language": "sage",
   "name": "sagemath"
  },
  "language_info": {
   "codemirror_mode": {
    "name": "ipython",
    "version": 3
   },
   "file_extension": ".py",
   "mimetype": "text/x-python",
   "name": "python",
   "nbconvert_exporter": "python",
   "pygments_lexer": "ipython3",
   "version": "3.10.9"
  },
  "orig_nbformat": 4
 },
 "nbformat": 4,
 "nbformat_minor": 2
}
