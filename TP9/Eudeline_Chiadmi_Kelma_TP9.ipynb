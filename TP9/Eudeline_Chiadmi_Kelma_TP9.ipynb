{
 "cells": [
  {
   "attachments": {},
   "cell_type": "markdown",
   "metadata": {},
   "source": [
    "# Exercice 1 : génération de relations\n",
    "\n",
    "Se donner une relation binaire sur En, c’est se donner une partie du produit cartésien $E_n$ × $E_n$. Par exemple,\n",
    "la partie {(0, 2),(1, 1),(1, 2),(2, 0)} de E3 est le graphe d’une relation binaire dont une représentation\n",
    "sagittale serait :\n",
    "\n",
    "On peut la coder sur python via une liste de tuples :\n",
    "$$[(0,2), (1,1), (1,2), (2,0)]$$\n",
    "\n",
    "1) En vous inspirant du TP sur les parties d’un ensemble, écrire une fonction all_relations(n) qui \n",
    "renvoie une liste de toutes les parties de En. Par exemple, all_relations(2) devrait renvoyer :\n",
    "```python\n",
    "    [[(0, 0), (0, 1), (1, 0), (1, 1)],\n",
    "    [(0, 0), (0, 1), (1, 0)],\n",
    "    [(0, 0), (0, 1), (1, 1)],\n",
    "    [(0, 0), (0, 1)],\n",
    "    [(0, 0), (1, 0), (1, 1)],\n",
    "    [(0, 0), (1, 0)],\n",
    "    [(0, 0), (1, 1)],\n",
    "    [(0, 0)],\n",
    "    [(0, 1), (1, 0), (1, 1)],\n",
    "    [(0, 1), (1, 0)],\n",
    "    [(0, 1), (1, 1)],\n",
    "    [(0, 1)],\n",
    "    [(1, 0), (1, 1)],\n",
    "    [(1, 0)],\n",
    "    [(1, 1)],\n",
    "    []]\n",
    "```\n",
    "que l’on interprète comme les graphes des 16 relations binaires possibles.  "
   ]
  },
  {
   "attachments": {},
   "cell_type": "markdown",
   "metadata": {},
   "source": [
    "Si on veux lister toute les parties d’un ensemble, on peut utiliser la fonction `parties()` du TP sur les parties d’un ensemble. Cette fonction prend en paramètre un ensemble et renvoie une liste de toutes les parties de cet ensemble.  \n",
    "On va donc devoir passer en paramètre un ensemble des éléments de $E_n * E_n$. Pour n = 2, on a :  `[(0, 0), (0, 1), (1, 0), (1, 1)]`"
   ]
  },
  {
   "cell_type": "code",
   "execution_count": 7,
   "metadata": {},
   "outputs": [],
   "source": [
    "def relations(n):\n",
    "    '''\n",
    "    Retourne la liste des relations de la relation d'ordre sur les entiers de 0 à n-1\n",
    "    '''\n",
    "    # façon pythonique de faire une double boucle et de retourner une liste de tuples (i,j)\n",
    "    return [(i,j) for i in range(n) for j in range(n)]"
   ]
  },
  {
   "cell_type": "code",
   "execution_count": 8,
   "metadata": {},
   "outputs": [
    {
     "name": "stdout",
     "output_type": "stream",
     "text": [
      "relations(2) = [(0, 0), (0, 1), (1, 0), (1, 1)]\n"
     ]
    }
   ],
   "source": [
    "print(f\"relations(2) = {relations(2)}\")"
   ]
  },
  {
   "cell_type": "code",
   "execution_count": 9,
   "metadata": {},
   "outputs": [],
   "source": [
    "# Notre fonction du TP sur les partitions\n",
    "\n",
    "def parties ( ensemble : list ) :\n",
    "    # condition d'arret\n",
    "    if len (ensemble) == 1:\n",
    "        return [ensemble] + [[]]\n",
    "    # appel recursif\n",
    "    else :\n",
    "        # recuperer les sous-partitions\n",
    "        previous_suite = parties (ensemble[1:])\n",
    "        # print(previous_suite)\n",
    "        # construire les partitions\n",
    "        new_suite = []\n",
    "        for subpartition in previous_suite :\n",
    "            new_suite.append ( [ensemble [0]] + subpartition )\n",
    "            new_suite.append ( subpartition )\n",
    "        \n",
    "        return new_suite"
   ]
  },
  {
   "cell_type": "code",
   "execution_count": 10,
   "metadata": {},
   "outputs": [
    {
     "name": "stdout",
     "output_type": "stream",
     "text": [
      "L'ensemble des parties d'une relation binaire de E_2 = [[(0, 0), (0, 1), (1, 0), (1, 1)], [(0, 1), (1, 0), (1, 1)], [(0, 0), (1, 0), (1, 1)], [(1, 0), (1, 1)], [(0, 0), (0, 1), (1, 1)], [(0, 1), (1, 1)], [(0, 0), (1, 1)], [(1, 1)], [(0, 0), (0, 1), (1, 0)], [(0, 1), (1, 0)], [(0, 0), (1, 0)], [(1, 0)], [(0, 0), (0, 1)], [(0, 1)], [(0, 0)], []]\n"
     ]
    }
   ],
   "source": [
    "print(f\"L'ensemble des parties d'une relation binaire de E_2 = {parties(relations(2))}\")"
   ]
  },
  {
   "attachments": {},
   "cell_type": "markdown",
   "metadata": {},
   "source": [
    "On a une second façon de faire notre fonction `all_relations(n)` sans utiliser la recursivité."
   ]
  },
  {
   "cell_type": "code",
   "execution_count": 11,
   "metadata": {},
   "outputs": [],
   "source": [
    "def all_relations(n):\n",
    "    # On commence par initialiser notre ensemble de relations avec l'ensemble vide\n",
    "    rels = [[]]\n",
    "    for relation in relations(n): # On boucle sur les relations de l'ensemble E_n\n",
    "        rels += [rel + [relation] for rel in rels] # On ajoute la relation à toutes les relations déjà présentes dans rels\n",
    "    return rels"
   ]
  },
  {
   "cell_type": "code",
   "execution_count": 12,
   "metadata": {},
   "outputs": [
    {
     "name": "stdout",
     "output_type": "stream",
     "text": [
      "L'ensemble des relations binaires de E_2 = [[], [(0, 0)], [(0, 1)], [(0, 0), (0, 1)], [(1, 0)], [(0, 0), (1, 0)], [(0, 1), (1, 0)], [(0, 0), (0, 1), (1, 0)], [(1, 1)], [(0, 0), (1, 1)], [(0, 1), (1, 1)], [(0, 0), (0, 1), (1, 1)], [(1, 0), (1, 1)], [(0, 0), (1, 0), (1, 1)], [(0, 1), (1, 0), (1, 1)], [(0, 0), (0, 1), (1, 0), (1, 1)]]\n"
     ]
    }
   ],
   "source": [
    "print(f\"L'ensemble des relations binaires de E_2 = {all_relations(2)}\")"
   ]
  },
  {
   "attachments": {},
   "cell_type": "markdown",
   "metadata": {},
   "source": [
    "  \n",
    "2) Générer toutes les relations binaires sur $E_3$. Combien de relations obtenez-vous ? Combien de\n",
    "relations binaires distinctes sur $E_n$ pourrait-on générer ?"
   ]
  },
  {
   "cell_type": "code",
   "execution_count": 13,
   "metadata": {},
   "outputs": [
    {
     "name": "stdout",
     "output_type": "stream",
     "text": [
      "L'ensemble des relations binaires de E_3 = [[], [(0, 0)], [(0, 1)], [(0, 0), (0, 1)], [(0, 2)], [(0, 0), (0, 2)], [(0, 1), (0, 2)], [(0, 0), (0, 1), (0, 2)], [(1, 0)], [(0, 0), (1, 0)], [(0, 1), (1, 0)], [(0, 0), (0, 1), (1, 0)], [(0, 2), (1, 0)], [(0, 0), (0, 2), (1, 0)], [(0, 1), (0, 2), (1, 0)], [(0, 0), (0, 1), (0, 2), (1, 0)], [(1, 1)], [(0, 0), (1, 1)], [(0, 1), (1, 1)], [(0, 0), (0, 1), (1, 1)], [(0, 2), (1, 1)], [(0, 0), (0, 2), (1, 1)], [(0, 1), (0, 2), (1, 1)], [(0, 0), (0, 1), (0, 2), (1, 1)], [(1, 0), (1, 1)], [(0, 0), (1, 0), (1, 1)], [(0, 1), (1, 0), (1, 1)], [(0, 0), (0, 1), (1, 0), (1, 1)], [(0, 2), (1, 0), (1, 1)], [(0, 0), (0, 2), (1, 0), (1, 1)], [(0, 1), (0, 2), (1, 0), (1, 1)], [(0, 0), (0, 1), (0, 2), (1, 0), (1, 1)], [(1, 2)], [(0, 0), (1, 2)], [(0, 1), (1, 2)], [(0, 0), (0, 1), (1, 2)], [(0, 2), (1, 2)], [(0, 0), (0, 2), (1, 2)], [(0, 1), (0, 2), (1, 2)], [(0, 0), (0, 1), (0, 2), (1, 2)], [(1, 0), (1, 2)], [(0, 0), (1, 0), (1, 2)], [(0, 1), (1, 0), (1, 2)], [(0, 0), (0, 1), (1, 0), (1, 2)], [(0, 2), (1, 0), (1, 2)], [(0, 0), (0, 2), (1, 0), (1, 2)], [(0, 1), (0, 2), (1, 0), (1, 2)], [(0, 0), (0, 1), (0, 2), (1, 0), (1, 2)], [(1, 1), (1, 2)], [(0, 0), (1, 1), (1, 2)], [(0, 1), (1, 1), (1, 2)], [(0, 0), (0, 1), (1, 1), (1, 2)], [(0, 2), (1, 1), (1, 2)], [(0, 0), (0, 2), (1, 1), (1, 2)], [(0, 1), (0, 2), (1, 1), (1, 2)], [(0, 0), (0, 1), (0, 2), (1, 1), (1, 2)], [(1, 0), (1, 1), (1, 2)], [(0, 0), (1, 0), (1, 1), (1, 2)], [(0, 1), (1, 0), (1, 1), (1, 2)], [(0, 0), (0, 1), (1, 0), (1, 1), (1, 2)], [(0, 2), (1, 0), (1, 1), (1, 2)], [(0, 0), (0, 2), (1, 0), (1, 1), (1, 2)], [(0, 1), (0, 2), (1, 0), (1, 1), (1, 2)], [(0, 0), (0, 1), (0, 2), (1, 0), (1, 1), (1, 2)], [(2, 0)], [(0, 0), (2, 0)], [(0, 1), (2, 0)], [(0, 0), (0, 1), (2, 0)], [(0, 2), (2, 0)], [(0, 0), (0, 2), (2, 0)], [(0, 1), (0, 2), (2, 0)], [(0, 0), (0, 1), (0, 2), (2, 0)], [(1, 0), (2, 0)], [(0, 0), (1, 0), (2, 0)], [(0, 1), (1, 0), (2, 0)], [(0, 0), (0, 1), (1, 0), (2, 0)], [(0, 2), (1, 0), (2, 0)], [(0, 0), (0, 2), (1, 0), (2, 0)], [(0, 1), (0, 2), (1, 0), (2, 0)], [(0, 0), (0, 1), (0, 2), (1, 0), (2, 0)], [(1, 1), (2, 0)], [(0, 0), (1, 1), (2, 0)], [(0, 1), (1, 1), (2, 0)], [(0, 0), (0, 1), (1, 1), (2, 0)], [(0, 2), (1, 1), (2, 0)], [(0, 0), (0, 2), (1, 1), (2, 0)], [(0, 1), (0, 2), (1, 1), (2, 0)], [(0, 0), (0, 1), (0, 2), (1, 1), (2, 0)], [(1, 0), (1, 1), (2, 0)], [(0, 0), (1, 0), (1, 1), (2, 0)], [(0, 1), (1, 0), (1, 1), (2, 0)], [(0, 0), (0, 1), (1, 0), (1, 1), (2, 0)], [(0, 2), (1, 0), (1, 1), (2, 0)], [(0, 0), (0, 2), (1, 0), (1, 1), (2, 0)], [(0, 1), (0, 2), (1, 0), (1, 1), (2, 0)], [(0, 0), (0, 1), (0, 2), (1, 0), (1, 1), (2, 0)], [(1, 2), (2, 0)], [(0, 0), (1, 2), (2, 0)], [(0, 1), (1, 2), (2, 0)], [(0, 0), (0, 1), (1, 2), (2, 0)], [(0, 2), (1, 2), (2, 0)], [(0, 0), (0, 2), (1, 2), (2, 0)], [(0, 1), (0, 2), (1, 2), (2, 0)], [(0, 0), (0, 1), (0, 2), (1, 2), (2, 0)], [(1, 0), (1, 2), (2, 0)], [(0, 0), (1, 0), (1, 2), (2, 0)], [(0, 1), (1, 0), (1, 2), (2, 0)], [(0, 0), (0, 1), (1, 0), (1, 2), (2, 0)], [(0, 2), (1, 0), (1, 2), (2, 0)], [(0, 0), (0, 2), (1, 0), (1, 2), (2, 0)], [(0, 1), (0, 2), (1, 0), (1, 2), (2, 0)], [(0, 0), (0, 1), (0, 2), (1, 0), (1, 2), (2, 0)], [(1, 1), (1, 2), (2, 0)], [(0, 0), (1, 1), (1, 2), (2, 0)], [(0, 1), (1, 1), (1, 2), (2, 0)], [(0, 0), (0, 1), (1, 1), (1, 2), (2, 0)], [(0, 2), (1, 1), (1, 2), (2, 0)], [(0, 0), (0, 2), (1, 1), (1, 2), (2, 0)], [(0, 1), (0, 2), (1, 1), (1, 2), (2, 0)], [(0, 0), (0, 1), (0, 2), (1, 1), (1, 2), (2, 0)], [(1, 0), (1, 1), (1, 2), (2, 0)], [(0, 0), (1, 0), (1, 1), (1, 2), (2, 0)], [(0, 1), (1, 0), (1, 1), (1, 2), (2, 0)], [(0, 0), (0, 1), (1, 0), (1, 1), (1, 2), (2, 0)], [(0, 2), (1, 0), (1, 1), (1, 2), (2, 0)], [(0, 0), (0, 2), (1, 0), (1, 1), (1, 2), (2, 0)], [(0, 1), (0, 2), (1, 0), (1, 1), (1, 2), (2, 0)], [(0, 0), (0, 1), (0, 2), (1, 0), (1, 1), (1, 2), (2, 0)], [(2, 1)], [(0, 0), (2, 1)], [(0, 1), (2, 1)], [(0, 0), (0, 1), (2, 1)], [(0, 2), (2, 1)], [(0, 0), (0, 2), (2, 1)], [(0, 1), (0, 2), (2, 1)], [(0, 0), (0, 1), (0, 2), (2, 1)], [(1, 0), (2, 1)], [(0, 0), (1, 0), (2, 1)], [(0, 1), (1, 0), (2, 1)], [(0, 0), (0, 1), (1, 0), (2, 1)], [(0, 2), (1, 0), (2, 1)], [(0, 0), (0, 2), (1, 0), (2, 1)], [(0, 1), (0, 2), (1, 0), (2, 1)], [(0, 0), (0, 1), (0, 2), (1, 0), (2, 1)], [(1, 1), (2, 1)], [(0, 0), (1, 1), (2, 1)], [(0, 1), (1, 1), (2, 1)], [(0, 0), (0, 1), (1, 1), (2, 1)], [(0, 2), (1, 1), (2, 1)], [(0, 0), (0, 2), (1, 1), (2, 1)], [(0, 1), (0, 2), (1, 1), (2, 1)], [(0, 0), (0, 1), (0, 2), (1, 1), (2, 1)], [(1, 0), (1, 1), (2, 1)], [(0, 0), (1, 0), (1, 1), (2, 1)], [(0, 1), (1, 0), (1, 1), (2, 1)], [(0, 0), (0, 1), (1, 0), (1, 1), (2, 1)], [(0, 2), (1, 0), (1, 1), (2, 1)], [(0, 0), (0, 2), (1, 0), (1, 1), (2, 1)], [(0, 1), (0, 2), (1, 0), (1, 1), (2, 1)], [(0, 0), (0, 1), (0, 2), (1, 0), (1, 1), (2, 1)], [(1, 2), (2, 1)], [(0, 0), (1, 2), (2, 1)], [(0, 1), (1, 2), (2, 1)], [(0, 0), (0, 1), (1, 2), (2, 1)], [(0, 2), (1, 2), (2, 1)], [(0, 0), (0, 2), (1, 2), (2, 1)], [(0, 1), (0, 2), (1, 2), (2, 1)], [(0, 0), (0, 1), (0, 2), (1, 2), (2, 1)], [(1, 0), (1, 2), (2, 1)], [(0, 0), (1, 0), (1, 2), (2, 1)], [(0, 1), (1, 0), (1, 2), (2, 1)], [(0, 0), (0, 1), (1, 0), (1, 2), (2, 1)], [(0, 2), (1, 0), (1, 2), (2, 1)], [(0, 0), (0, 2), (1, 0), (1, 2), (2, 1)], [(0, 1), (0, 2), (1, 0), (1, 2), (2, 1)], [(0, 0), (0, 1), (0, 2), (1, 0), (1, 2), (2, 1)], [(1, 1), (1, 2), (2, 1)], [(0, 0), (1, 1), (1, 2), (2, 1)], [(0, 1), (1, 1), (1, 2), (2, 1)], [(0, 0), (0, 1), (1, 1), (1, 2), (2, 1)], [(0, 2), (1, 1), (1, 2), (2, 1)], [(0, 0), (0, 2), (1, 1), (1, 2), (2, 1)], [(0, 1), (0, 2), (1, 1), (1, 2), (2, 1)], [(0, 0), (0, 1), (0, 2), (1, 1), (1, 2), (2, 1)], [(1, 0), (1, 1), (1, 2), (2, 1)], [(0, 0), (1, 0), (1, 1), (1, 2), (2, 1)], [(0, 1), (1, 0), (1, 1), (1, 2), (2, 1)], [(0, 0), (0, 1), (1, 0), (1, 1), (1, 2), (2, 1)], [(0, 2), (1, 0), (1, 1), (1, 2), (2, 1)], [(0, 0), (0, 2), (1, 0), (1, 1), (1, 2), (2, 1)], [(0, 1), (0, 2), (1, 0), (1, 1), (1, 2), (2, 1)], [(0, 0), (0, 1), (0, 2), (1, 0), (1, 1), (1, 2), (2, 1)], [(2, 0), (2, 1)], [(0, 0), (2, 0), (2, 1)], [(0, 1), (2, 0), (2, 1)], [(0, 0), (0, 1), (2, 0), (2, 1)], [(0, 2), (2, 0), (2, 1)], [(0, 0), (0, 2), (2, 0), (2, 1)], [(0, 1), (0, 2), (2, 0), (2, 1)], [(0, 0), (0, 1), (0, 2), (2, 0), (2, 1)], [(1, 0), (2, 0), (2, 1)], [(0, 0), (1, 0), (2, 0), (2, 1)], [(0, 1), (1, 0), (2, 0), (2, 1)], [(0, 0), (0, 1), (1, 0), (2, 0), (2, 1)], [(0, 2), (1, 0), (2, 0), (2, 1)], [(0, 0), (0, 2), (1, 0), (2, 0), (2, 1)], [(0, 1), (0, 2), (1, 0), (2, 0), (2, 1)], [(0, 0), (0, 1), (0, 2), (1, 0), (2, 0), (2, 1)], [(1, 1), (2, 0), (2, 1)], [(0, 0), (1, 1), (2, 0), (2, 1)], [(0, 1), (1, 1), (2, 0), (2, 1)], [(0, 0), (0, 1), (1, 1), (2, 0), (2, 1)], [(0, 2), (1, 1), (2, 0), (2, 1)], [(0, 0), (0, 2), (1, 1), (2, 0), (2, 1)], [(0, 1), (0, 2), (1, 1), (2, 0), (2, 1)], [(0, 0), (0, 1), (0, 2), (1, 1), (2, 0), (2, 1)], [(1, 0), (1, 1), (2, 0), (2, 1)], [(0, 0), (1, 0), (1, 1), (2, 0), (2, 1)], [(0, 1), (1, 0), (1, 1), (2, 0), (2, 1)], [(0, 0), (0, 1), (1, 0), (1, 1), (2, 0), (2, 1)], [(0, 2), (1, 0), (1, 1), (2, 0), (2, 1)], [(0, 0), (0, 2), (1, 0), (1, 1), (2, 0), (2, 1)], [(0, 1), (0, 2), (1, 0), (1, 1), (2, 0), (2, 1)], [(0, 0), (0, 1), (0, 2), (1, 0), (1, 1), (2, 0), (2, 1)], [(1, 2), (2, 0), (2, 1)], [(0, 0), (1, 2), (2, 0), (2, 1)], [(0, 1), (1, 2), (2, 0), (2, 1)], [(0, 0), (0, 1), (1, 2), (2, 0), (2, 1)], [(0, 2), (1, 2), (2, 0), (2, 1)], [(0, 0), (0, 2), (1, 2), (2, 0), (2, 1)], [(0, 1), (0, 2), (1, 2), (2, 0), (2, 1)], [(0, 0), (0, 1), (0, 2), (1, 2), (2, 0), (2, 1)], [(1, 0), (1, 2), (2, 0), (2, 1)], [(0, 0), (1, 0), (1, 2), (2, 0), (2, 1)], [(0, 1), (1, 0), (1, 2), (2, 0), (2, 1)], [(0, 0), (0, 1), (1, 0), (1, 2), (2, 0), (2, 1)], [(0, 2), (1, 0), (1, 2), (2, 0), (2, 1)], [(0, 0), (0, 2), (1, 0), (1, 2), (2, 0), (2, 1)], [(0, 1), (0, 2), (1, 0), (1, 2), (2, 0), (2, 1)], [(0, 0), (0, 1), (0, 2), (1, 0), (1, 2), (2, 0), (2, 1)], [(1, 1), (1, 2), (2, 0), (2, 1)], [(0, 0), (1, 1), (1, 2), (2, 0), (2, 1)], [(0, 1), (1, 1), (1, 2), (2, 0), (2, 1)], [(0, 0), (0, 1), (1, 1), (1, 2), (2, 0), (2, 1)], [(0, 2), (1, 1), (1, 2), (2, 0), (2, 1)], [(0, 0), (0, 2), (1, 1), (1, 2), (2, 0), (2, 1)], [(0, 1), (0, 2), (1, 1), (1, 2), (2, 0), (2, 1)], [(0, 0), (0, 1), (0, 2), (1, 1), (1, 2), (2, 0), (2, 1)], [(1, 0), (1, 1), (1, 2), (2, 0), (2, 1)], [(0, 0), (1, 0), (1, 1), (1, 2), (2, 0), (2, 1)], [(0, 1), (1, 0), (1, 1), (1, 2), (2, 0), (2, 1)], [(0, 0), (0, 1), (1, 0), (1, 1), (1, 2), (2, 0), (2, 1)], [(0, 2), (1, 0), (1, 1), (1, 2), (2, 0), (2, 1)], [(0, 0), (0, 2), (1, 0), (1, 1), (1, 2), (2, 0), (2, 1)], [(0, 1), (0, 2), (1, 0), (1, 1), (1, 2), (2, 0), (2, 1)], [(0, 0), (0, 1), (0, 2), (1, 0), (1, 1), (1, 2), (2, 0), (2, 1)], [(2, 2)], [(0, 0), (2, 2)], [(0, 1), (2, 2)], [(0, 0), (0, 1), (2, 2)], [(0, 2), (2, 2)], [(0, 0), (0, 2), (2, 2)], [(0, 1), (0, 2), (2, 2)], [(0, 0), (0, 1), (0, 2), (2, 2)], [(1, 0), (2, 2)], [(0, 0), (1, 0), (2, 2)], [(0, 1), (1, 0), (2, 2)], [(0, 0), (0, 1), (1, 0), (2, 2)], [(0, 2), (1, 0), (2, 2)], [(0, 0), (0, 2), (1, 0), (2, 2)], [(0, 1), (0, 2), (1, 0), (2, 2)], [(0, 0), (0, 1), (0, 2), (1, 0), (2, 2)], [(1, 1), (2, 2)], [(0, 0), (1, 1), (2, 2)], [(0, 1), (1, 1), (2, 2)], [(0, 0), (0, 1), (1, 1), (2, 2)], [(0, 2), (1, 1), (2, 2)], [(0, 0), (0, 2), (1, 1), (2, 2)], [(0, 1), (0, 2), (1, 1), (2, 2)], [(0, 0), (0, 1), (0, 2), (1, 1), (2, 2)], [(1, 0), (1, 1), (2, 2)], [(0, 0), (1, 0), (1, 1), (2, 2)], [(0, 1), (1, 0), (1, 1), (2, 2)], [(0, 0), (0, 1), (1, 0), (1, 1), (2, 2)], [(0, 2), (1, 0), (1, 1), (2, 2)], [(0, 0), (0, 2), (1, 0), (1, 1), (2, 2)], [(0, 1), (0, 2), (1, 0), (1, 1), (2, 2)], [(0, 0), (0, 1), (0, 2), (1, 0), (1, 1), (2, 2)], [(1, 2), (2, 2)], [(0, 0), (1, 2), (2, 2)], [(0, 1), (1, 2), (2, 2)], [(0, 0), (0, 1), (1, 2), (2, 2)], [(0, 2), (1, 2), (2, 2)], [(0, 0), (0, 2), (1, 2), (2, 2)], [(0, 1), (0, 2), (1, 2), (2, 2)], [(0, 0), (0, 1), (0, 2), (1, 2), (2, 2)], [(1, 0), (1, 2), (2, 2)], [(0, 0), (1, 0), (1, 2), (2, 2)], [(0, 1), (1, 0), (1, 2), (2, 2)], [(0, 0), (0, 1), (1, 0), (1, 2), (2, 2)], [(0, 2), (1, 0), (1, 2), (2, 2)], [(0, 0), (0, 2), (1, 0), (1, 2), (2, 2)], [(0, 1), (0, 2), (1, 0), (1, 2), (2, 2)], [(0, 0), (0, 1), (0, 2), (1, 0), (1, 2), (2, 2)], [(1, 1), (1, 2), (2, 2)], [(0, 0), (1, 1), (1, 2), (2, 2)], [(0, 1), (1, 1), (1, 2), (2, 2)], [(0, 0), (0, 1), (1, 1), (1, 2), (2, 2)], [(0, 2), (1, 1), (1, 2), (2, 2)], [(0, 0), (0, 2), (1, 1), (1, 2), (2, 2)], [(0, 1), (0, 2), (1, 1), (1, 2), (2, 2)], [(0, 0), (0, 1), (0, 2), (1, 1), (1, 2), (2, 2)], [(1, 0), (1, 1), (1, 2), (2, 2)], [(0, 0), (1, 0), (1, 1), (1, 2), (2, 2)], [(0, 1), (1, 0), (1, 1), (1, 2), (2, 2)], [(0, 0), (0, 1), (1, 0), (1, 1), (1, 2), (2, 2)], [(0, 2), (1, 0), (1, 1), (1, 2), (2, 2)], [(0, 0), (0, 2), (1, 0), (1, 1), (1, 2), (2, 2)], [(0, 1), (0, 2), (1, 0), (1, 1), (1, 2), (2, 2)], [(0, 0), (0, 1), (0, 2), (1, 0), (1, 1), (1, 2), (2, 2)], [(2, 0), (2, 2)], [(0, 0), (2, 0), (2, 2)], [(0, 1), (2, 0), (2, 2)], [(0, 0), (0, 1), (2, 0), (2, 2)], [(0, 2), (2, 0), (2, 2)], [(0, 0), (0, 2), (2, 0), (2, 2)], [(0, 1), (0, 2), (2, 0), (2, 2)], [(0, 0), (0, 1), (0, 2), (2, 0), (2, 2)], [(1, 0), (2, 0), (2, 2)], [(0, 0), (1, 0), (2, 0), (2, 2)], [(0, 1), (1, 0), (2, 0), (2, 2)], [(0, 0), (0, 1), (1, 0), (2, 0), (2, 2)], [(0, 2), (1, 0), (2, 0), (2, 2)], [(0, 0), (0, 2), (1, 0), (2, 0), (2, 2)], [(0, 1), (0, 2), (1, 0), (2, 0), (2, 2)], [(0, 0), (0, 1), (0, 2), (1, 0), (2, 0), (2, 2)], [(1, 1), (2, 0), (2, 2)], [(0, 0), (1, 1), (2, 0), (2, 2)], [(0, 1), (1, 1), (2, 0), (2, 2)], [(0, 0), (0, 1), (1, 1), (2, 0), (2, 2)], [(0, 2), (1, 1), (2, 0), (2, 2)], [(0, 0), (0, 2), (1, 1), (2, 0), (2, 2)], [(0, 1), (0, 2), (1, 1), (2, 0), (2, 2)], [(0, 0), (0, 1), (0, 2), (1, 1), (2, 0), (2, 2)], [(1, 0), (1, 1), (2, 0), (2, 2)], [(0, 0), (1, 0), (1, 1), (2, 0), (2, 2)], [(0, 1), (1, 0), (1, 1), (2, 0), (2, 2)], [(0, 0), (0, 1), (1, 0), (1, 1), (2, 0), (2, 2)], [(0, 2), (1, 0), (1, 1), (2, 0), (2, 2)], [(0, 0), (0, 2), (1, 0), (1, 1), (2, 0), (2, 2)], [(0, 1), (0, 2), (1, 0), (1, 1), (2, 0), (2, 2)], [(0, 0), (0, 1), (0, 2), (1, 0), (1, 1), (2, 0), (2, 2)], [(1, 2), (2, 0), (2, 2)], [(0, 0), (1, 2), (2, 0), (2, 2)], [(0, 1), (1, 2), (2, 0), (2, 2)], [(0, 0), (0, 1), (1, 2), (2, 0), (2, 2)], [(0, 2), (1, 2), (2, 0), (2, 2)], [(0, 0), (0, 2), (1, 2), (2, 0), (2, 2)], [(0, 1), (0, 2), (1, 2), (2, 0), (2, 2)], [(0, 0), (0, 1), (0, 2), (1, 2), (2, 0), (2, 2)], [(1, 0), (1, 2), (2, 0), (2, 2)], [(0, 0), (1, 0), (1, 2), (2, 0), (2, 2)], [(0, 1), (1, 0), (1, 2), (2, 0), (2, 2)], [(0, 0), (0, 1), (1, 0), (1, 2), (2, 0), (2, 2)], [(0, 2), (1, 0), (1, 2), (2, 0), (2, 2)], [(0, 0), (0, 2), (1, 0), (1, 2), (2, 0), (2, 2)], [(0, 1), (0, 2), (1, 0), (1, 2), (2, 0), (2, 2)], [(0, 0), (0, 1), (0, 2), (1, 0), (1, 2), (2, 0), (2, 2)], [(1, 1), (1, 2), (2, 0), (2, 2)], [(0, 0), (1, 1), (1, 2), (2, 0), (2, 2)], [(0, 1), (1, 1), (1, 2), (2, 0), (2, 2)], [(0, 0), (0, 1), (1, 1), (1, 2), (2, 0), (2, 2)], [(0, 2), (1, 1), (1, 2), (2, 0), (2, 2)], [(0, 0), (0, 2), (1, 1), (1, 2), (2, 0), (2, 2)], [(0, 1), (0, 2), (1, 1), (1, 2), (2, 0), (2, 2)], [(0, 0), (0, 1), (0, 2), (1, 1), (1, 2), (2, 0), (2, 2)], [(1, 0), (1, 1), (1, 2), (2, 0), (2, 2)], [(0, 0), (1, 0), (1, 1), (1, 2), (2, 0), (2, 2)], [(0, 1), (1, 0), (1, 1), (1, 2), (2, 0), (2, 2)], [(0, 0), (0, 1), (1, 0), (1, 1), (1, 2), (2, 0), (2, 2)], [(0, 2), (1, 0), (1, 1), (1, 2), (2, 0), (2, 2)], [(0, 0), (0, 2), (1, 0), (1, 1), (1, 2), (2, 0), (2, 2)], [(0, 1), (0, 2), (1, 0), (1, 1), (1, 2), (2, 0), (2, 2)], [(0, 0), (0, 1), (0, 2), (1, 0), (1, 1), (1, 2), (2, 0), (2, 2)], [(2, 1), (2, 2)], [(0, 0), (2, 1), (2, 2)], [(0, 1), (2, 1), (2, 2)], [(0, 0), (0, 1), (2, 1), (2, 2)], [(0, 2), (2, 1), (2, 2)], [(0, 0), (0, 2), (2, 1), (2, 2)], [(0, 1), (0, 2), (2, 1), (2, 2)], [(0, 0), (0, 1), (0, 2), (2, 1), (2, 2)], [(1, 0), (2, 1), (2, 2)], [(0, 0), (1, 0), (2, 1), (2, 2)], [(0, 1), (1, 0), (2, 1), (2, 2)], [(0, 0), (0, 1), (1, 0), (2, 1), (2, 2)], [(0, 2), (1, 0), (2, 1), (2, 2)], [(0, 0), (0, 2), (1, 0), (2, 1), (2, 2)], [(0, 1), (0, 2), (1, 0), (2, 1), (2, 2)], [(0, 0), (0, 1), (0, 2), (1, 0), (2, 1), (2, 2)], [(1, 1), (2, 1), (2, 2)], [(0, 0), (1, 1), (2, 1), (2, 2)], [(0, 1), (1, 1), (2, 1), (2, 2)], [(0, 0), (0, 1), (1, 1), (2, 1), (2, 2)], [(0, 2), (1, 1), (2, 1), (2, 2)], [(0, 0), (0, 2), (1, 1), (2, 1), (2, 2)], [(0, 1), (0, 2), (1, 1), (2, 1), (2, 2)], [(0, 0), (0, 1), (0, 2), (1, 1), (2, 1), (2, 2)], [(1, 0), (1, 1), (2, 1), (2, 2)], [(0, 0), (1, 0), (1, 1), (2, 1), (2, 2)], [(0, 1), (1, 0), (1, 1), (2, 1), (2, 2)], [(0, 0), (0, 1), (1, 0), (1, 1), (2, 1), (2, 2)], [(0, 2), (1, 0), (1, 1), (2, 1), (2, 2)], [(0, 0), (0, 2), (1, 0), (1, 1), (2, 1), (2, 2)], [(0, 1), (0, 2), (1, 0), (1, 1), (2, 1), (2, 2)], [(0, 0), (0, 1), (0, 2), (1, 0), (1, 1), (2, 1), (2, 2)], [(1, 2), (2, 1), (2, 2)], [(0, 0), (1, 2), (2, 1), (2, 2)], [(0, 1), (1, 2), (2, 1), (2, 2)], [(0, 0), (0, 1), (1, 2), (2, 1), (2, 2)], [(0, 2), (1, 2), (2, 1), (2, 2)], [(0, 0), (0, 2), (1, 2), (2, 1), (2, 2)], [(0, 1), (0, 2), (1, 2), (2, 1), (2, 2)], [(0, 0), (0, 1), (0, 2), (1, 2), (2, 1), (2, 2)], [(1, 0), (1, 2), (2, 1), (2, 2)], [(0, 0), (1, 0), (1, 2), (2, 1), (2, 2)], [(0, 1), (1, 0), (1, 2), (2, 1), (2, 2)], [(0, 0), (0, 1), (1, 0), (1, 2), (2, 1), (2, 2)], [(0, 2), (1, 0), (1, 2), (2, 1), (2, 2)], [(0, 0), (0, 2), (1, 0), (1, 2), (2, 1), (2, 2)], [(0, 1), (0, 2), (1, 0), (1, 2), (2, 1), (2, 2)], [(0, 0), (0, 1), (0, 2), (1, 0), (1, 2), (2, 1), (2, 2)], [(1, 1), (1, 2), (2, 1), (2, 2)], [(0, 0), (1, 1), (1, 2), (2, 1), (2, 2)], [(0, 1), (1, 1), (1, 2), (2, 1), (2, 2)], [(0, 0), (0, 1), (1, 1), (1, 2), (2, 1), (2, 2)], [(0, 2), (1, 1), (1, 2), (2, 1), (2, 2)], [(0, 0), (0, 2), (1, 1), (1, 2), (2, 1), (2, 2)], [(0, 1), (0, 2), (1, 1), (1, 2), (2, 1), (2, 2)], [(0, 0), (0, 1), (0, 2), (1, 1), (1, 2), (2, 1), (2, 2)], [(1, 0), (1, 1), (1, 2), (2, 1), (2, 2)], [(0, 0), (1, 0), (1, 1), (1, 2), (2, 1), (2, 2)], [(0, 1), (1, 0), (1, 1), (1, 2), (2, 1), (2, 2)], [(0, 0), (0, 1), (1, 0), (1, 1), (1, 2), (2, 1), (2, 2)], [(0, 2), (1, 0), (1, 1), (1, 2), (2, 1), (2, 2)], [(0, 0), (0, 2), (1, 0), (1, 1), (1, 2), (2, 1), (2, 2)], [(0, 1), (0, 2), (1, 0), (1, 1), (1, 2), (2, 1), (2, 2)], [(0, 0), (0, 1), (0, 2), (1, 0), (1, 1), (1, 2), (2, 1), (2, 2)], [(2, 0), (2, 1), (2, 2)], [(0, 0), (2, 0), (2, 1), (2, 2)], [(0, 1), (2, 0), (2, 1), (2, 2)], [(0, 0), (0, 1), (2, 0), (2, 1), (2, 2)], [(0, 2), (2, 0), (2, 1), (2, 2)], [(0, 0), (0, 2), (2, 0), (2, 1), (2, 2)], [(0, 1), (0, 2), (2, 0), (2, 1), (2, 2)], [(0, 0), (0, 1), (0, 2), (2, 0), (2, 1), (2, 2)], [(1, 0), (2, 0), (2, 1), (2, 2)], [(0, 0), (1, 0), (2, 0), (2, 1), (2, 2)], [(0, 1), (1, 0), (2, 0), (2, 1), (2, 2)], [(0, 0), (0, 1), (1, 0), (2, 0), (2, 1), (2, 2)], [(0, 2), (1, 0), (2, 0), (2, 1), (2, 2)], [(0, 0), (0, 2), (1, 0), (2, 0), (2, 1), (2, 2)], [(0, 1), (0, 2), (1, 0), (2, 0), (2, 1), (2, 2)], [(0, 0), (0, 1), (0, 2), (1, 0), (2, 0), (2, 1), (2, 2)], [(1, 1), (2, 0), (2, 1), (2, 2)], [(0, 0), (1, 1), (2, 0), (2, 1), (2, 2)], [(0, 1), (1, 1), (2, 0), (2, 1), (2, 2)], [(0, 0), (0, 1), (1, 1), (2, 0), (2, 1), (2, 2)], [(0, 2), (1, 1), (2, 0), (2, 1), (2, 2)], [(0, 0), (0, 2), (1, 1), (2, 0), (2, 1), (2, 2)], [(0, 1), (0, 2), (1, 1), (2, 0), (2, 1), (2, 2)], [(0, 0), (0, 1), (0, 2), (1, 1), (2, 0), (2, 1), (2, 2)], [(1, 0), (1, 1), (2, 0), (2, 1), (2, 2)], [(0, 0), (1, 0), (1, 1), (2, 0), (2, 1), (2, 2)], [(0, 1), (1, 0), (1, 1), (2, 0), (2, 1), (2, 2)], [(0, 0), (0, 1), (1, 0), (1, 1), (2, 0), (2, 1), (2, 2)], [(0, 2), (1, 0), (1, 1), (2, 0), (2, 1), (2, 2)], [(0, 0), (0, 2), (1, 0), (1, 1), (2, 0), (2, 1), (2, 2)], [(0, 1), (0, 2), (1, 0), (1, 1), (2, 0), (2, 1), (2, 2)], [(0, 0), (0, 1), (0, 2), (1, 0), (1, 1), (2, 0), (2, 1), (2, 2)], [(1, 2), (2, 0), (2, 1), (2, 2)], [(0, 0), (1, 2), (2, 0), (2, 1), (2, 2)], [(0, 1), (1, 2), (2, 0), (2, 1), (2, 2)], [(0, 0), (0, 1), (1, 2), (2, 0), (2, 1), (2, 2)], [(0, 2), (1, 2), (2, 0), (2, 1), (2, 2)], [(0, 0), (0, 2), (1, 2), (2, 0), (2, 1), (2, 2)], [(0, 1), (0, 2), (1, 2), (2, 0), (2, 1), (2, 2)], [(0, 0), (0, 1), (0, 2), (1, 2), (2, 0), (2, 1), (2, 2)], [(1, 0), (1, 2), (2, 0), (2, 1), (2, 2)], [(0, 0), (1, 0), (1, 2), (2, 0), (2, 1), (2, 2)], [(0, 1), (1, 0), (1, 2), (2, 0), (2, 1), (2, 2)], [(0, 0), (0, 1), (1, 0), (1, 2), (2, 0), (2, 1), (2, 2)], [(0, 2), (1, 0), (1, 2), (2, 0), (2, 1), (2, 2)], [(0, 0), (0, 2), (1, 0), (1, 2), (2, 0), (2, 1), (2, 2)], [(0, 1), (0, 2), (1, 0), (1, 2), (2, 0), (2, 1), (2, 2)], [(0, 0), (0, 1), (0, 2), (1, 0), (1, 2), (2, 0), (2, 1), (2, 2)], [(1, 1), (1, 2), (2, 0), (2, 1), (2, 2)], [(0, 0), (1, 1), (1, 2), (2, 0), (2, 1), (2, 2)], [(0, 1), (1, 1), (1, 2), (2, 0), (2, 1), (2, 2)], [(0, 0), (0, 1), (1, 1), (1, 2), (2, 0), (2, 1), (2, 2)], [(0, 2), (1, 1), (1, 2), (2, 0), (2, 1), (2, 2)], [(0, 0), (0, 2), (1, 1), (1, 2), (2, 0), (2, 1), (2, 2)], [(0, 1), (0, 2), (1, 1), (1, 2), (2, 0), (2, 1), (2, 2)], [(0, 0), (0, 1), (0, 2), (1, 1), (1, 2), (2, 0), (2, 1), (2, 2)], [(1, 0), (1, 1), (1, 2), (2, 0), (2, 1), (2, 2)], [(0, 0), (1, 0), (1, 1), (1, 2), (2, 0), (2, 1), (2, 2)], [(0, 1), (1, 0), (1, 1), (1, 2), (2, 0), (2, 1), (2, 2)], [(0, 0), (0, 1), (1, 0), (1, 1), (1, 2), (2, 0), (2, 1), (2, 2)], [(0, 2), (1, 0), (1, 1), (1, 2), (2, 0), (2, 1), (2, 2)], [(0, 0), (0, 2), (1, 0), (1, 1), (1, 2), (2, 0), (2, 1), (2, 2)], [(0, 1), (0, 2), (1, 0), (1, 1), (1, 2), (2, 0), (2, 1), (2, 2)], [(0, 0), (0, 1), (0, 2), (1, 0), (1, 1), (1, 2), (2, 0), (2, 1), (2, 2)]], il y en a 512\n"
     ]
    }
   ],
   "source": [
    "all = all_relations(3)\n",
    "# all = parties(relations(3))\n",
    "print(f\"L'ensemble des relations binaires de E_3 = {all}, il y en a {len(all)}\")"
   ]
  },
  {
   "attachments": {},
   "cell_type": "markdown",
   "metadata": {},
   "source": [
    "Pour compter le nombre de relations binaires distinctes sur $E_n$, on peut calculer la cardinalité de $P(E_n * E_n)$, c'est à dire le nombre de parties de $E_n * E_n$.  \n",
    "Le Cardinal(P($E_n$)) = $2^n$ et que Cardinal(P($E_n * E_n$)) = $2^{n*n}$."
   ]
  },
  {
   "attachments": {},
   "cell_type": "markdown",
   "metadata": {},
   "source": [
    "---\n",
    "\n",
    "## Exercice 2 : matrices d'adjacences\n",
    "\n",
    "Soit une relation binaire sur $E_n$ codée par une liste de tuples rel. La fonction mat_adj(n,rel) ci-dessous\n",
    "crée la matrice d’adjacence associée."
   ]
  },
  {
   "cell_type": "code",
   "execution_count": 14,
   "metadata": {},
   "outputs": [],
   "source": [
    "def mat_adj(n:int, rel:list[tuple[int,int]]) -> matrix:\n",
    "    A = matrix(n) # On crée une matrice vide de taille n*n\n",
    "    for x in range(n):\n",
    "        for y in range(n): # On parcourt toutes les cases de la matrice\n",
    "            if (x,y) in rel:\n",
    "                A[x,y] = 1 # Si la relation est dans la liste des relations, on met 1\n",
    "    return A"
   ]
  },
  {
   "attachments": {},
   "cell_type": "markdown",
   "metadata": {},
   "source": [
    "1) Recopier le code et le commenter. Comprenez la sortie pour rel = [(1,2), (4,3)] et n = 6."
   ]
  },
  {
   "cell_type": "code",
   "execution_count": 15,
   "metadata": {},
   "outputs": [
    {
     "data": {
      "text/plain": [
       "[0 1 0]\n",
       "[0 0 1]\n",
       "[0 0 0]"
      ]
     },
     "execution_count": 15,
     "metadata": {},
     "output_type": "execute_result"
    }
   ],
   "source": [
    "mat_adj(3, [(0,1),(1,2)])"
   ]
  },
  {
   "attachments": {},
   "cell_type": "markdown",
   "metadata": {},
   "source": [
    "2) Soient $G_A$ et $G_B$ les graphes de deux relations binaires $R_A$ et $R_B$ sur En. On note A et B les matrices\n",
    "d’adjacence associées.  "
   ]
  },
  {
   "cell_type": "code",
   "execution_count": 16,
   "metadata": {},
   "outputs": [],
   "source": [
    "def mat_ceil(A: matrix) -> matrix:\n",
    "    '''\n",
    "    Retourne la matrice avec chaque valeur mise à max 1\n",
    "    '''\n",
    "    for x in range(A.nrows()):\n",
    "        for y in range(A.ncols()): # On parcourt la matrice\n",
    "            A[x,y] = 1 if A[x,y] > 0 else 0 # Si on est supérieur à 1, on met 1\n",
    "    return A"
   ]
  },
  {
   "attachments": {},
   "cell_type": "markdown",
   "metadata": {},
   "source": [
    "(a) Implémenter la fonction `oplus(A,B)` qui calcule la matrice d’adjacence de la relation R dont le graphe est $G_A$ ∪ $G_B$. Il s’agit du ⊕ du cours."
   ]
  },
  {
   "cell_type": "code",
   "execution_count": 17,
   "metadata": {},
   "outputs": [],
   "source": [
    "# On va simplement utiliser l'addision de matrices auquel on applique la fonction mat_ceil\n",
    "def oplus(A,B):\n",
    "    return mat_ceil(A+B)"
   ]
  },
  {
   "cell_type": "code",
   "execution_count": 18,
   "metadata": {},
   "outputs": [
    {
     "name": "stdout",
     "output_type": "stream",
     "text": [
      "[1 0 0 0 0 0 0 0 0 0]\n",
      "[0 0 1 1 0 0 0 0 0 0]\n",
      "[0 0 0 0 1 0 1 0 0 0]\n",
      "[0 0 0 0 0 0 1 0 0 1]\n",
      "[0 0 0 0 0 0 0 0 1 0]\n",
      "[0 0 0 0 0 0 0 0 0 0]\n",
      "[0 0 0 0 0 0 0 0 0 0]\n",
      "[0 0 0 0 0 0 0 0 0 0]\n",
      "[0 0 0 0 0 0 0 0 0 0]\n",
      "[0 0 0 0 0 0 0 0 0 0]\n"
     ]
    }
   ],
   "source": [
    "# two relations on E10\n",
    "relA = [(0 ,0), (1,2), (2,4), (3,6), (4,8)] # n RA m \\iff m = 2n\n",
    "relB = [(0 ,0), (1,3), (2,6), (3,9)] # n RB m \\iff m = 3n\n",
    "A = mat_adj (10, relA)\n",
    "B = mat_adj (10, relB)\n",
    "print(oplus(A,B))"
   ]
  },
  {
   "attachments": {},
   "cell_type": "markdown",
   "metadata": {},
   "source": [
    "(b) Implémenter la fonction otimes(A,B) qui calcule la matrice d’adjacence de la relation produit\n",
    "$R_A$$R_B$. C’est le ⊗ du cours."
   ]
  },
  {
   "cell_type": "code",
   "execution_count": 19,
   "metadata": {},
   "outputs": [],
   "source": [
    "# On va simplement utiliser la multiplication de matrices auquel on applique la fonction mat_ceil\n",
    "def otimes(A,B):\n",
    "    return mat_ceil(A*B)"
   ]
  },
  {
   "cell_type": "code",
   "execution_count": 20,
   "metadata": {},
   "outputs": [
    {
     "name": "stdout",
     "output_type": "stream",
     "text": [
      "[1 0 0 0 0 0 0 0 0 0]\n",
      "[0 0 0 0 0 0 1 0 0 0]\n",
      "[0 0 0 0 0 0 0 0 0 0]\n",
      "[0 0 0 0 0 0 0 0 0 0]\n",
      "[0 0 0 0 0 0 0 0 0 0]\n",
      "[0 0 0 0 0 0 0 0 0 0]\n",
      "[0 0 0 0 0 0 0 0 0 0]\n",
      "[0 0 0 0 0 0 0 0 0 0]\n",
      "[0 0 0 0 0 0 0 0 0 0]\n",
      "[0 0 0 0 0 0 0 0 0 0]\n"
     ]
    }
   ],
   "source": [
    "# two relations on E10\n",
    "relA = [(0 ,0), (1,2), (2,4), (3,6), (4,8)] # n RA m \\iff m = 2n\n",
    "relB = [(0 ,0), (1,3), (2,6), (3,9)] # n RB m \\iff m = 3n\n",
    "A = mat_adj (10, relA)\n",
    "B = mat_adj (10, relB)\n",
    "print(otimes(A,B)) # two bits at (0,0) and (1,6)"
   ]
  },
  {
   "attachments": {},
   "cell_type": "markdown",
   "metadata": {},
   "source": [
    "(c) Implémenter la fonction is_contained(A,B) retournant True si le graphe associé à la matrice\n",
    "A est contenu dans le graphe associée à la matrice B."
   ]
  },
  {
   "cell_type": "code",
   "execution_count": 21,
   "metadata": {},
   "outputs": [],
   "source": [
    "# Si A est inclus dans B alors A+B = A car B ne rajoute rien à A\n",
    "def is_contained(A,B):\n",
    "    return oplus(A,B) == A"
   ]
  },
  {
   "cell_type": "code",
   "execution_count": 22,
   "metadata": {},
   "outputs": [
    {
     "name": "stdout",
     "output_type": "stream",
     "text": [
      "True\n",
      "False\n"
     ]
    }
   ],
   "source": [
    "# two relations on E10\n",
    "relA = [(0 ,0), (1,2), (2,4), (3,6), (4,8)]\n",
    "relB = [(0 ,0), (1,2), (4,8)]\n",
    "A = mat_adj (10, relA)\n",
    "B = mat_adj (10, relB)\n",
    "print(is_contained(A,B))\n",
    "print(is_contained(B,A))"
   ]
  },
  {
   "attachments": {},
   "cell_type": "markdown",
   "metadata": {},
   "source": [
    "3. Avec des considérations sur les matrices d’adjacence, dénombrer à la main puis vérifier à l’ordinateur\n",
    "le nombre de relations binaires sur $E_n$ réflexives. Même questions avec symétriques, antisymétriques\n",
    "et transitives."
   ]
  },
  {
   "attachments": {},
   "cell_type": "markdown",
   "metadata": {},
   "source": [
    "Lorsque l'on a une relation binaire sur $E_n$ réflexive, on a une matrice d'adjacence diagonale.\n",
    "Donc on a n cases sur la diagonale qui sont à 1 et le reste qui peut être à 0 ou 1.  \n",
    "$2^{n*n - n}$ possibilités. Avec n = 3, on a $2^{9-3} = 2^6 = 64$ possibilités."
   ]
  },
  {
   "cell_type": "code",
   "execution_count": 23,
   "metadata": {},
   "outputs": [
    {
     "name": "stdout",
     "output_type": "stream",
     "text": [
      "nombre de relation binaires reflexive = 64\n"
     ]
    }
   ],
   "source": [
    "def is_reflexive(A):\n",
    "    for i in range(A.nrows()):\n",
    "        if A[i,i] != 1:\n",
    "            return False\n",
    "    return True\n",
    "\n",
    "def all_reflexive_mat_adj(n:int) -> list[matrix]:\n",
    "    all = all_relations(n)\n",
    "    return [mat_adj(n, rel) for rel in all if is_reflexive(mat_adj(n, rel))]\n",
    "\n",
    "print(f\"nombre de relation binaires reflexive = {len(all_reflexive_mat_adj(3))}\")"
   ]
  },
  {
   "attachments": {},
   "cell_type": "markdown",
   "metadata": {},
   "source": [
    "Lorsque l'on a une relation binaire sur $E_n$ symétrique, on a une matrice d'adjacence symétrique.  "
   ]
  },
  {
   "cell_type": "code",
   "execution_count": 24,
   "metadata": {},
   "outputs": [
    {
     "name": "stdout",
     "output_type": "stream",
     "text": [
      "nombre de relation binaires symetrique = 64\n"
     ]
    }
   ],
   "source": [
    "# calcul number of symetric relations on E10\n",
    "def is_symetric(A):\n",
    "    for i in range(A.nrows()):\n",
    "        for j in range(A.ncols()):\n",
    "            if A[i,j] != A[j,i]:\n",
    "                return False\n",
    "    return True\n",
    "\n",
    "def all_symetric_mat_adj(n:int) -> list[matrix]:\n",
    "    all = all_relations(n)\n",
    "    return [mat_adj(n, rel) for rel in all if is_symetric(mat_adj(n, rel))]\n",
    "\n",
    "print(f\"nombre de relation binaires symetrique = {len(all_symetric_mat_adj(3))}\")"
   ]
  },
  {
   "attachments": {},
   "cell_type": "markdown",
   "metadata": {},
   "source": [
    "Lorsque l'on a une relation binaire sur $E_n$ antisymétrique, on a une matrice d'adjacence antisymétrique."
   ]
  },
  {
   "cell_type": "code",
   "execution_count": 25,
   "metadata": {},
   "outputs": [
    {
     "name": "stdout",
     "output_type": "stream",
     "text": [
      "nombre de relation binaires antisymetrique = 216\n"
     ]
    }
   ],
   "source": [
    "# calcul number of antisymetric relations on E10\n",
    "def is_antisymetric(A):\n",
    "    for i in range(A.nrows()):\n",
    "        for j in range(A.ncols()):\n",
    "            if A[i,j] == 1 and A[j,i] == 1 and i != j:\n",
    "                return False\n",
    "    return True\n",
    "\n",
    "def all_antisymetric_mat_adj(n:int) -> list[matrix]:\n",
    "    all = all_relations(n)\n",
    "    return [mat_adj(n, rel) for rel in all if is_antisymetric(mat_adj(n, rel))]\n",
    "\n",
    "print(f\"nombre de relation binaires antisymetrique = {len(all_antisymetric_mat_adj(3))}\")"
   ]
  },
  {
   "attachments": {},
   "cell_type": "markdown",
   "metadata": {},
   "source": [
    "Lorsque l'on a une relation binaire sur $E_n$ transitif."
   ]
  },
  {
   "cell_type": "code",
   "execution_count": 62,
   "metadata": {},
   "outputs": [
    {
     "name": "stdout",
     "output_type": "stream",
     "text": [
      "nombre de relation binaires transitive = 171\n"
     ]
    }
   ],
   "source": [
    "def is_transitive(A):\n",
    "    for i in range(A.nrows()):\n",
    "        for j in range(A.ncols()):\n",
    "            for k in range(A.ncols()):\n",
    "                if A[i,j] == 1 and A[j,k] == 1 and A[i,k] != 1:\n",
    "                    return False\n",
    "    return True\n",
    "\n",
    "def all_transitive_mat_adj(n:int) -> list[matrix]:\n",
    "    all = all_relations(n)\n",
    "    return [mat_adj(n, rel) for rel in all if is_transitive(mat_adj(n, rel))]\n",
    "\n",
    "print(f\"nombre de relation binaires transitive = {len(all_transitive_mat_adj(3))}\")"
   ]
  },
  {
   "attachments": {},
   "cell_type": "markdown",
   "metadata": {},
   "source": [
    "---\n",
    "\n",
    "## Exercice 3 : relation binaire aléatoire\n",
    "\n",
    "On commencera par fixer la graine pour la génération pseudo-aléatoire de nombres."
   ]
  },
  {
   "cell_type": "code",
   "execution_count": 27,
   "metadata": {},
   "outputs": [],
   "source": [
    "set_random_seed(0)"
   ]
  },
  {
   "attachments": {},
   "cell_type": "markdown",
   "metadata": {},
   "source": [
    "1. Générer une relation binaire aléatoire Q sur E40 de la façon suivante : pour chaque paire (x, y) ∈ $E^{2}_{40}$,\n",
    "la probabilité que xQy est $\\frac{1}{9}$"
   ]
  },
  {
   "cell_type": "code",
   "execution_count": 28,
   "metadata": {},
   "outputs": [],
   "source": [
    "def random_relation(n : int, proba : float) -> list[tuple[int,int]]:\n",
    "    return [(i,j) for i in range(n) for j in range(n) if random() < proba]"
   ]
  },
  {
   "attachments": {},
   "cell_type": "markdown",
   "metadata": {},
   "source": [
    "2. La relation générée est-elle réflexive ? Sinon, la rendre réflexive et obtenir ainsi une relation R"
   ]
  },
  {
   "cell_type": "code",
   "execution_count": 29,
   "metadata": {},
   "outputs": [],
   "source": [
    "def reflexive(n : int, rel : list[tuple[int,int]]) -> list[tuple[int,int]]:\n",
    "    # On ajoute les relations reflexives en rajoutant les couples (i,i) pour tout i\n",
    "    return rel + [(i,i) for i in range(n)]"
   ]
  },
  {
   "attachments": {},
   "cell_type": "markdown",
   "metadata": {},
   "source": [
    "3. Cette nouvelle relation est-elle symétrique ? Sinon, la rendre symétrique et obtenir ainsi une relation\n",
    "S. (Vérifier qu’elle est toujours réflexive...)"
   ]
  },
  {
   "cell_type": "code",
   "execution_count": 30,
   "metadata": {},
   "outputs": [],
   "source": [
    "# On transforme la relation en relation symetrique en rajoutant les couples (j,i) pour tout couple (i,j) dans la relation\n",
    "def symetrique(rel : list[tuple[int,int]]) -> list[tuple[int,int]]:\n",
    "    return rel + [(j,i) for (i,j) in rel]"
   ]
  },
  {
   "attachments": {},
   "cell_type": "markdown",
   "metadata": {},
   "source": [
    "4. Cette nouvelle relation est-elle transitive ? Sinon, la rendre transitive et obtenir ainsi une relation\n",
    "T . (Vérifier qu’elle est restée réflexive et symétrique...)"
   ]
  },
  {
   "cell_type": "code",
   "execution_count": 31,
   "metadata": {},
   "outputs": [],
   "source": [
    "# On transforme la relation en relation transitive\n",
    "def transitive(rel : list[tuple[int,int]]) -> list[tuple[int,int]]:\n",
    "    # On va parcourir la relation et rajouter les couples (i,k) pour tout couple (i,j) et (j,k) dans la relation\n",
    "    new_rel = rel\n",
    "    for (i,j) in rel:\n",
    "        for (j2,k) in rel:\n",
    "            if j == j2:\n",
    "                if (i,k) not in rel:\n",
    "                    new_rel.append((i,k))\n",
    "    return new_rel"
   ]
  },
  {
   "attachments": {},
   "cell_type": "markdown",
   "metadata": {},
   "source": [
    "5. La relation T devrait maintenant être une relation d’équivalence sur $E_{40}$. Si on note T la matrice\n",
    "d’adjacence associée, commenter la visualisation fournie par :"
   ]
  },
  {
   "cell_type": "code",
   "execution_count": 32,
   "metadata": {},
   "outputs": [
    {
     "data": {
      "image/png": "[encoded data removed]",
      "text/plain": [
       "<Figure size 432x288 with 1 Axes>"
      ]
     },
     "metadata": {
      "needs_background": "light"
     },
     "output_type": "display_data"
    },
    {
     "name": "stdout",
     "output_type": "stream",
     "text": [
      "------------------\n"
     ]
    },
    {
     "data": {
      "image/png": "[encoded data removed]",
      "text/plain": [
       "<Figure size 432x288 with 1 Axes>"
      ]
     },
     "metadata": {
      "needs_background": "light"
     },
     "output_type": "display_data"
    },
    {
     "name": "stdout",
     "output_type": "stream",
     "text": [
      "reflexive\n",
      "------------------\n"
     ]
    },
    {
     "data": {
      "image/png": "[encoded data removed]",
      "text/plain": [
       "<Figure size 432x288 with 1 Axes>"
      ]
     },
     "metadata": {
      "needs_background": "light"
     },
     "output_type": "display_data"
    },
    {
     "name": "stdout",
     "output_type": "stream",
     "text": [
      "reflexive\n",
      "symetrique\n",
      "------------------\n"
     ]
    },
    {
     "data": {
      "image/png": "[encoded data removed]",
      "text/plain": [
       "<Figure size 432x288 with 1 Axes>"
      ]
     },
     "metadata": {
      "needs_background": "light"
     },
     "output_type": "display_data"
    },
    {
     "name": "stdout",
     "output_type": "stream",
     "text": [
      "reflexive\n",
      "symetrique\n",
      "transitive\n"
     ]
    }
   ],
   "source": [
    "import matplotlib.pyplot as plt # may require a pip install of matplotlib\n",
    "\n",
    "size = 40\n",
    "r = random_relation(size, 1/9)\n",
    "# print(mat_adj(size, r))\n",
    "plt.imshow(mat_adj(size,r) , cmap ='binary')\n",
    "plt.show()\n",
    "print(\"------------------\")\n",
    "r = reflexive(size, r)\n",
    "# print(mat_adj(size, r))\n",
    "plt.imshow(mat_adj(size,r) , cmap ='binary')\n",
    "plt.show()\n",
    "print(\"reflexive\" if is_reflexive(mat_adj(size, r)) else \"not reflexive\")\n",
    "print(\"------------------\")\n",
    "r = symetrique(r)\n",
    "# print(mat_adj(size, r))\n",
    "plt.imshow(mat_adj(size,r) , cmap ='binary')\n",
    "plt.show()\n",
    "print(\"reflexive\" if is_reflexive(mat_adj(size, r)) else \"not reflexive\")\n",
    "print(\"symetrique\" if is_symetric(mat_adj(size, r)) else \"not symetrique\")\n",
    "print(\"------------------\")\n",
    "r = transitive(r)\n",
    "# print(mat_adj(size, transitive(r)))\n",
    "plt.imshow(mat_adj(size,r) , cmap ='binary', vmin=0, vmax=1, interpolation='nearest', origin='lower', extent=[0, size, 0, size])\n",
    "plt.show()\n",
    "print(\"reflexive\" if is_reflexive(mat_adj(size, r)) else \"not reflexive\")\n",
    "print(\"symetrique\" if is_symetric(mat_adj(size, r)) else \"not symetrique\")\n",
    "print(\"transitive\" if is_transitive(mat_adj(size, r)) else \"not transitive\")"
   ]
  },
  {
   "attachments": {},
   "cell_type": "markdown",
   "metadata": {},
   "source": [
    "On visualise ici la matrice d'adjacence de la relation d'équivalence r. On constate bien les propriétés de chaque type de relation sur la matrice d'adjacence.  \n",
    "On remarque aussi que la matrice d'equivalence est pleine, c'est à dire qu'il n'y a pas de 0 dans la matrice."
   ]
  },
  {
   "attachments": {},
   "cell_type": "markdown",
   "metadata": {},
   "source": [
    "6. Faire varier la probabilité p que xQy dans la relation initiale pour voir l’incidence que cela a sur le\n",
    "résultat. En particulier : quel est le seuil de probabilité pn qu’il faut choisir pour être quasi-certain\n",
    "que la relation générée aléatoirement puis rendue équivalente soit complète ?"
   ]
  },
  {
   "cell_type": "code",
   "execution_count": 61,
   "metadata": {},
   "outputs": [
    {
     "data": {
      "image/png": "[encoded data removed]",
      "text/plain": [
       "<Figure size 432x288 with 1 Axes>"
      ]
     },
     "metadata": {
      "needs_background": "light"
     },
     "output_type": "display_data"
    },
    {
     "data": {
      "image/png": "[encoded data removed]",
      "text/plain": [
       "<Figure size 432x288 with 1 Axes>"
      ]
     },
     "metadata": {
      "needs_background": "light"
     },
     "output_type": "display_data"
    }
   ],
   "source": [
    "r = random_relation(40, 1/14)\n",
    "r = reflexive(40, r)\n",
    "r = symetrique(r)\n",
    "g = DiGraph(r, format='list_of_edges', loops=True)\n",
    "plt.imshow(g.adjacency_matrix() , cmap ='binary', vmin=0, vmax=1, interpolation='nearest', origin='lower', extent=[0, 40, 0, 40])\n",
    "plt.show()\n",
    "g = g.transitive_closure()\n",
    "plt.imshow(g.adjacency_matrix() , cmap ='binary', vmin=0, vmax=1, interpolation='nearest', origin='lower', extent=[0, 40, 0, 40])\n",
    "plt.show()"
   ]
  },
  {
   "attachments": {},
   "cell_type": "markdown",
   "metadata": {},
   "source": [
    "A partir de 1/15 quand la probabilité est en dessous on commence à avoir des graphs pas complet à preque tout les coups"
   ]
  },
  {
   "attachments": {},
   "cell_type": "markdown",
   "metadata": {},
   "source": [
    "## Exercice 4 : relation d’équivalence\n",
    "\n",
    "Soient R et S deux relations binaires sur $E_n$. On dit que R et S sont transitivement équivalentes si et\n",
    "seulement si elles ont la même fermeture transitive. Formellement :\n",
    "\n",
    "$$R ∼ S \\Leftrightarrow ∀T  \\ transitive, R ⊂ T \\Leftrightarrow S ⊂ T$$\n",
    "\n",
    "1. Se convaincre à la main que ∼ est une relation d’équivalence sur l’ensemble des relations binaires\n",
    "sur $E_n$.\n",
    "2. Décrire informatiquement les classes d’équivalences de ∼ dans le cas de $E_3$ = {0, 1, 2}. Combien de\n",
    "relations sont transitivement équivalentes à la relation d’équivalence complète i.e. celle où tout en\n",
    "relation avec tout ?\n"
   ]
  },
  {
   "cell_type": "markdown",
   "metadata": {},
   "source": []
  }
 ],
 "metadata": {
  "kernelspec": {
   "display_name": "SageMath 9.6",
   "language": "sage",
   "name": "sagemath"
  },
  "language_info": {
   "codemirror_mode": {
    "name": "ipython",
    "version": 3
   },
   "file_extension": ".py",
   "mimetype": "text/x-python",
   "name": "python",
   "nbconvert_exporter": "python",
   "pygments_lexer": "ipython3",
   "version": "3.10.9"
  }
 },
 "nbformat": 4,
 "nbformat_minor": 2
}
