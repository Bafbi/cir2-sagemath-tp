{
 "cells": [
  {
   "cell_type": "markdown",
   "metadata": {},
   "source": [
    "# TP6 - corps binaires et applications\n",
    "\n",
    "<span class='alert-info'> Répondez aux questions dans un notebook séparé que vous rendrez au format <strong> NOM1_NOM2_tp6.ipynb </strong> </span>\n",
    "\n",
    "## Partie 1 - un anneau qui a du caractère\n",
    "\n",
    "On va travailler dans un **anneau** (structure algébrique où $+, -, \\times$ sont autorisées) **fini** à $64$ éléments noté $(\\mathbb{F}_{64}, +, \\times)$. Les éléments de $\\mathbb{F}_{64}$ seront informatiquement des instances de la classe ```F``` implémentée ci-dessous. "
   ]
  },
  {
   "cell_type": "code",
   "execution_count": null,
   "metadata": {},
   "outputs": [],
   "source": [
    "class F(SageObject):\n",
    "    \n",
    "    # names for the 64 elements\n",
    "    # static variables \n",
    "    names = \"01abcdefghijklmnopqrstuvwxyzABCDEFGHIJKLMNOPQRSTUVWXYZ !?-'#$%&@\"\n",
    "    \n",
    "    # create F object associated to character val \n",
    "    def __init__(self, val):\n",
    "        \n",
    "        try:\n",
    "            # id = integer to identify the ring element \n",
    "            self.id = Integer(F.names.index(str(val)))\n",
    "            \n",
    "        except ValueError:\n",
    "            # val is not found in names \n",
    "            raise ValueError(\"Element %s unknown\" % val)\n",
    "            \n",
    "    # F1 == F2 if F1 and F2 have the same id \n",
    "    def __eq__(self, other):\n",
    "        \n",
    "        return self.id == other.id\n",
    "        \n",
    "    def __ne__(self, other):\n",
    "        \n",
    "        return not (self == other)\n",
    "       \n",
    "    # special method to represent an instance of F \n",
    "    def __repr__(self):\n",
    "        \n",
    "        return F.names[self.id]\n",
    "    \n",
    "    # resultat of F1 + F2\n",
    "    def __add__(self, other):\n",
    "        \n",
    "        r = F(self)\n",
    "        r += other\n",
    "        return r\n",
    "    \n",
    "    # result of F1 += F2\n",
    "    def __iadd__(self, other):\n",
    "        \n",
    "        # add two objects = bitwise addition on their id \n",
    "        self.id = self.id.__xor__(other.id)\n",
    "        return self\n",
    "    \n",
    "    # method that is used to perform F1 * F2 \n",
    "    def shift(self):\n",
    "        \n",
    "        # append a 0 in the binary representation of self.id \n",
    "        # tmp is an integer coded with 7 bits \n",
    "        tmp = self.id << 1\n",
    "        \n",
    "        # res stores bits associated to 2^6 to 2^0 \n",
    "        res = tmp % 64\n",
    "        \n",
    "        # tmp // 64 stores the bit associated to 2^7  \n",
    "        # if the bit is 1...\n",
    "        if tmp // 64:\n",
    "            \n",
    "            # 1 000 000 is represented by 0 011 011 (why?)\n",
    "            # perform bitwise addition 011 011 + res  \n",
    "            res = res.__xor__(27) \n",
    "            \n",
    "        self.id = res\n",
    "    \n",
    "    # result of F1 * F2 \n",
    "    # magic multiplication \n",
    "    def __mul__(self, other):\n",
    "        \n",
    "        res = F(0)\n",
    "        tmp = F(other)\n",
    "        \n",
    "        # F1 is represented as a binary word \n",
    "        # when a bit is 0, do nothing \n",
    "        # when a bit is 1, add a shifted version of F(other)\n",
    "        for b in self.id.bits():\n",
    "            if b:\n",
    "                res += tmp\n",
    "            tmp.shift()\n",
    "            \n",
    "        return res\n",
    "        \n",
    "    # resultat of F*F*...*F\n",
    "    def __pow__(self, exp):\n",
    "        \n",
    "        res = F(1)\n",
    "        \n",
    "        for i in range(exp):\n",
    "            res *= self\n",
    "        \n",
    "        return res\n",
    "        \n",
    "F.elements = [F(i) for i in F.names]"
   ]
  },
  {
   "cell_type": "markdown",
   "metadata": {},
   "source": [
    "Les éléments de $\\mathbb{F}_{64}$ sont les 64 caractères (ou *symboles*) suivants:"
   ]
  },
  {
   "cell_type": "code",
   "execution_count": null,
   "metadata": {},
   "outputs": [],
   "source": [
    "print(F.elements)"
   ]
  },
  {
   "cell_type": "markdown",
   "metadata": {},
   "source": [
    "On crée facilement les *objets* associés à chaque élément. Par exemple, pour créer l'objet associé à l'élément $a$: "
   ]
  },
  {
   "cell_type": "code",
   "execution_count": null,
   "metadata": {},
   "outputs": [],
   "source": [
    "a = F(\"a\")\n",
    "a"
   ]
  },
  {
   "cell_type": "markdown",
   "metadata": {},
   "source": [
    "Deux opérations de base sont implémentées : une **addition**"
   ]
  },
  {
   "cell_type": "code",
   "execution_count": null,
   "metadata": {},
   "outputs": [],
   "source": [
    "c = F(\"c\")\n",
    "a + c"
   ]
  },
  {
   "cell_type": "markdown",
   "metadata": {},
   "source": [
    "et une **multiplication**"
   ]
  },
  {
   "cell_type": "code",
   "execution_count": null,
   "metadata": {},
   "outputs": [],
   "source": [
    "a * c"
   ]
  },
  {
   "cell_type": "markdown",
   "metadata": {},
   "source": [
    "Notez que l'anneau $(\\mathbb{F}_{64}, +, \\times)$ n'est **pas** isomorphe à $(\\mathbb{Z}/64 \\mathbb{Z}, +, \\times)$. On peut par exemple vérifier que $\\alpha + \\alpha = 0$ pour tout $\\alpha \\in \\mathbb{F}_{64}$ (alors que dans $\\mathbb{Z}/64\\mathbb{Z}$, chaque élément n'est pas son propre opposé) "
   ]
  },
  {
   "cell_type": "code",
   "execution_count": null,
   "metadata": {},
   "outputs": [],
   "source": [
    "alpha = choice(F.elements)  # random element, run again for another one\n",
    "\n",
    "print(\"alpha = %s, alpha + alpha = %s\" % (alpha, alpha + alpha))"
   ]
  },
  {
   "cell_type": "markdown",
   "metadata": {},
   "source": [
    "### a) C'est un anneau commutatif"
   ]
  },
  {
   "cell_type": "markdown",
   "metadata": {},
   "source": [
    "<div class='alert-danger'> <strong> Alerte à la question! </strong> </div>\n",
    "\n",
    "Vérifier explicitement (par *force brute*) que **tous** les axiomes d'anneau commutatif sont satisfaits pour cette structure algébrique."
   ]
  },
  {
   "cell_type": "markdown",
   "metadata": {},
   "source": [
    "### b) Inverse d'un élément"
   ]
  },
  {
   "cell_type": "markdown",
   "metadata": {},
   "source": [
    "Il est aisé de vérifier qu'un élément est inversible si on nous fournit un candidat pour son inverse. Par exemple: le calcul ci-dessous suffit à convaincre que l'élément $\\mathtt{a}$ est inversible et que $\\mathtt{a}^{-1} = \\mathtt{R}$."
   ]
  },
  {
   "cell_type": "code",
   "execution_count": null,
   "metadata": {},
   "outputs": [],
   "source": [
    "F(\"a\") * F(\"R\")"
   ]
  },
  {
   "cell_type": "markdown",
   "metadata": {},
   "source": [
    "<div class='alert-danger'> <strong> Alerte à la question! </strong> </div>\n",
    "\n",
    "Soit $m$ la somme des numéros des mois de naissance des membres du binôme et $\\zeta$ l'élément `F.elements[m]` de $\\mathbb{F}_{64}$. Vérifiez que $\\zeta$ est inversible en recherchant par force brute son inverse parmi les éléments de $\\mathbb{F}_{64}$."
   ]
  },
  {
   "cell_type": "markdown",
   "metadata": {},
   "source": [
    "### c) Structure multiplicative"
   ]
  },
  {
   "cell_type": "markdown",
   "metadata": {},
   "source": [
    "Vous l'aurez peut-être deviné : tous les éléments non nuls de $\\mathbf{F}$ sont inversibles (il s'agit donc d'un *corps fini* à 64 éléments). "
   ]
  },
  {
   "cell_type": "markdown",
   "metadata": {},
   "source": [
    "<div class='alert-danger'> <strong> Alerte à la question! </strong> </div>\n",
    "\n",
    "- Déterminer l'ordre multiplicatif de l'élément $\\mathtt{a}$\n",
    "- En déduire que tous les éléments de $\\mathbb{F}_{64}$ (sauf le neutre additif) sont inversibles. \n",
    "- En partant de $\\mathtt{a}^{-1} = \\mathtt{R}$, déterminer astucieusement (donc pas par force brute) l'inverse de $\\zeta$"
   ]
  },
  {
   "cell_type": "markdown",
   "metadata": {},
   "source": [
    "### d) Solutions d'une équation polynomiale"
   ]
  },
  {
   "cell_type": "markdown",
   "metadata": {},
   "source": [
    "<div class='alert-danger'> <strong> Alerte à la question! </strong> </div>\n",
    "\n",
    "- Déterminer les racines dans $\\mathbb{F}_{64}$ du polynôme $X^6 + X^4 + X^3 + X + 1 \\in \\mathbb{F}_2[X]$\n",
    "- Expliquer comment cela permet de se convaincre que chaque élément de $\\mathbb{F}_{64}$ peut s'écrire, de façon unique, sous la forme d'une expression de la forme\n",
    "\n",
    "    $$ \\boxed{b_5 \\mathtt{a}^5 + b_4 \\mathtt{a}^4 + b_3 \\mathtt{a}^3 + b_2 \\mathtt{a}^2 + b_1 \\mathtt{a} + b_0} $$\n",
    "\n",
    "    avec $(b_0, \\ldots, b_5) \\in \\mathbb{F}_2^6$\n",
    "- Quelle est l'écriture correspondante pour votre élément $\\zeta$ ci-dessus ?"
   ]
  },
  {
   "cell_type": "markdown",
   "metadata": {},
   "source": [
    "## Partie 2 - chaînes de caractères et applications\n",
    "\n",
    "Les éléments de $\\mathbb{F}_{64}$ étant des caractères, on considérer une chaîne de caractères de longueur $n$ comme un élément de $\\mathbb{F}_{64}^n$. Voici un début de classe permettant de considérer une chaîne de caractères (admissibles) comme une liste d'élémentsde $\\mathbb{F}_{64}$."
   ]
  },
  {
   "cell_type": "code",
   "execution_count": null,
   "metadata": {},
   "outputs": [],
   "source": [
    "class V(SageObject):\n",
    "    \n",
    "    # constructor \n",
    "    # s is a string of eligible characters \n",
    "    def __init__(self, s):\n",
    "        \n",
    "        self.coeffs = [ F(c) for c in s ]\n",
    "        \n",
    "    # representation of a V object \n",
    "    def __repr__(self):\n",
    "        \n",
    "        return \"\".join([c.__repr__() for c in self.coeffs])\n",
    "    \n",
    "    # result of V1 == V2 \n",
    "    def __eq__(self, other):\n",
    "        \n",
    "        return self.coeffs == other.coeffs\n",
    "   \n",
    "    # length of s\n",
    "    def __len__(self):\n",
    "        \n",
    "        return len(self.coeffs)"
   ]
  },
  {
   "cell_type": "markdown",
   "metadata": {},
   "source": [
    "### a) Somme de vecteurs"
   ]
  },
  {
   "cell_type": "markdown",
   "metadata": {},
   "source": [
    "<div class='alert-danger'> <strong> Alerte à la question! </strong> </div>\n",
    "\n",
    "Ajouter à la classe `V` une méthode `__add__` permettant de faire la somme **terme à terme** de deux chaînes de caractères de même longueur. Par exemple, on devrait avoir:\n",
    "- `V(\"ceci\") + V(\"cela\") == V(\"00hg\")`\n",
    "- `V(\"CECI\") + V(\"cela\") == V(\"yKrK\")` \n",
    "- `V(\"ceci\") + V(\"CELA\") == V(\"yKHu\")`\n",
    "- `V(\"CECI\") + V(\"CELA\") == V(\"00-?\")` "
   ]
  },
  {
   "cell_type": "markdown",
   "metadata": {},
   "source": [
    "### b) Chiffrement à clé secrète"
   ]
  },
  {
   "cell_type": "markdown",
   "metadata": {},
   "source": [
    "On peut utiliser l'addition de chaînes de caractères ainsi définie pour garantir la confidentialité d'une chaîne de caractères donnée. Par exemple : soit le message clair `m` ci-dessous. "
   ]
  },
  {
   "cell_type": "code",
   "execution_count": null,
   "metadata": {},
   "outputs": [],
   "source": [
    "m = V(\"Texte clair\")"
   ]
  },
  {
   "cell_type": "markdown",
   "metadata": {},
   "source": [
    "On peut le rendre inintelligible par un tiers en le masquant à l'aide d'une clé secrète `k` générée aléatoirement: "
   ]
  },
  {
   "cell_type": "code",
   "execution_count": null,
   "metadata": {},
   "outputs": [],
   "source": [
    "k = V(\"kqaS%LAKVw'\")"
   ]
  },
  {
   "cell_type": "markdown",
   "metadata": {},
   "source": [
    "On obtient alors la chaîne incompréhensible suivante calculant la *somme* `c` de `m` et `k`: "
   ]
  },
  {
   "cell_type": "code",
   "execution_count": null,
   "metadata": {},
   "outputs": [],
   "source": [
    "c = V(\"Hsz##pwPXqN\")"
   ]
  },
  {
   "cell_type": "markdown",
   "metadata": {},
   "source": [
    "<div class='alert-danger'> <strong> Alerte à la question! </strong> </div>\n",
    "\n",
    "En utilisant les propriétés de $\\mathbb{F}_{64}$: \n",
    "- indiquer comment déchiffrer le code si la clé est connu \n",
    "- déchiffrer le message `V(\"Kcgw&YCVFSl\")` codé avec la même clé "
   ]
  },
  {
   "cell_type": "markdown",
   "metadata": {},
   "source": [
    "### c) Détection d'erreurs"
   ]
  },
  {
   "cell_type": "markdown",
   "metadata": {},
   "source": [
    "On peut utiliser la structure algébrique mise sur les caractères pour *détecter* automatiquement des erreurs de cohérence dans une chaîne de caractères (erreur de transmission, media de stockage corrompu, ...). L'idée est toute simple: on ajoute une **somme de contrôle**.  \n",
    "\n",
    "La version la plus simple consiste à fournir pour chaque chaîne de caractères la somme de tous ceux-ci."
   ]
  },
  {
   "cell_type": "markdown",
   "metadata": {},
   "source": [
    "<div class='alert-danger'> <strong> Alerte à la question! </strong> </div>\n",
    "\n",
    "Implémenter une fonction pour calculer la somme de contrôle d'un élément de $\\mathbb{F}_{64}^n$. Déterminer la somme de contrôle de la phrase `It's burger time!` "
   ]
  },
  {
   "cell_type": "markdown",
   "metadata": {},
   "source": [
    "<div class='alert-danger'> <strong> Alerte à la question! </strong> </div>\n",
    "\n",
    "On peut détecter des erreurs si la somme de contrôle calculée ne correspond pas à la somme de contrôle attendue. Comprenez-le avec l'exemple ci-dessous. "
   ]
  },
  {
   "cell_type": "code",
   "execution_count": null,
   "metadata": {},
   "outputs": [],
   "source": [
    "v = V(\"Ici y a-t-il une erreur ? C#mment le savez-vous ?\")\n",
    "s = F(\"Z\") # expected checksum "
   ]
  },
  {
   "cell_type": "markdown",
   "metadata": {},
   "source": [
    "<div class='alert-danger'> <strong> Alerte à la culture! </strong> </div>\n",
    "\n",
    "Notez que si, en plus de détecter la présence d'une erreur dans la chaîne, on sait à quel caractère elle s'est produite, on peut même la corriger automatiquement en lui ajoutant le scalaire approprié ; c'est l'idée de base des codes correcteurs d'erreurs (comme le [code de Reed-Solomon](https://en.wikipedia.org/wiki/Reed%E2%80%93Solomon_error_correction)) qui sont extensivement utilisés dans tous les systèmes de communication modernes."
   ]
  }
 ],
 "metadata": {
  "kernelspec": {
   "display_name": "SageMath 9.5",
   "language": "sage",
   "name": "sagemath"
  },
  "language_info": {
   "codemirror_mode": {
    "name": "ipython",
    "version": 3
   },
   "file_extension": ".py",
   "mimetype": "text/x-python",
   "name": "python",
   "nbconvert_exporter": "python",
   "pygments_lexer": "ipython3",
   "version": "3.10.6"
  }
 },
 "nbformat": 4,
 "nbformat_minor": 4
}
