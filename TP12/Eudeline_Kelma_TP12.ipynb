{
 "cells": [
  {
   "attachments": {},
   "cell_type": "markdown",
   "metadata": {},
   "source": [
    "# TP6 - corps binaires et applications\n",
    "\n",
    "## Partie 1 - un anneau qui a du caractère\n",
    "\n",
    "On va travailler dans un **anneau** (structure algébrique où $+, -, \\times$ sont autorisées) **fini** à $64$ éléments noté $(\\mathbb{F}_{64}, +, \\times)$. Les éléments de $\\mathbb{F}_{64}$ seront informatiquement des instances de la classe ```F``` implémentée ci-dessous. "
   ]
  },
  {
   "cell_type": "code",
   "execution_count": 135,
   "metadata": {},
   "outputs": [],
   "source": [
    "class F(SageObject):\n",
    "    \n",
    "    # names for the 64 elements\n",
    "    # static variables \n",
    "    names = \"01abcdefghijklmnopqrstuvwxyzABCDEFGHIJKLMNOPQRSTUVWXYZ !?-'#$%&@\"\n",
    "    \n",
    "    # create F object associated to character val \n",
    "    def __init__(self, val):\n",
    "        \n",
    "        try:\n",
    "            # id = integer to identify the ring element \n",
    "            self.id = Integer(F.names.index(str(val)))\n",
    "            \n",
    "        except ValueError:\n",
    "            # val is not found in names \n",
    "            raise ValueError(\"Element %s unknown\" % val)\n",
    "            \n",
    "    # F1 == F2 if F1 and F2 have the same id \n",
    "    def __eq__(self, other):\n",
    "        \n",
    "        return self.id == other.id\n",
    "        \n",
    "    def __ne__(self, other):\n",
    "        \n",
    "        return not (self == other)\n",
    "       \n",
    "    # special method to represent an instance of F \n",
    "    def __repr__(self):\n",
    "        \n",
    "        return F.names[self.id]\n",
    "    \n",
    "    # resultat of F1 + F2\n",
    "    def __add__(self, other : 'F'):\n",
    "        \n",
    "        r = F(self)\n",
    "        r += other\n",
    "        return r\n",
    "    \n",
    "    # result of F1 += F2\n",
    "    def __iadd__(self, other):\n",
    "        \n",
    "        # add two objects = bitwise addition on their id \n",
    "        self.id = self.id.__xor__(other.id)\n",
    "        return self\n",
    "    \n",
    "    # method that is used to perform F1 * F2 \n",
    "    def shift(self):\n",
    "        \n",
    "        # append a 0 in the binary representation of self.id \n",
    "        # tmp is an integer coded with 7 bits \n",
    "        tmp = self.id << 1\n",
    "        \n",
    "        # res stores bits associated to 2^6 to 2^0 \n",
    "        res = tmp % 64\n",
    "        \n",
    "        # tmp // 64 stores the bit associated to 2^7  \n",
    "        # if the bit is 1...\n",
    "        if tmp // 64:\n",
    "            \n",
    "            # 1 000 000 is represented by 0 011 011 (why?)\n",
    "            # perform bitwise addition 011 011 + res  \n",
    "            res = res.__xor__(27) \n",
    "            \n",
    "        self.id = res\n",
    "    \n",
    "    # result of F1 * F2 \n",
    "    # magic multiplication \n",
    "    def __mul__(self, other):\n",
    "        \n",
    "        res = F(0)\n",
    "        tmp = F(other)\n",
    "        \n",
    "        # F1 is represented as a binary word \n",
    "        # when a bit is 0, do nothing \n",
    "        # when a bit is 1, add a shifted version of F(other)\n",
    "        for b in self.id.bits():\n",
    "            if b:\n",
    "                res += tmp\n",
    "            tmp.shift()\n",
    "            \n",
    "        return res\n",
    "        \n",
    "    # resultat of F*F*...*F\n",
    "    def __pow__(self, exp):\n",
    "        \n",
    "        res = F(1)\n",
    "        \n",
    "        for i in range(exp):\n",
    "            res = res * self\n",
    "        \n",
    "        return res\n",
    "        \n",
    "F.elements = [F(i) for i in F.names]"
   ]
  },
  {
   "cell_type": "markdown",
   "metadata": {},
   "source": [
    "### a) C'est un anneau commutatif"
   ]
  },
  {
   "attachments": {},
   "cell_type": "markdown",
   "metadata": {},
   "source": [
    "Vérifier explicitement (par *force brute*) que **tous** les axiomes d'anneau commutatif sont satisfaits pour cette structure algébrique."
   ]
  },
  {
   "cell_type": "code",
   "execution_count": 136,
   "metadata": {},
   "outputs": [],
   "source": [
    "alpha = choice(F.elements)  # random element, run again for another one\n",
    "beta = choice(F.elements)  # random element, run again for another one\n",
    "gamma = choice(F.elements)  # random element, run again for another one"
   ]
  },
  {
   "cell_type": "code",
   "execution_count": 137,
   "metadata": {},
   "outputs": [
    {
     "name": "stdout",
     "output_type": "stream",
     "text": [
      "F est une lci pour \"+\" : True\n",
      "F est une lci pour \"*\" : True\n"
     ]
    }
   ],
   "source": [
    "# Test lci\n",
    "print(f\"F est une lci pour \\\"+\\\" : {(alpha + beta) in F.elements}\")\n",
    "print(f\"F est une lci pour \\\"*\\\" : {(alpha * beta) in F.elements}\")"
   ]
  },
  {
   "cell_type": "code",
   "execution_count": 138,
   "metadata": {},
   "outputs": [
    {
     "name": "stdout",
     "output_type": "stream",
     "text": [
      "F est associatif pour \"+\" : True\n",
      "F est associatif pour \"*\" : True\n"
     ]
    }
   ],
   "source": [
    "# Test associativité\n",
    "print(f\"F est associatif pour \\\"+\\\" : {(alpha + beta) + gamma == alpha + (beta + gamma)}\")\n",
    "print(f\"F est associatif pour \\\"*\\\" : {(alpha * beta) * gamma == alpha * (beta * gamma)}\")"
   ]
  },
  {
   "cell_type": "code",
   "execution_count": 139,
   "metadata": {},
   "outputs": [
    {
     "name": "stdout",
     "output_type": "stream",
     "text": [
      "F est commutatif pour \"+\" : True\n",
      "F est commutatif pour \"*\" : True\n"
     ]
    }
   ],
   "source": [
    "# Test commutativité\n",
    "print(f\"F est commutatif pour \\\"+\\\" : {alpha + beta == beta + alpha}\")\n",
    "print(f\"F est commutatif pour \\\"*\\\" : {alpha * beta == beta * alpha}\")"
   ]
  },
  {
   "cell_type": "code",
   "execution_count": 140,
   "metadata": {},
   "outputs": [
    {
     "name": "stdout",
     "output_type": "stream",
     "text": [
      "F a un élément neutre pour \"+\" : True\n",
      "F a un élément neutre pour \"*\" : True\n"
     ]
    }
   ],
   "source": [
    "# Test neutre\n",
    "print(f\"F a un élément neutre pour \\\"+\\\" : {(alpha + F(0)) == alpha}\")\n",
    "print(f\"F a un élément neutre pour \\\"*\\\" : {(alpha * F(1)) == alpha}\")"
   ]
  },
  {
   "cell_type": "code",
   "execution_count": 141,
   "metadata": {},
   "outputs": [
    {
     "name": "stdout",
     "output_type": "stream",
     "text": [
      "F a un élément opposé pour \"+\" : True\n"
     ]
    }
   ],
   "source": [
    "# Test opposé\n",
    "print(f\"F a un élément opposé pour \\\"+\\\" : {(alpha + alpha) == F(0)}\")"
   ]
  },
  {
   "cell_type": "code",
   "execution_count": 142,
   "metadata": {},
   "outputs": [
    {
     "name": "stdout",
     "output_type": "stream",
     "text": [
      "F est distributif pour \"*\" : True\n"
     ]
    }
   ],
   "source": [
    "# Test \"*\" est distributif par rapport à \"+\"\n",
    "print(f\"F est distributif pour \\\"*\\\" : {(alpha * (beta + gamma)) == (alpha * beta) + (alpha * gamma)}\")"
   ]
  },
  {
   "cell_type": "markdown",
   "metadata": {},
   "source": [
    "### b) Inverse d'un élément"
   ]
  },
  {
   "attachments": {},
   "cell_type": "markdown",
   "metadata": {},
   "source": [
    "Soit $m$ la somme des numéros des mois de naissance des membres du binôme et $\\zeta$ l'élément `F.elements[m]` de $\\mathbb{F}_{64}$. Vérifiez que $\\zeta$ est inversible en recherchant par force brute son inverse parmi les éléments de $\\mathbb{F}_{64}$."
   ]
  },
  {
   "cell_type": "code",
   "execution_count": 143,
   "metadata": {},
   "outputs": [
    {
     "name": "stdout",
     "output_type": "stream",
     "text": [
      "zeta = k\n",
      "L'inverse de \"k\" est \"E\" : k * E = 1\n"
     ]
    }
   ],
   "source": [
    "# Trouver l'inverse de zeta\n",
    "zeta = F.elements[10 + 2] # Octobre + Fevrier\n",
    "print(f\"zeta = {zeta}\")\n",
    "\n",
    "# On cherche l'inverse de zeta en testant tous les éléments de F si zeta * x = 1\n",
    "izeta = [x for x in F.elements if x * zeta == F(1)][0]\n",
    "\n",
    "print(f\"L'inverse de \\\"{zeta}\\\" est \\\"{izeta}\\\" : {zeta} * {izeta} = {zeta * F(izeta)}\")"
   ]
  },
  {
   "cell_type": "markdown",
   "metadata": {},
   "source": [
    "### c) Structure multiplicative"
   ]
  },
  {
   "attachments": {},
   "cell_type": "markdown",
   "metadata": {},
   "source": [
    "- Déterminer l'ordre multiplicatif de l'élément $\\mathtt{a}$"
   ]
  },
  {
   "cell_type": "code",
   "execution_count": 144,
   "metadata": {},
   "outputs": [
    {
     "name": "stdout",
     "output_type": "stream",
     "text": [
      "a^1 = a\n",
      "a^2 = c\n",
      "a^3 = g\n",
      "a^4 = o\n",
      "a^5 = E\n",
      "a^6 = z\n",
      "a^7 =  \n",
      "a^8 = !\n",
      "a^9 = Z\n",
      "a^10 = V\n",
      "a^11 = -\n",
      "a^12 = N\n",
      "a^13 = h\n",
      "a^14 = q\n",
      "a^15 = I\n",
      "a^16 = r\n",
      "a^17 = K\n",
      "a^18 = v\n",
      "a^19 = S\n",
      "a^20 = f\n",
      "a^21 = m\n",
      "a^22 = A\n",
      "a^23 = ?\n",
      "a^24 = P\n",
      "a^25 = l\n",
      "a^26 = y\n",
      "a^27 = Y\n",
      "a^28 = X\n",
      "a^29 = %\n",
      "a^30 = F\n",
      "a^31 = x\n",
      "a^32 = W\n",
      "a^33 = @\n",
      "a^34 = J\n",
      "a^35 = p\n",
      "a^36 = G\n",
      "a^37 = D\n",
      "a^38 = &\n",
      "a^39 = L\n",
      "a^40 = t\n",
      "a^41 = O\n",
      "a^42 = n\n",
      "a^43 = C\n",
      "a^44 = $\n",
      "a^45 = H\n",
      "a^46 = B\n",
      "a^47 = '\n",
      "a^48 = T\n",
      "a^49 = d\n",
      "a^50 = i\n",
      "a^51 = s\n",
      "a^52 = M\n",
      "a^53 = j\n",
      "a^54 = u\n",
      "a^55 = Q\n",
      "a^56 = b\n",
      "a^57 = e\n",
      "a^58 = k\n",
      "a^59 = w\n",
      "a^60 = U\n",
      "a^61 = #\n",
      "a^62 = R\n",
      "a^63 = 1\n",
      "L'ordre multiplicatif de \"a\" est 63\n"
     ]
    }
   ],
   "source": [
    "# Determiner l'ordre multiplicatif de alpha\n",
    "\n",
    "alpha = F(\"a\")\n",
    "count = 1\n",
    "beta = alpha\n",
    "while beta != F(1):\n",
    "    beta = alpha ** count\n",
    "    print(f\"{alpha}^{count} = {beta}\")\n",
    "    count += 1\n",
    "count -= 1 # count is incremented one time too much\n",
    "print(f\"L'ordre multiplicatif de \\\"{alpha}\\\" est {count}\")"
   ]
  },
  {
   "attachments": {},
   "cell_type": "markdown",
   "metadata": {},
   "source": [
    "- En déduire que tous les éléments de $\\mathbb{F}_{64}$ (sauf le neutre additif) sont inversibles. \n",
    "\n",
    "Notre ordre multiplicatif est donc 63, ce qui signifie qu'on a 63 élements inversible donc que tous les éléments de $\\mathbb{F}_{64}$ sont inversibles sauf le neutre additif.\n"
   ]
  },
  {
   "attachments": {},
   "cell_type": "markdown",
   "metadata": {},
   "source": [
    "- En partant de $\\mathtt{a}^{-1} = \\mathtt{R}$, déterminer astucieusement (donc pas par force brute) l'inverse de $\\zeta$\n",
    "\n",
    "On remarque que $\\mathtt{a}^{-1} = \\mathtt{R} = \\mathtt{a}^{62}$ donc $\\mathtt{\\zeta}^{-1} = \\mathtt{\\zeta}^{62}$"
   ]
  },
  {
   "cell_type": "code",
   "execution_count": 145,
   "metadata": {},
   "outputs": [
    {
     "name": "stdout",
     "output_type": "stream",
     "text": [
      "L'inverse de \"k\" est \"E\" : k * E = 1\n"
     ]
    }
   ],
   "source": [
    "izeta = zeta ** 62\n",
    "print(f\"L'inverse de \\\"{zeta}\\\" est \\\"{izeta}\\\" : {zeta} * {izeta} = {zeta * F(izeta)}\")"
   ]
  },
  {
   "cell_type": "markdown",
   "metadata": {},
   "source": [
    "### d) Solutions d'une équation polynomiale"
   ]
  },
  {
   "attachments": {},
   "cell_type": "markdown",
   "metadata": {},
   "source": [
    "- Déterminer les racines dans $\\mathbb{F}_{64}$ du polynôme $X^6 + X^4 + X^3 + X + 1 \\in \\mathbb{F}_2[X]$"
   ]
  },
  {
   "cell_type": "code",
   "execution_count": 146,
   "metadata": {},
   "outputs": [
    {
     "name": "stdout",
     "output_type": "stream",
     "text": [
      "Les racines du polynome sont [a, c, o, r, W, !]\n"
     ]
    }
   ],
   "source": [
    "def poly(x):\n",
    "    return x**6 + x**4 + x**3 + x + F(1)\n",
    "\n",
    "root = [x for x in F.elements if poly(x) == F(0)]\n",
    "\n",
    "print(f\"Les racines du polynome sont {root}\")"
   ]
  },
  {
   "attachments": {},
   "cell_type": "markdown",
   "metadata": {},
   "source": [
    "- Expliquer comment cela permet de se convaincre que chaque élément de $\\mathbb{F}_{64}$ peut s'écrire, de façon unique, sous la forme d'une expression de la forme\n",
    "\n",
    "    $$ \\boxed{b_5 \\mathtt{a}^5 + b_4 \\mathtt{a}^4 + b_3 \\mathtt{a}^3 + b_2 \\mathtt{a}^2 + b_1 \\mathtt{a} + b_0} $$\n",
    "\n",
    "    avec $(b_0, \\ldots, b_5) \\in \\mathbb{F}_2^6$\n",
    "\n",
    "Comme on sait que $x + x = 0$ avec $x \\in \\mathbb{F}_{64}$, ça implique que $a^6 = a^4 + a^3 + a + 1$, donc ici $b_5 = 0$, $b_4 = 1$, $b_3 = 1$, $b_2 = 0$, $b_1 = 1$, $b_0 = 1$. \n",
    "\n",
    "C'est comme si on l'écrivait sous la forme d'un nombre binaire à 6 chiffres. $a^6 = z = 011011$\n"
   ]
  },
  {
   "cell_type": "code",
   "execution_count": 147,
   "metadata": {},
   "outputs": [],
   "source": [
    "def unique(b5, b4, b3, b2, b1, b0):\n",
    "    return F(b0) + F(b1) * F('a') + F(b2) * F('a')**2 + F(b3) * F('a')**3 + F(b4) * F('a')**4 + F(b5) * F('a')**5 "
   ]
  },
  {
   "cell_type": "code",
   "execution_count": 148,
   "metadata": {},
   "outputs": [
    {
     "data": {
      "text/plain": [
       "z"
      ]
     },
     "execution_count": 148,
     "metadata": {},
     "output_type": "execute_result"
    }
   ],
   "source": [
    "unique(0, 1, 1, 0, 1, 1)"
   ]
  },
  {
   "attachments": {},
   "cell_type": "markdown",
   "metadata": {},
   "source": [
    "- Quelle est l'écriture correspondante pour votre élément $\\zeta$ ci-dessus ?"
   ]
  },
  {
   "cell_type": "code",
   "execution_count": 149,
   "metadata": {},
   "outputs": [
    {
     "name": "stdout",
     "output_type": "stream",
     "text": [
      "zeta = k\n"
     ]
    },
    {
     "data": {
      "text/plain": [
       "58"
      ]
     },
     "execution_count": 149,
     "metadata": {},
     "output_type": "execute_result"
    }
   ],
   "source": [
    "print(f\"zeta = {zeta}\")\n",
    "count = 1\n",
    "while F('a') ** count != F('k'):\n",
    "    count += 1\n",
    "count"
   ]
  },
  {
   "cell_type": "code",
   "execution_count": 150,
   "metadata": {},
   "outputs": [
    {
     "name": "stdout",
     "output_type": "stream",
     "text": [
      "unique(0, 0, 1, 1, 0, 0) = k\n"
     ]
    }
   ],
   "source": [
    "# choose every combinasion of six elements of [0,1] then test if unique(them) == k\n",
    "for b5 in [0,1]:\n",
    "    for b4 in [0,1]:\n",
    "        for b3 in [0,1]:\n",
    "            for b2 in [0,1]:\n",
    "                for b1 in [0,1]:\n",
    "                    for b0 in [0,1]:\n",
    "                        if unique(b5, b4, b3, b2, b1, b0) == F('k'):\n",
    "                            print(f\"unique({b5}, {b4}, {b3}, {b2}, {b1}, {b0}) = {F('k')}\")"
   ]
  },
  {
   "attachments": {},
   "cell_type": "markdown",
   "metadata": {},
   "source": [
    "Pour notre élément $\\zeta$, on a $b_5 = 0$, $b_4 = 0$, $b_3 = 1$, $b_2 = 1$, $b_1 = 0$, $b_0 = 0$.  \n",
    "Ou $\\zeta = a^3 + a^2$"
   ]
  },
  {
   "cell_type": "markdown",
   "metadata": {},
   "source": [
    "## Partie 2 - chaînes de caractères et applications\n",
    "\n",
    "Les éléments de $\\mathbb{F}_{64}$ étant des caractères, on considérer une chaîne de caractères de longueur $n$ comme un élément de $\\mathbb{F}_{64}^n$. Voici un début de classe permettant de considérer une chaîne de caractères (admissibles) comme une liste d'élémentsde $\\mathbb{F}_{64}$."
   ]
  },
  {
   "cell_type": "code",
   "execution_count": 151,
   "metadata": {},
   "outputs": [],
   "source": [
    "class V(SageObject):\n",
    "    \n",
    "    # constructor \n",
    "    # s is a string of eligible characters \n",
    "    def __init__(self, s):\n",
    "        \n",
    "        self.coeffs = [ F(c) for c in s ]\n",
    "        \n",
    "    # representation of a V object \n",
    "    def __repr__(self):\n",
    "        \n",
    "        return \"\".join([c.__repr__() for c in self.coeffs])\n",
    "    \n",
    "    # result of V1 == V2 \n",
    "    def __eq__(self, other):\n",
    "        \n",
    "        return self.coeffs == other.coeffs\n",
    "   \n",
    "    # length of s\n",
    "    def __len__(self):\n",
    "        \n",
    "        return len(self.coeffs)\n",
    "    \n",
    "    # somme terme à terme\n",
    "    def __add__(self, other):\n",
    "        if len(self) != len(other):\n",
    "            raise ValueError(\"Les mots de code ne sont pas de même longueur\")\n",
    "        res = V(\"\")\n",
    "        for i in range(len(self)):\n",
    "            res.coeffs.append(self.coeffs[i] + other.coeffs[i])\n",
    "        return res\n",
    "\n",
    "    \n",
    "    def controle(self):\n",
    "        \"\"\"Donne le charactère de contrôle d'un mot de code\"\"\"\n",
    "        c = F(0)\n",
    "        for i in self.coeffs:\n",
    "            c += i\n",
    "        return c  "
   ]
  },
  {
   "cell_type": "markdown",
   "metadata": {},
   "source": [
    "### a) Somme de vecteurs"
   ]
  },
  {
   "attachments": {},
   "cell_type": "markdown",
   "metadata": {},
   "source": [
    "- Ajouter à la classe `V` une méthode `__add__` permettant de faire la somme **terme à terme** de deux chaînes de caractères de même longueur.\n",
    "\n",
    "J'ai ajouté la méthode `__add__` à la classe `V` qui permet de faire la somme terme à terme de deux chaînes de caractères de même longueur.\n",
    "```python\n",
    "    def __add__(self, other):\n",
    "        if len(self) != len(other):\n",
    "            raise ValueError(\"Les mots de code ne sont pas de même longueur\")\n",
    "        res = V(\"\")\n",
    "        for i in range(len(self)):\n",
    "            res.coeffs.append(self.coeffs[i] + other.coeffs[i])\n",
    "        return res\n",
    "```"
   ]
  },
  {
   "cell_type": "code",
   "execution_count": 152,
   "metadata": {},
   "outputs": [
    {
     "name": "stdout",
     "output_type": "stream",
     "text": [
      "V(\"ceci\") + V(\"cela\") == V(\"00hg\") : True\n",
      "V(\"CECI\") + V(\"cela\") == V(\"yKrK\") : True\n",
      "V(\"ceci\") + V(\"CELA\") == V(\"yKHu\") : True\n",
      "V(\"CECI\") + V(\"CELA\") == V(\"00-?\") : True\n"
     ]
    }
   ],
   "source": [
    "print(f\"V(\\\"ceci\\\") + V(\\\"cela\\\") == V(\\\"00hg\\\") : {V('ceci') + V('cela') == V('00hg')}\")\n",
    "print(f\"V(\\\"CECI\\\") + V(\\\"cela\\\") == V(\\\"yKrK\\\") : {V('CECI') + V('cela') == V('yKrK')}\")\n",
    "print(f\"V(\\\"ceci\\\") + V(\\\"CELA\\\") == V(\\\"yKHu\\\") : {V('ceci') + V('CELA') == V('yKHu')}\")\n",
    "print(f\"V(\\\"CECI\\\") + V(\\\"CELA\\\") == V(\\\"00-?\\\") : {V('CECI') + V('CELA') == V('00-?')}\")\n"
   ]
  },
  {
   "cell_type": "markdown",
   "metadata": {},
   "source": [
    "### b) Chiffrement à clé secrète"
   ]
  },
  {
   "cell_type": "markdown",
   "metadata": {},
   "source": [
    "On peut utiliser l'addition de chaînes de caractères ainsi définie pour garantir la confidentialité d'une chaîne de caractères donnée. Par exemple : soit le message clair `m` ci-dessous. "
   ]
  },
  {
   "cell_type": "code",
   "execution_count": 153,
   "metadata": {},
   "outputs": [],
   "source": [
    "m = V(\"Texte clair\")"
   ]
  },
  {
   "cell_type": "markdown",
   "metadata": {},
   "source": [
    "On peut le rendre inintelligible par un tiers en le masquant à l'aide d'une clé secrète `k` générée aléatoirement: "
   ]
  },
  {
   "cell_type": "code",
   "execution_count": 154,
   "metadata": {},
   "outputs": [],
   "source": [
    "k = V(\"kqaS%LAKVw'\")"
   ]
  },
  {
   "cell_type": "markdown",
   "metadata": {},
   "source": [
    "On obtient alors la chaîne incompréhensible suivante calculant la *somme* `c` de `m` et `k`: "
   ]
  },
  {
   "cell_type": "code",
   "execution_count": 155,
   "metadata": {},
   "outputs": [],
   "source": [
    "c = V(\"Hsz##pwPXqN\")"
   ]
  },
  {
   "attachments": {},
   "cell_type": "markdown",
   "metadata": {},
   "source": [
    "<div class='alert-danger'> <strong> Alerte à la question! </strong> </div>\n",
    "\n",
    "En utilisant les propriétés de $\\mathbb{F}_{64}$: \n",
    "- indiquer comment déchiffrer le code si la clé est connu \n",
    "\n",
    "Pour coder on fait m + k, pour décoder on fait c - k mais comme on est dans $\\mathbb{F}_{64}$, on sais que + = - donc on fait c + k"
   ]
  },
  {
   "cell_type": "code",
   "execution_count": 156,
   "metadata": {},
   "outputs": [
    {
     "name": "stdout",
     "output_type": "stream",
     "text": [
      "Pour m = Texte clair, k = kqaS%LAKVw', c = Hsz##pwPXqN, c = m + k : True\n",
      "Pour m = Texte clair, k = kqaS%LAKVw', c = Hsz##pwPXqN, m = c + k : True\n"
     ]
    }
   ],
   "source": [
    "print(f\"Pour m = {m}, k = {k}, c = {c}, c = m + k : {c == m + k}\")\n",
    "print(f\"Pour m = {m}, k = {k}, c = {c}, m = c + k : {m == c + k}\")"
   ]
  },
  {
   "attachments": {},
   "cell_type": "markdown",
   "metadata": {},
   "source": [
    "- déchiffrer le message `V(\"Kcgw&YCVFSl\")` codé avec la même clé "
   ]
  },
  {
   "cell_type": "code",
   "execution_count": 157,
   "metadata": {},
   "outputs": [
    {
     "name": "stdout",
     "output_type": "stream",
     "text": [
      "Le message décodé est : Oui bravo !\n"
     ]
    }
   ],
   "source": [
    "m_code = V(\"Kcgw&YCVFSl\")\n",
    "print(f\"Le message décodé est : {m_code + k}\")"
   ]
  },
  {
   "cell_type": "markdown",
   "metadata": {},
   "source": [
    "### c) Détection d'erreurs"
   ]
  },
  {
   "attachments": {},
   "cell_type": "markdown",
   "metadata": {},
   "source": [
    "- Implémenter une fonction pour calculer la somme de contrôle d'un élément de $\\mathbb{F}_{64}^n$. Déterminer la somme de contrôle de la phrase `It's burger time!` \n",
    "\n",
    "J'ai ici implémenté une fonction qui calcule la somme de contrôle d'un élément de $\\mathbb{F}_{64}^n$. Elle fait la somme de tous les caractères de la phrase.\n",
    "```python\n",
    "    def controle(self):\n",
    "        \"\"\"Donne le charactère de contrôle d'un mot de code\"\"\"\n",
    "        c = F(0)\n",
    "        for i in self.coeffs:\n",
    "            c += i\n",
    "        return c  \n",
    "```"
   ]
  },
  {
   "cell_type": "code",
   "execution_count": 158,
   "metadata": {},
   "outputs": [
    {
     "data": {
      "text/plain": [
       "q"
      ]
     },
     "execution_count": 158,
     "metadata": {},
     "output_type": "execute_result"
    }
   ],
   "source": [
    "message = V(\"It's burger time !\")\n",
    "message.controle()"
   ]
  },
  {
   "cell_type": "markdown",
   "metadata": {},
   "source": [
    "<div class='alert-danger'> <strong> Alerte à la question! </strong> </div>\n",
    "\n",
    "On peut détecter des erreurs si la somme de contrôle calculée ne correspond pas à la somme de contrôle attendue. Comprenez-le avec l'exemple ci-dessous. "
   ]
  },
  {
   "cell_type": "code",
   "execution_count": 159,
   "metadata": {},
   "outputs": [],
   "source": [
    "v = V(\"Ici y a-t-il une erreur ? C#mment le savez-vous ?\")\n",
    "s = F(\"Z\") # expected checksum "
   ]
  },
  {
   "cell_type": "code",
   "execution_count": 160,
   "metadata": {},
   "outputs": [
    {
     "name": "stdout",
     "output_type": "stream",
     "text": [
      "La valeur de contrôle de v est C : False\n"
     ]
    }
   ],
   "source": [
    "v_controle = v.controle()\n",
    "\n",
    "print(f\"La valeur de contrôle de v est {v_controle} : {v_controle == s}\")"
   ]
  },
  {
   "attachments": {},
   "cell_type": "markdown",
   "metadata": {},
   "source": [
    "On voit donc que notre controle ne valide pas le checksum, ça signifie qu'il y a une erreur dans le message."
   ]
  },
  {
   "cell_type": "code",
   "execution_count": 161,
   "metadata": {},
   "outputs": [
    {
     "name": "stdout",
     "output_type": "stream",
     "text": [
      "La valeur de contrôle de v_good est Z : True\n"
     ]
    }
   ],
   "source": [
    "v_good = V(\"Ici y a-t-il une erreur ? Comment le savez-vous ?\")\n",
    "v_good_controle = v_good.controle()\n",
    "\n",
    "print(f\"La valeur de contrôle de v_good est {v_good_controle} : {v_good_controle == s}\")"
   ]
  },
  {
   "attachments": {},
   "cell_type": "markdown",
   "metadata": {},
   "source": [
    "Avec cette fois un message sans erreur, on voit que le checksum est valide."
   ]
  }
 ],
 "metadata": {
  "kernelspec": {
   "display_name": "SageMath 9.6",
   "language": "sage",
   "name": "sagemath"
  },
  "language_info": {
   "codemirror_mode": {
    "name": "ipython",
    "version": 3
   },
   "file_extension": ".py",
   "mimetype": "text/x-python",
   "name": "python",
   "nbconvert_exporter": "python",
   "pygments_lexer": "ipython3",
   "version": "3.10.10"
  }
 },
 "nbformat": 4,
 "nbformat_minor": 4
}
